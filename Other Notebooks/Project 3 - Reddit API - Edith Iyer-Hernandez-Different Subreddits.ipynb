{
 "cells": [
  {
   "cell_type": "markdown",
   "metadata": {},
   "source": [
    "# Project 3: Reddit API\n",
    "# Binary Comparison - Ask Women vs. Ask Men\n",
    "### Edith Iyer-Hernandez\n",
    "#### Due Friday, December 21st"
   ]
  },
  {
   "cell_type": "markdown",
   "metadata": {},
   "source": [
    "### Table of Contents\n",
    "\n",
    "- Executive Summary\n",
    "    - Problem Statement\n",
    "    - Data Description\n",
    "    - Model Selection and Performance\n",
    "    - Findings and Recommendations\n",
    "- Data Collection\n",
    "- Data Cleaning and EDA\n",
    "- Preprocessing & Modeling\n",
    "- Evaluation and Conceptual Understanding\n",
    "- Conclusion and Recommendations"
   ]
  },
  {
   "cell_type": "markdown",
   "metadata": {},
   "source": [
    "## Executive Summary"
   ]
  },
  {
   "cell_type": "code",
   "execution_count": null,
   "metadata": {},
   "outputs": [],
   "source": []
  },
  {
   "cell_type": "markdown",
   "metadata": {},
   "source": [
    "## Data Collection"
   ]
  },
  {
   "cell_type": "code",
   "execution_count": 1,
   "metadata": {},
   "outputs": [],
   "source": [
    "import requests\n",
    "import time\n",
    "import pandas as pd"
   ]
  },
  {
   "cell_type": "code",
   "execution_count": 2,
   "metadata": {},
   "outputs": [],
   "source": [
    "#Create Own User Agent\n",
    "headers = {'User-agent': 'Women'}"
   ]
  },
  {
   "cell_type": "code",
   "execution_count": 3,
   "metadata": {},
   "outputs": [],
   "source": [
    "#Create a function to scrape\n",
    "def scrape_reddit(url, length):\n",
    "    posts = []                 #list of posts\n",
    "    after = None               #create a variable for afters\n",
    "    for i in range(length):    #iterate through a number of times \n",
    "        if after == None:      \n",
    "            params = {}        #params will automatically add the '?after='after'' to the url\n",
    "        else:\n",
    "            params = {'after': after} #The after will be pulled from the json page\n",
    "            \n",
    "        res = requests.get(url, params = params, headers = headers) #variable that will request the json of the inputted url, params and headers\n",
    "        print(params)               #print params to ensure that all are unique\n",
    "        if res.status_code == 200:  #Create if statement to handle errors\n",
    "            the_json = res.json()   #create a json\n",
    "            posts.extend(the_json['data']['children']) #add the desired information to the posts list\n",
    "            after = the_json['data']['after'] #determine the after to use in the next iteration\n",
    "        else:                     \n",
    "            print(res.status_code) #else statement to handle a non 200 status_code\n",
    "        time.sleep(2)              #sleep for 2 seconds in between scrapes\n",
    "    \n",
    " \n",
    "    return posts"
   ]
  },
  {
   "cell_type": "code",
   "execution_count": 7,
   "metadata": {
    "scrolled": true
   },
   "outputs": [
    {
     "name": "stdout",
     "output_type": "stream",
     "text": [
      "{}\n",
      "{'after': 't3_a68kdp'}\n",
      "{'after': 't3_a3enpg'}\n",
      "{'after': 't3_a26tia'}\n",
      "{'after': 't3_a09ymi'}\n",
      "{'after': 't3_9ymiz1'}\n",
      "{'after': 't3_9vj779'}\n",
      "{'after': 't3_9tepx3'}\n",
      "{'after': 't3_9r3ain'}\n",
      "{'after': 't3_9ofpz9'}\n",
      "{'after': 't3_9mgfur'}\n",
      "{'after': 't3_9l5o9r'}\n",
      "{'after': 't3_9jxawp'}\n",
      "{'after': 't3_9is9ue'}\n",
      "{'after': 't3_9gtpra'}\n",
      "{'after': 't3_9edlv2'}\n",
      "{'after': 't3_9blyvy'}\n",
      "{'after': 't3_98nq1y'}\n",
      "{'after': 't3_96634h'}\n",
      "{'after': 't3_93p2rv'}\n",
      "{'after': 't3_91tec9'}\n",
      "{'after': 't3_8yvwcy'}\n",
      "{'after': 't3_8whnvm'}\n",
      "{'after': 't3_8ul9v0'}\n",
      "{'after': 't3_8s8c6s'}\n",
      "{'after': 't3_8ou7m1'}\n",
      "{'after': 't3_8m5tvb'}\n",
      "{'after': 't3_8ky873'}\n",
      "{'after': 't3_8j4z73'}\n",
      "{'after': 't3_8gzfh3'}\n",
      "{'after': 't3_8etreq'}\n",
      "{'after': 't3_8bro08'}\n",
      "{'after': 't3_8afogw'}\n",
      "{}\n",
      "{'after': 't3_a68kdp'}\n",
      "{'after': 't3_a3enpg'}\n",
      "{'after': 't3_a26tia'}\n",
      "{'after': 't3_a09ymi'}\n",
      "{'after': 't3_9ymiz1'}\n",
      "{'after': 't3_9vj779'}\n"
     ]
    }
   ],
   "source": [
    "women = scrape_reddit('https://www.reddit.com/r/women.json', 40) #set variable"
   ]
  },
  {
   "cell_type": "code",
   "execution_count": null,
   "metadata": {},
   "outputs": [],
   "source": [
    "askwomen = scrape_reddit('https://www.reddit.com/r/AskWomen.json', 40) #set variable"
   ]
  },
  {
   "cell_type": "code",
   "execution_count": 12,
   "metadata": {},
   "outputs": [
    {
     "name": "stdout",
     "output_type": "stream",
     "text": [
      "{}\n",
      "{'after': 't3_a6t0wj'}\n",
      "{'after': 't3_a63xfx'}\n",
      "{'after': 't3_a5c7ev'}\n",
      "{'after': 't3_a4pq0t'}\n",
      "{'after': 't3_a3nr1k'}\n",
      "{'after': 't3_a34nvs'}\n",
      "{'after': 't3_a20q7n'}\n",
      "{'after': 't3_a1p0in'}\n",
      "{'after': 't3_a0vy8k'}\n",
      "{'after': 't3_a0buwk'}\n",
      "{'after': 't3_9z5jee'}\n",
      "{'after': 't3_9y6tmz'}\n",
      "{'after': 't3_9xxjsb'}\n",
      "{'after': 't3_9x0k6p'}\n",
      "{'after': 't3_9wj48k'}\n",
      "{'after': 't3_9vqrqv'}\n",
      "{'after': 't3_9upq3h'}\n",
      "{'after': 't3_9u2ua5'}\n",
      "{'after': 't3_9tlrdj'}\n",
      "{'after': 't3_9slbj0'}\n",
      "{}\n",
      "{'after': 't3_a6t0wj'}\n",
      "{'after': 't3_a63xfx'}\n",
      "{'after': 't3_a5c7ev'}\n",
      "{'after': 't3_a4pq0t'}\n",
      "{'after': 't3_a3nr1k'}\n",
      "{'after': 't3_a34nvs'}\n",
      "{'after': 't3_a20q7n'}\n",
      "{'after': 't3_a1p0in'}\n",
      "{'after': 't3_a0vy8k'}\n",
      "{'after': 't3_a0buwk'}\n",
      "{'after': 't3_9z5jee'}\n",
      "{'after': 't3_9y6tmz'}\n",
      "{'after': 't3_9xxjsb'}\n",
      "{'after': 't3_9x0k6p'}\n",
      "{'after': 't3_9wj48k'}\n",
      "{'after': 't3_9vqrqv'}\n",
      "{'after': 't3_9upq3h'}\n",
      "{'after': 't3_9u2ua5'}\n"
     ]
    }
   ],
   "source": [
    "feminism = scrape_reddit('https://www.reddit.com/r/feminism.json', 40)"
   ]
  },
  {
   "cell_type": "code",
   "execution_count": 23,
   "metadata": {},
   "outputs": [],
   "source": [
    "#Create LOTR DF\n",
    "women_df = pd.DataFrame([lotr[i]['data'] for i in list(range(len(women)))])"
   ]
  },
  {
   "cell_type": "code",
   "execution_count": 11,
   "metadata": {},
   "outputs": [
    {
     "name": "stdout",
     "output_type": "stream",
     "text": [
      "{}\n",
      "{'after': 't3_9yft7w'}\n",
      "{'after': 't3_9omfzq'}\n",
      "{'after': 't3_9i008k'}\n",
      "{'after': 't3_9466uo'}\n",
      "{'after': 't3_8tjjua'}\n",
      "{'after': 't3_8mofjb'}\n",
      "{'after': 't3_85u5aq'}\n",
      "{'after': 't3_7lmam8'}\n",
      "{'after': 't3_75dnnl'}\n",
      "{'after': 't3_5ttu5b'}\n",
      "{'after': 't3_4d5bzy'}\n",
      "{'after': 't3_3mn568'}\n",
      "{'after': 't3_344bo6'}\n",
      "{'after': 't3_2szqpe'}\n",
      "{'after': 't3_2m2y9l'}\n",
      "{'after': 't3_2cnr2n'}\n",
      "{'after': 't3_25vxpo'}\n",
      "{'after': 't3_1qqoer'}\n",
      "{'after': 't3_1bxwrp'}\n",
      "{}\n",
      "{'after': 't3_9yft7w'}\n",
      "{'after': 't3_9omfzq'}\n",
      "{'after': 't3_9i008k'}\n",
      "{'after': 't3_9466uo'}\n",
      "{'after': 't3_8tjjua'}\n",
      "{'after': 't3_8mofjb'}\n",
      "{'after': 't3_85u5aq'}\n",
      "{'after': 't3_7lmam8'}\n",
      "{'after': 't3_75dnnl'}\n",
      "{'after': 't3_5ttu5b'}\n",
      "{'after': 't3_4d5bzy'}\n",
      "{'after': 't3_3mn568'}\n",
      "{'after': 't3_344bo6'}\n",
      "{'after': 't3_2szqpe'}\n",
      "{'after': 't3_2m2y9l'}\n",
      "{'after': 't3_2cnr2n'}\n",
      "{'after': 't3_25vxpo'}\n",
      "{'after': 't3_1qqoer'}\n",
      "{'after': 't3_1bxwrp'}\n"
     ]
    }
   ],
   "source": [
    "#Scrape ASOIAF subreddit\n",
    "men = scrape_reddit('https://www.reddit.com/r/men.json', 40)"
   ]
  },
  {
   "cell_type": "code",
   "execution_count": 13,
   "metadata": {
    "scrolled": true
   },
   "outputs": [
    {
     "name": "stdout",
     "output_type": "stream",
     "text": [
      "{}\n",
      "{'after': 't3_a7huf2'}\n",
      "{'after': 't3_a7d6ls'}\n",
      "{'after': 't3_a73zet'}\n",
      "{'after': 't3_a6reu1'}\n",
      "{'after': 't3_a6cjzj'}\n",
      "{'after': 't3_a6by36'}\n",
      "{'after': 't3_a62vv4'}\n",
      "{'after': 't3_a5cyck'}\n",
      "{'after': 't3_a5mjet'}\n",
      "{'after': 't3_a5dgv2'}\n",
      "{'after': 't3_a52rwh'}\n",
      "{'after': 't3_a4pb21'}\n",
      "{'after': 't3_a4f0zn'}\n",
      "{'after': 't3_a46z96'}\n",
      "{'after': 't3_a3ys8h'}\n",
      "{'after': 't3_a3ruv1'}\n",
      "{'after': 't3_a3igwm'}\n",
      "{'after': 't3_a39nl5'}\n",
      "{'after': 't3_a30vih'}\n",
      "{'after': 't3_a2twse'}\n",
      "{'after': 't3_a2ml24'}\n",
      "{'after': 't3_a2b800'}\n",
      "{'after': 't3_a1xb4e'}\n",
      "{'after': 't3_a1o0vn'}\n",
      "{'after': 't3_a195lo'}\n",
      "{'after': 't3_a14pc8'}\n",
      "{'after': 't3_a0ukvw'}\n",
      "{'after': 't3_a0m1ei'}\n",
      "{'after': 't3_a04fvw'}\n",
      "{'after': 't3_9zn92s'}\n",
      "{'after': 't3_9zfb6a'}\n",
      "{'after': 't3_9z89q4'}\n",
      "{'after': 't3_9ytlre'}\n",
      "{'after': 't3_9ysqpu'}\n",
      "{'after': 't3_9yczza'}\n",
      "{'after': 't3_9xzwn8'}\n",
      "{'after': 't3_9xltr8'}\n",
      "{'after': 't3_9xafq1'}\n",
      "{'after': 't3_9wwjhs'}\n"
     ]
    }
   ],
   "source": [
    "chemistry = scrape_reddit('https://www.reddit.com/r/chemistry.json', 40)"
   ]
  },
  {
   "cell_type": "code",
   "execution_count": 14,
   "metadata": {},
   "outputs": [
    {
     "name": "stdout",
     "output_type": "stream",
     "text": [
      "{}\n",
      "{'after': 't3_a7gx11'}\n",
      "{'after': 't3_a70xgk'}\n",
      "{'after': 't3_a6pg5d'}\n",
      "{'after': 't3_a6eryq'}\n",
      "{'after': 't3_a60nzu'}\n",
      "{'after': 't3_a5q7b0'}\n",
      "{'after': 't3_a5jwyh'}\n",
      "{'after': 't3_a57cue'}\n",
      "{'after': 't3_a4vphf'}\n",
      "{'after': 't3_a4lmdv'}\n",
      "{'after': 't3_a4bmf8'}\n",
      "{'after': 't3_a3qfm4'}\n",
      "{'after': 't3_a3iayj'}\n",
      "{'after': 't3_a37rzw'}\n",
      "{'after': 't3_a2x1z5'}\n",
      "{'after': 't3_a26a1x'}\n",
      "{'after': 't3_a23rkl'}\n",
      "{'after': 't3_a1qtic'}\n",
      "{'after': 't3_a1d3mv'}\n",
      "{'after': 't3_a146gf'}\n",
      "{'after': 't3_a0tx53'}\n",
      "{'after': 't3_a0hzb6'}\n",
      "{'after': 't3_a03ak4'}\n",
      "{'after': 't3_9zjz48'}\n",
      "{'after': 't3_9z3bnc'}\n",
      "{'after': 't3_9yl9h0'}\n",
      "{'after': 't3_9ysu9g'}\n",
      "{'after': 't3_9yju3z'}\n",
      "{'after': 't3_9y2lf4'}\n",
      "{'after': 't3_9xuoof'}\n",
      "{'after': 't3_9xcne8'}\n",
      "{'after': 't3_9x0d11'}\n",
      "{'after': 't3_9weo8o'}\n",
      "{}\n",
      "{'after': 't3_a7gx11'}\n",
      "{'after': 't3_a70xgk'}\n",
      "{'after': 't3_a6pg5d'}\n",
      "{'after': 't3_a6eryq'}\n",
      "{'after': 't3_a60nzu'}\n"
     ]
    }
   ],
   "source": [
    "biology = scrape_reddit('https://www.reddit.com/r/biology.json', 40)"
   ]
  },
  {
   "cell_type": "code",
   "execution_count": 15,
   "metadata": {},
   "outputs": [
    {
     "name": "stdout",
     "output_type": "stream",
     "text": [
      "{}\n",
      "{'after': 't3_a7ppe9'}\n",
      "{'after': 't3_a7bwbw'}\n",
      "{'after': 't3_a7b1ku'}\n",
      "{'after': 't3_a72h5s'}\n",
      "{'after': 't3_a6yojb'}\n",
      "{'after': 't3_a6h4ve'}\n",
      "{'after': 't3_a69vlp'}\n",
      "{'after': 't3_a65e6l'}\n",
      "{'after': 't3_a5w3k8'}\n",
      "{'after': 't3_a5dlys'}\n",
      "{'after': 't3_a5iped'}\n",
      "{'after': 't3_a57k9j'}\n",
      "{'after': 't3_a52z1u'}\n",
      "{'after': 't3_a557oy'}\n",
      "{'after': 't3_a4o5zk'}\n",
      "{'after': 't3_a45r7c'}\n",
      "{'after': 't3_a3z3nr'}\n",
      "{'after': 't3_a3yeoh'}\n",
      "{'after': 't3_a3fpfq'}\n",
      "{'after': 't3_a3ioy8'}\n",
      "{'after': 't3_a3byqe'}\n",
      "{'after': 't3_a31fgt'}\n",
      "{'after': 't3_a2tor2'}\n",
      "{'after': 't3_a26qty'}\n",
      "{'after': 't3_a1z88n'}\n",
      "{'after': 't3_a1jd2d'}\n",
      "{'after': 't3_a1hfv8'}\n",
      "{'after': 't3_a108zv'}\n",
      "{}\n",
      "{'after': 't3_a7ppe9'}\n",
      "{'after': 't3_a7bwbw'}\n",
      "{'after': 't3_a7b1ku'}\n",
      "{'after': 't3_a72h5s'}\n",
      "{'after': 't3_a6yojb'}\n",
      "{'after': 't3_a6h4ve'}\n",
      "{'after': 't3_a69vlp'}\n",
      "{'after': 't3_a65e6l'}\n",
      "{'after': 't3_a5w3k8'}\n",
      "{'after': 't3_a5dlys'}\n"
     ]
    }
   ],
   "source": [
    "science = scrape_reddit('https://www.reddit.com/r/science.json', 40)"
   ]
  },
  {
   "cell_type": "code",
   "execution_count": 25,
   "metadata": {},
   "outputs": [],
   "source": [
    "#Create a ASOIF DataFrame\n",
    "asoif_df = pd.DataFrame([asoif[i]['data'] for i in list(range(len(asoif)))])"
   ]
  },
  {
   "cell_type": "markdown",
   "metadata": {},
   "source": [
    "## Data Cleaning and EDA"
   ]
  },
  {
   "cell_type": "markdown",
   "metadata": {},
   "source": [
    "#### Explore columns to determine which columns to keep."
   ]
  },
  {
   "cell_type": "code",
   "execution_count": 26,
   "metadata": {},
   "outputs": [],
   "source": [
    "asoif_columns =list(asoif_df.columns)"
   ]
  },
  {
   "cell_type": "code",
   "execution_count": 27,
   "metadata": {},
   "outputs": [],
   "source": [
    "lotr_columns = list(lotr_df.columns)"
   ]
  },
  {
   "cell_type": "code",
   "execution_count": 28,
   "metadata": {},
   "outputs": [
    {
     "data": {
      "text/plain": [
       "100"
      ]
     },
     "execution_count": 28,
     "metadata": {},
     "output_type": "execute_result"
    }
   ],
   "source": [
    "len(lotr_columns)"
   ]
  },
  {
   "cell_type": "code",
   "execution_count": 29,
   "metadata": {},
   "outputs": [
    {
     "data": {
      "text/plain": [
       "100"
      ]
     },
     "execution_count": 29,
     "metadata": {},
     "output_type": "execute_result"
    }
   ],
   "source": [
    "len(asoif_columns)"
   ]
  },
  {
   "cell_type": "code",
   "execution_count": 30,
   "metadata": {
    "scrolled": true
   },
   "outputs": [
    {
     "data": {
      "text/plain": [
       "(1996, 100)"
      ]
     },
     "execution_count": 30,
     "metadata": {},
     "output_type": "execute_result"
    }
   ],
   "source": [
    "#Concat the two data frames\n",
    "df = pd.concat([asoif_df, lotr_df])\n",
    "df.shape\n"
   ]
  },
  {
   "cell_type": "code",
   "execution_count": 31,
   "metadata": {},
   "outputs": [],
   "source": [
    "#reset index\n",
    "df.reset_index(drop = True, inplace=True)"
   ]
  },
  {
   "cell_type": "code",
   "execution_count": 32,
   "metadata": {},
   "outputs": [],
   "source": [
    "#Drop unnecessary columns\n",
    "df = df.drop(['author_cakeday', 'crosspost_parent', 'crosspost_parent_list', 'approved_at_utc', 'approved_by', 'archived', 'author',\n",
    "       'author_flair_background_color', 'author_flair_css_class',\n",
    "       'author_flair_richtext', 'author_flair_template_id',\n",
    "       'author_flair_text', 'author_flair_text_color', 'author_flair_type',\n",
    "       'author_fullname', 'author_patreon_flair', 'banned_at_utc', 'banned_by',\n",
    "       'can_gild', 'can_mod_post', 'category', 'clicked',\n",
    "       'content_categories', 'contest_mode', 'created', 'created_utc',\n",
    "       'distinguished', 'domain', 'edited', 'gilded', 'gildings',\n",
    "       'hidden', 'hide_score', 'id', 'is_crosspostable', 'is_meta',\n",
    "       'is_original_content', 'is_reddit_media_domain', 'is_robot_indexable',\n",
    "       'link_flair_background_color',\n",
    "       'link_flair_css_class', 'link_flair_richtext', 'link_flair_template_id',\n",
    "       'link_flair_text', 'link_flair_text_color', 'link_flair_type', 'locked',\n",
    "       'media', 'media_embed', 'media_metadata', 'media_only', 'mod_note',\n",
    "       'mod_reason_by', 'mod_reason_title', 'mod_reports', 'name', 'no_follow',\n",
    "       'num_crossposts', 'num_reports', 'over_18',\n",
    "       'parent_whitelist_status', 'permalink', 'pinned', 'post_hint',\n",
    "       'preview', 'pwls', 'quarantine', 'removal_reason', 'report_reasons',\n",
    "       'saved', 'secure_media', 'secure_media_embed',\n",
    "       'selftext_html', 'send_replies', 'spoiler', 'stickied',\n",
    "       'subreddit_id', 'subreddit_name_prefixed', 'subreddit_subscribers',\n",
    "       'subreddit_type', 'suggested_sort', 'thumbnail', 'thumbnail_height',\n",
    "       'thumbnail_width', 'ups', 'url', 'user_reports',\n",
    "       'whitelist_status', 'wls'], axis = 1)\n"
   ]
  },
  {
   "cell_type": "code",
   "execution_count": 33,
   "metadata": {},
   "outputs": [],
   "source": [
    "#drop more columns\n",
    "df = df.drop(['likes', 'view_count'], axis = 1)"
   ]
  },
  {
   "cell_type": "code",
   "execution_count": 34,
   "metadata": {},
   "outputs": [
    {
     "name": "stdout",
     "output_type": "stream",
     "text": [
      "<class 'pandas.core.frame.DataFrame'>\n",
      "RangeIndex: 1996 entries, 0 to 1995\n",
      "Data columns (total 9 columns):\n",
      "downs           1996 non-null int64\n",
      "is_self         1996 non-null bool\n",
      "is_video        1996 non-null bool\n",
      "num_comments    1996 non-null int64\n",
      "score           1996 non-null int64\n",
      "selftext        1996 non-null object\n",
      "subreddit       1996 non-null object\n",
      "title           1996 non-null object\n",
      "visited         1996 non-null bool\n",
      "dtypes: bool(3), int64(3), object(3)\n",
      "memory usage: 99.5+ KB\n"
     ]
    }
   ],
   "source": [
    "df.info()"
   ]
  },
  {
   "cell_type": "code",
   "execution_count": 35,
   "metadata": {},
   "outputs": [],
   "source": [
    "#drop additional columns\n",
    "df = df.drop(['visited'], axis = 1)"
   ]
  },
  {
   "cell_type": "code",
   "execution_count": 36,
   "metadata": {},
   "outputs": [
    {
     "data": {
      "text/plain": [
       "asoiaf    1003\n",
       "lotr       993\n",
       "Name: subreddit, dtype: int64"
      ]
     },
     "execution_count": 36,
     "metadata": {},
     "output_type": "execute_result"
    }
   ],
   "source": [
    "#Check for balanced classes\n",
    "df.subreddit.value_counts()"
   ]
  },
  {
   "cell_type": "code",
   "execution_count": 37,
   "metadata": {},
   "outputs": [
    {
     "data": {
      "text/plain": [
       "1    1003\n",
       "0     993\n",
       "Name: subreddit, dtype: int64"
      ]
     },
     "execution_count": 37,
     "metadata": {},
     "output_type": "execute_result"
    }
   ],
   "source": [
    "#Replace Game of Thrones with 1 and LOTR with 0\n",
    "df.subreddit = df.subreddit.map({'lotr': 0, 'asoiaf': 1})\n",
    "df.subreddit.value_counts()"
   ]
  },
  {
   "cell_type": "code",
   "execution_count": 38,
   "metadata": {},
   "outputs": [],
   "source": [
    "#rename 'subreddit' to y_value\n",
    "df.rename(index=str, columns={\"subreddit\": \"y_value\"}, inplace=True)"
   ]
  },
  {
   "cell_type": "code",
   "execution_count": 39,
   "metadata": {},
   "outputs": [],
   "source": [
    "#Binarize 'is_self'\n",
    "df.is_self = df.is_self.map({False : 0, True : 1})"
   ]
  },
  {
   "cell_type": "code",
   "execution_count": 40,
   "metadata": {},
   "outputs": [],
   "source": [
    "#binarize 'is_video'\n",
    "df.is_video = df.is_video.map({False : 0 , True : 1})"
   ]
  },
  {
   "cell_type": "code",
   "execution_count": 41,
   "metadata": {},
   "outputs": [],
   "source": [
    "#Save as .csv:\n",
    "df.to_csv('./reddit_scrape.csv')"
   ]
  },
  {
   "cell_type": "markdown",
   "metadata": {},
   "source": [
    "### Distribution Visualization"
   ]
  },
  {
   "cell_type": "code",
   "execution_count": 42,
   "metadata": {},
   "outputs": [],
   "source": [
    "#Visualize numeric distributions\n",
    "import seaborn as sns\n",
    "import matplotlib.pyplot as plt\n",
    "import numpy as np\n",
    "\n",
    "plt.style.use('seaborn-whitegrid')\n",
    "\n",
    "%matplotlib inline"
   ]
  },
  {
   "cell_type": "code",
   "execution_count": 43,
   "metadata": {
    "scrolled": true
   },
   "outputs": [
    {
     "data": {
      "text/plain": [
       "''"
      ]
     },
     "execution_count": 43,
     "metadata": {},
     "output_type": "execute_result"
    },
    {
     "data": {
      "image/png": "[encoded data removed]",
      "text/plain": [
       "<Figure size 720x360 with 2 Axes>"
      ]
     },
     "metadata": {
      "needs_background": "light"
     },
     "output_type": "display_data"
    }
   ],
   "source": [
    "fig, ax = plt.subplots(figsize=(10, 5), nrows=1, ncols=2, sharey=True) # You'll want to specify your figsize\n",
    "ax = ax.ravel() # Ravel turns a matrix into a vector, which is easier to iterate\n",
    "#for i, column in enumerate(list_of_columns): # Gives us an index value to get into all our lists\n",
    "ax[0].hist(df[df.y_value == 1]['num_comments'], bins = 200, color = 'green') # feel free to add more settings\n",
    "        # Set titles, labels, etc here for each subplot\n",
    "ax[0].set_title('Number of Comments (Game of Thrones)', fontsize=20)\n",
    "#ax[i].set_xlabel(list_of_xlabels[i])\n",
    "ax[1].hist(df[df.y_value == 0]['num_comments'], bins = 200, color = 'blue')\n",
    "ax[1].set_title('Number of Comments (LOTR)')\n",
    "#ax[1].hist(df[df.subreddit == 1]['score'], bins = 200, color = 'dimgrey')\n",
    "#ax[1].set_title('Score (GOT)')\n",
    "#ax[1].hist(df[df.subreddit == 0]['score'], bins = 200, color = 'blue')\n",
    "#ax[1].set_title('Score (LOTR)')\n",
    "ax[0].set_ylabel('Frequency')\n",
    ";"
   ]
  },
  {
   "cell_type": "code",
   "execution_count": 44,
   "metadata": {
    "scrolled": true
   },
   "outputs": [
    {
     "data": {
      "text/plain": [
       "Text(0, 0.5, 'Frequency')"
      ]
     },
     "execution_count": 44,
     "metadata": {},
     "output_type": "execute_result"
    },
    {
     "data": {
      "image/png": "[encoded data removed]",
      "text/plain": [
       "<Figure size 720x360 with 2 Axes>"
      ]
     },
     "metadata": {
      "needs_background": "light"
     },
     "output_type": "display_data"
    }
   ],
   "source": [
    "fig, ax = plt.subplots(figsize=(10, 5), nrows=1, ncols=2, sharey=True) # You'll want to specify your figsize\n",
    "ax = ax.ravel() # Ravel turns a matrix into a vector, which is easier to iterate\n",
    "#for i, column in enumerate(list_of_columns): # Gives us an index value to get into all our lists\n",
    "#ax[0].hist(df[df.subreddit == 1]['num_comments'], bins = 200, color = 'green') # feel free to add more settings\n",
    "        # Set titles, labels, etc here for each subplot\n",
    "#ax[0].set_title('Number of Comments (Game of Thrones)')\n",
    "#ax[i].set_xlabel(list_of_xlabels[i])\n",
    "#ax[1].hist(df[df.subreddit == 0]['num_comments'], bins = 200, color = 'blue')\n",
    "#ax[1].set_title('Number of Comments (LOTR)')\n",
    "ax[0].hist(df[df.y_value == 1]['score'], bins = 200, color = 'dimgrey')\n",
    "ax[0].set_title('Score (GOT)')\n",
    "ax[1].hist(df[df.y_value == 0]['score'], bins = 200, color = 'blue')\n",
    "ax[1].set_title('Score (LOTR)')\n",
    "ax[0].set_ylabel('Frequency')"
   ]
  },
  {
   "cell_type": "markdown",
   "metadata": {},
   "source": [
    "Histograms of numerical data - score and number of comments- for the two subreddits show high concentration of 0 values and a long rightside trail of the distributions in all 4 cases. There is a higher 0 concentration of comments and scores for LOTR than GOT."
   ]
  },
  {
   "cell_type": "code",
   "execution_count": 45,
   "metadata": {
    "scrolled": true
   },
   "outputs": [
    {
     "data": {
      "text/html": [
       "<div>\n",
       "<style scoped>\n",
       "    .dataframe tbody tr th:only-of-type {\n",
       "        vertical-align: middle;\n",
       "    }\n",
       "\n",
       "    .dataframe tbody tr th {\n",
       "        vertical-align: top;\n",
       "    }\n",
       "\n",
       "    .dataframe thead th {\n",
       "        text-align: right;\n",
       "    }\n",
       "</style>\n",
       "<table border=\"1\" class=\"dataframe\">\n",
       "  <thead>\n",
       "    <tr style=\"text-align: right;\">\n",
       "      <th></th>\n",
       "      <th>count</th>\n",
       "      <th>mean</th>\n",
       "      <th>std</th>\n",
       "      <th>min</th>\n",
       "      <th>25%</th>\n",
       "      <th>50%</th>\n",
       "      <th>75%</th>\n",
       "      <th>max</th>\n",
       "    </tr>\n",
       "  </thead>\n",
       "  <tbody>\n",
       "    <tr>\n",
       "      <th>downs</th>\n",
       "      <td>1996.0</td>\n",
       "      <td>0.000000</td>\n",
       "      <td>0.000000</td>\n",
       "      <td>0.0</td>\n",
       "      <td>0.0</td>\n",
       "      <td>0.0</td>\n",
       "      <td>0.0</td>\n",
       "      <td>0.0</td>\n",
       "    </tr>\n",
       "    <tr>\n",
       "      <th>is_self</th>\n",
       "      <td>1996.0</td>\n",
       "      <td>0.656313</td>\n",
       "      <td>0.475057</td>\n",
       "      <td>0.0</td>\n",
       "      <td>0.0</td>\n",
       "      <td>1.0</td>\n",
       "      <td>1.0</td>\n",
       "      <td>1.0</td>\n",
       "    </tr>\n",
       "    <tr>\n",
       "      <th>is_video</th>\n",
       "      <td>1996.0</td>\n",
       "      <td>0.003006</td>\n",
       "      <td>0.054758</td>\n",
       "      <td>0.0</td>\n",
       "      <td>0.0</td>\n",
       "      <td>0.0</td>\n",
       "      <td>0.0</td>\n",
       "      <td>1.0</td>\n",
       "    </tr>\n",
       "    <tr>\n",
       "      <th>num_comments</th>\n",
       "      <td>1996.0</td>\n",
       "      <td>32.932866</td>\n",
       "      <td>73.263944</td>\n",
       "      <td>0.0</td>\n",
       "      <td>4.0</td>\n",
       "      <td>11.0</td>\n",
       "      <td>30.0</td>\n",
       "      <td>1144.0</td>\n",
       "    </tr>\n",
       "    <tr>\n",
       "      <th>score</th>\n",
       "      <td>1996.0</td>\n",
       "      <td>206.533567</td>\n",
       "      <td>1072.281714</td>\n",
       "      <td>0.0</td>\n",
       "      <td>4.0</td>\n",
       "      <td>14.0</td>\n",
       "      <td>44.0</td>\n",
       "      <td>30234.0</td>\n",
       "    </tr>\n",
       "    <tr>\n",
       "      <th>y_value</th>\n",
       "      <td>1996.0</td>\n",
       "      <td>0.502505</td>\n",
       "      <td>0.500119</td>\n",
       "      <td>0.0</td>\n",
       "      <td>0.0</td>\n",
       "      <td>1.0</td>\n",
       "      <td>1.0</td>\n",
       "      <td>1.0</td>\n",
       "    </tr>\n",
       "  </tbody>\n",
       "</table>\n",
       "</div>"
      ],
      "text/plain": [
       "               count        mean          std  min  25%   50%   75%      max\n",
       "downs         1996.0    0.000000     0.000000  0.0  0.0   0.0   0.0      0.0\n",
       "is_self       1996.0    0.656313     0.475057  0.0  0.0   1.0   1.0      1.0\n",
       "is_video      1996.0    0.003006     0.054758  0.0  0.0   0.0   0.0      1.0\n",
       "num_comments  1996.0   32.932866    73.263944  0.0  4.0  11.0  30.0   1144.0\n",
       "score         1996.0  206.533567  1072.281714  0.0  4.0  14.0  44.0  30234.0\n",
       "y_value       1996.0    0.502505     0.500119  0.0  0.0   1.0   1.0      1.0"
      ]
     },
     "execution_count": 45,
     "metadata": {},
     "output_type": "execute_result"
    }
   ],
   "source": [
    "df.describe().T"
   ]
  },
  {
   "cell_type": "markdown",
   "metadata": {},
   "source": [
    "The above description of numerical information shows that downs have no non-zero values and should also be removed. Additionally, we can see that 65% qualify as `is_self`, 0.3% qualify as `is_video`. Scores range from 0 to 30215, and number of comments range from 0 t0 885."
   ]
  },
  {
   "cell_type": "code",
   "execution_count": 46,
   "metadata": {},
   "outputs": [
    {
     "data": {
      "text/html": [
       "<div>\n",
       "<style scoped>\n",
       "    .dataframe tbody tr th:only-of-type {\n",
       "        vertical-align: middle;\n",
       "    }\n",
       "\n",
       "    .dataframe tbody tr th {\n",
       "        vertical-align: top;\n",
       "    }\n",
       "\n",
       "    .dataframe thead th {\n",
       "        text-align: right;\n",
       "    }\n",
       "</style>\n",
       "<table border=\"1\" class=\"dataframe\">\n",
       "  <thead>\n",
       "    <tr style=\"text-align: right;\">\n",
       "      <th></th>\n",
       "      <th>downs</th>\n",
       "      <th>is_self</th>\n",
       "      <th>is_video</th>\n",
       "      <th>num_comments</th>\n",
       "      <th>score</th>\n",
       "      <th>selftext</th>\n",
       "      <th>y_value</th>\n",
       "      <th>title</th>\n",
       "      <th>text_length</th>\n",
       "    </tr>\n",
       "  </thead>\n",
       "  <tbody>\n",
       "    <tr>\n",
       "      <th>0</th>\n",
       "      <td>0</td>\n",
       "      <td>1</td>\n",
       "      <td>0</td>\n",
       "      <td>4</td>\n",
       "      <td>230</td>\n",
       "      <td>Please find links to all of the chapter discus...</td>\n",
       "      <td>1</td>\n",
       "      <td>(Spoilers Extended) Fire and Blood Volume I: O...</td>\n",
       "      <td>1009</td>\n",
       "    </tr>\n",
       "    <tr>\n",
       "      <th>1</th>\n",
       "      <td>0</td>\n",
       "      <td>1</td>\n",
       "      <td>0</td>\n",
       "      <td>15</td>\n",
       "      <td>5</td>\n",
       "      <td>Welcome to the Weekly Q &amp;amp; A! Feel free to ...</td>\n",
       "      <td>1</td>\n",
       "      <td>(Spoilers Main) Weekly Q and A</td>\n",
       "      <td>346</td>\n",
       "    </tr>\n",
       "    <tr>\n",
       "      <th>2</th>\n",
       "      <td>0</td>\n",
       "      <td>1</td>\n",
       "      <td>0</td>\n",
       "      <td>107</td>\n",
       "      <td>212</td>\n",
       "      <td>In ACOK when Daenerys learns about the death ...</td>\n",
       "      <td>1</td>\n",
       "      <td>[Spoilers MAIN] Instances of Unreliable narrat...</td>\n",
       "      <td>2600</td>\n",
       "    </tr>\n",
       "    <tr>\n",
       "      <th>3</th>\n",
       "      <td>0</td>\n",
       "      <td>1</td>\n",
       "      <td>0</td>\n",
       "      <td>27</td>\n",
       "      <td>42</td>\n",
       "      <td>So let me just preface this by saying I starte...</td>\n",
       "      <td>1</td>\n",
       "      <td>[SPOILERS PUBLISHED] I Just finished the Tales...</td>\n",
       "      <td>2864</td>\n",
       "    </tr>\n",
       "    <tr>\n",
       "      <th>4</th>\n",
       "      <td>0</td>\n",
       "      <td>1</td>\n",
       "      <td>0</td>\n",
       "      <td>57</td>\n",
       "      <td>287</td>\n",
       "      <td>The Freys are kinda one of the most hated fami...</td>\n",
       "      <td>1</td>\n",
       "      <td>(Spoilers Extended) Meet the Freys - Frey fami...</td>\n",
       "      <td>34201</td>\n",
       "    </tr>\n",
       "  </tbody>\n",
       "</table>\n",
       "</div>"
      ],
      "text/plain": [
       "   downs  is_self  is_video  num_comments  score  \\\n",
       "0      0        1         0             4    230   \n",
       "1      0        1         0            15      5   \n",
       "2      0        1         0           107    212   \n",
       "3      0        1         0            27     42   \n",
       "4      0        1         0            57    287   \n",
       "\n",
       "                                            selftext  y_value  \\\n",
       "0  Please find links to all of the chapter discus...        1   \n",
       "1  Welcome to the Weekly Q &amp; A! Feel free to ...        1   \n",
       "2   In ACOK when Daenerys learns about the death ...        1   \n",
       "3  So let me just preface this by saying I starte...        1   \n",
       "4  The Freys are kinda one of the most hated fami...        1   \n",
       "\n",
       "                                               title  text_length  \n",
       "0  (Spoilers Extended) Fire and Blood Volume I: O...         1009  \n",
       "1                     (Spoilers Main) Weekly Q and A          346  \n",
       "2  [Spoilers MAIN] Instances of Unreliable narrat...         2600  \n",
       "3  [SPOILERS PUBLISHED] I Just finished the Tales...         2864  \n",
       "4  (Spoilers Extended) Meet the Freys - Frey fami...        34201  "
      ]
     },
     "execution_count": 46,
     "metadata": {},
     "output_type": "execute_result"
    }
   ],
   "source": [
    "#Look at comment text length and add column to df\n",
    "df['text_length'] = [len(i) for i in df.selftext]\n",
    "df.head()"
   ]
  },
  {
   "cell_type": "code",
   "execution_count": 47,
   "metadata": {
    "scrolled": false
   },
   "outputs": [
    {
     "data": {
      "text/html": [
       "<div>\n",
       "<style scoped>\n",
       "    .dataframe tbody tr th:only-of-type {\n",
       "        vertical-align: middle;\n",
       "    }\n",
       "\n",
       "    .dataframe tbody tr th {\n",
       "        vertical-align: top;\n",
       "    }\n",
       "\n",
       "    .dataframe thead th {\n",
       "        text-align: right;\n",
       "    }\n",
       "</style>\n",
       "<table border=\"1\" class=\"dataframe\">\n",
       "  <thead>\n",
       "    <tr style=\"text-align: right;\">\n",
       "      <th></th>\n",
       "      <th>downs</th>\n",
       "      <th>is_self</th>\n",
       "      <th>is_video</th>\n",
       "      <th>num_comments</th>\n",
       "      <th>score</th>\n",
       "      <th>selftext</th>\n",
       "      <th>y_value</th>\n",
       "      <th>title</th>\n",
       "      <th>text_length</th>\n",
       "      <th>title_length</th>\n",
       "    </tr>\n",
       "  </thead>\n",
       "  <tbody>\n",
       "    <tr>\n",
       "      <th>0</th>\n",
       "      <td>0</td>\n",
       "      <td>1</td>\n",
       "      <td>0</td>\n",
       "      <td>4</td>\n",
       "      <td>230</td>\n",
       "      <td>Please find links to all of the chapter discus...</td>\n",
       "      <td>1</td>\n",
       "      <td>(Spoilers Extended) Fire and Blood Volume I: O...</td>\n",
       "      <td>1009</td>\n",
       "      <td>68</td>\n",
       "    </tr>\n",
       "    <tr>\n",
       "      <th>1</th>\n",
       "      <td>0</td>\n",
       "      <td>1</td>\n",
       "      <td>0</td>\n",
       "      <td>15</td>\n",
       "      <td>5</td>\n",
       "      <td>Welcome to the Weekly Q &amp;amp; A! Feel free to ...</td>\n",
       "      <td>1</td>\n",
       "      <td>(Spoilers Main) Weekly Q and A</td>\n",
       "      <td>346</td>\n",
       "      <td>30</td>\n",
       "    </tr>\n",
       "    <tr>\n",
       "      <th>2</th>\n",
       "      <td>0</td>\n",
       "      <td>1</td>\n",
       "      <td>0</td>\n",
       "      <td>107</td>\n",
       "      <td>212</td>\n",
       "      <td>In ACOK when Daenerys learns about the death ...</td>\n",
       "      <td>1</td>\n",
       "      <td>[Spoilers MAIN] Instances of Unreliable narrat...</td>\n",
       "      <td>2600</td>\n",
       "      <td>71</td>\n",
       "    </tr>\n",
       "    <tr>\n",
       "      <th>3</th>\n",
       "      <td>0</td>\n",
       "      <td>1</td>\n",
       "      <td>0</td>\n",
       "      <td>27</td>\n",
       "      <td>42</td>\n",
       "      <td>So let me just preface this by saying I starte...</td>\n",
       "      <td>1</td>\n",
       "      <td>[SPOILERS PUBLISHED] I Just finished the Tales...</td>\n",
       "      <td>2864</td>\n",
       "      <td>108</td>\n",
       "    </tr>\n",
       "    <tr>\n",
       "      <th>4</th>\n",
       "      <td>0</td>\n",
       "      <td>1</td>\n",
       "      <td>0</td>\n",
       "      <td>57</td>\n",
       "      <td>287</td>\n",
       "      <td>The Freys are kinda one of the most hated fami...</td>\n",
       "      <td>1</td>\n",
       "      <td>(Spoilers Extended) Meet the Freys - Frey fami...</td>\n",
       "      <td>34201</td>\n",
       "      <td>64</td>\n",
       "    </tr>\n",
       "  </tbody>\n",
       "</table>\n",
       "</div>"
      ],
      "text/plain": [
       "   downs  is_self  is_video  num_comments  score  \\\n",
       "0      0        1         0             4    230   \n",
       "1      0        1         0            15      5   \n",
       "2      0        1         0           107    212   \n",
       "3      0        1         0            27     42   \n",
       "4      0        1         0            57    287   \n",
       "\n",
       "                                            selftext  y_value  \\\n",
       "0  Please find links to all of the chapter discus...        1   \n",
       "1  Welcome to the Weekly Q &amp; A! Feel free to ...        1   \n",
       "2   In ACOK when Daenerys learns about the death ...        1   \n",
       "3  So let me just preface this by saying I starte...        1   \n",
       "4  The Freys are kinda one of the most hated fami...        1   \n",
       "\n",
       "                                               title  text_length  \\\n",
       "0  (Spoilers Extended) Fire and Blood Volume I: O...         1009   \n",
       "1                     (Spoilers Main) Weekly Q and A          346   \n",
       "2  [Spoilers MAIN] Instances of Unreliable narrat...         2600   \n",
       "3  [SPOILERS PUBLISHED] I Just finished the Tales...         2864   \n",
       "4  (Spoilers Extended) Meet the Freys - Frey fami...        34201   \n",
       "\n",
       "   title_length  \n",
       "0            68  \n",
       "1            30  \n",
       "2            71  \n",
       "3           108  \n",
       "4            64  "
      ]
     },
     "execution_count": 47,
     "metadata": {},
     "output_type": "execute_result"
    }
   ],
   "source": [
    "#Look at length of title and add the length to the df\n",
    "df['title_length'] = [len(i) for i in df.title]\n",
    "df.head()"
   ]
  },
  {
   "cell_type": "code",
   "execution_count": 48,
   "metadata": {
    "scrolled": true
   },
   "outputs": [
    {
     "data": {
      "text/html": [
       "<div>\n",
       "<style scoped>\n",
       "    .dataframe tbody tr th:only-of-type {\n",
       "        vertical-align: middle;\n",
       "    }\n",
       "\n",
       "    .dataframe tbody tr th {\n",
       "        vertical-align: top;\n",
       "    }\n",
       "\n",
       "    .dataframe thead th {\n",
       "        text-align: right;\n",
       "    }\n",
       "</style>\n",
       "<table border=\"1\" class=\"dataframe\">\n",
       "  <thead>\n",
       "    <tr style=\"text-align: right;\">\n",
       "      <th></th>\n",
       "      <th>count</th>\n",
       "      <th>mean</th>\n",
       "      <th>std</th>\n",
       "      <th>min</th>\n",
       "      <th>25%</th>\n",
       "      <th>50%</th>\n",
       "      <th>75%</th>\n",
       "      <th>max</th>\n",
       "    </tr>\n",
       "  </thead>\n",
       "  <tbody>\n",
       "    <tr>\n",
       "      <th>downs</th>\n",
       "      <td>1996.0</td>\n",
       "      <td>0.000000</td>\n",
       "      <td>0.000000</td>\n",
       "      <td>0.0</td>\n",
       "      <td>0.0</td>\n",
       "      <td>0.0</td>\n",
       "      <td>0.0</td>\n",
       "      <td>0.0</td>\n",
       "    </tr>\n",
       "    <tr>\n",
       "      <th>is_self</th>\n",
       "      <td>1996.0</td>\n",
       "      <td>0.656313</td>\n",
       "      <td>0.475057</td>\n",
       "      <td>0.0</td>\n",
       "      <td>0.0</td>\n",
       "      <td>1.0</td>\n",
       "      <td>1.0</td>\n",
       "      <td>1.0</td>\n",
       "    </tr>\n",
       "    <tr>\n",
       "      <th>is_video</th>\n",
       "      <td>1996.0</td>\n",
       "      <td>0.003006</td>\n",
       "      <td>0.054758</td>\n",
       "      <td>0.0</td>\n",
       "      <td>0.0</td>\n",
       "      <td>0.0</td>\n",
       "      <td>0.0</td>\n",
       "      <td>1.0</td>\n",
       "    </tr>\n",
       "    <tr>\n",
       "      <th>num_comments</th>\n",
       "      <td>1996.0</td>\n",
       "      <td>32.932866</td>\n",
       "      <td>73.263944</td>\n",
       "      <td>0.0</td>\n",
       "      <td>4.0</td>\n",
       "      <td>11.0</td>\n",
       "      <td>30.0</td>\n",
       "      <td>1144.0</td>\n",
       "    </tr>\n",
       "    <tr>\n",
       "      <th>score</th>\n",
       "      <td>1996.0</td>\n",
       "      <td>206.533567</td>\n",
       "      <td>1072.281714</td>\n",
       "      <td>0.0</td>\n",
       "      <td>4.0</td>\n",
       "      <td>14.0</td>\n",
       "      <td>44.0</td>\n",
       "      <td>30234.0</td>\n",
       "    </tr>\n",
       "    <tr>\n",
       "      <th>y_value</th>\n",
       "      <td>1996.0</td>\n",
       "      <td>0.502505</td>\n",
       "      <td>0.500119</td>\n",
       "      <td>0.0</td>\n",
       "      <td>0.0</td>\n",
       "      <td>1.0</td>\n",
       "      <td>1.0</td>\n",
       "      <td>1.0</td>\n",
       "    </tr>\n",
       "    <tr>\n",
       "      <th>text_length</th>\n",
       "      <td>1996.0</td>\n",
       "      <td>865.919840</td>\n",
       "      <td>2943.450089</td>\n",
       "      <td>0.0</td>\n",
       "      <td>0.0</td>\n",
       "      <td>182.0</td>\n",
       "      <td>650.5</td>\n",
       "      <td>40062.0</td>\n",
       "    </tr>\n",
       "    <tr>\n",
       "      <th>title_length</th>\n",
       "      <td>1996.0</td>\n",
       "      <td>64.125752</td>\n",
       "      <td>37.587495</td>\n",
       "      <td>4.0</td>\n",
       "      <td>39.0</td>\n",
       "      <td>56.0</td>\n",
       "      <td>80.0</td>\n",
       "      <td>298.0</td>\n",
       "    </tr>\n",
       "  </tbody>\n",
       "</table>\n",
       "</div>"
      ],
      "text/plain": [
       "               count        mean          std  min   25%    50%    75%  \\\n",
       "downs         1996.0    0.000000     0.000000  0.0   0.0    0.0    0.0   \n",
       "is_self       1996.0    0.656313     0.475057  0.0   0.0    1.0    1.0   \n",
       "is_video      1996.0    0.003006     0.054758  0.0   0.0    0.0    0.0   \n",
       "num_comments  1996.0   32.932866    73.263944  0.0   4.0   11.0   30.0   \n",
       "score         1996.0  206.533567  1072.281714  0.0   4.0   14.0   44.0   \n",
       "y_value       1996.0    0.502505     0.500119  0.0   0.0    1.0    1.0   \n",
       "text_length   1996.0  865.919840  2943.450089  0.0   0.0  182.0  650.5   \n",
       "title_length  1996.0   64.125752    37.587495  4.0  39.0   56.0   80.0   \n",
       "\n",
       "                  max  \n",
       "downs             0.0  \n",
       "is_self           1.0  \n",
       "is_video          1.0  \n",
       "num_comments   1144.0  \n",
       "score         30234.0  \n",
       "y_value           1.0  \n",
       "text_length   40062.0  \n",
       "title_length    298.0  "
      ]
     },
     "execution_count": 48,
     "metadata": {},
     "output_type": "execute_result"
    }
   ],
   "source": [
    "df.describe().T"
   ]
  },
  {
   "cell_type": "code",
   "execution_count": 49,
   "metadata": {},
   "outputs": [],
   "source": [
    "df.to_csv('./reddit_scraped_cleaned.csv', index=False)"
   ]
  },
  {
   "cell_type": "code",
   "execution_count": 50,
   "metadata": {},
   "outputs": [
    {
     "data": {
      "image/png": "[encoded data removed]",
      "text/plain": [
       "<Figure size 1080x360 with 3 Axes>"
      ]
     },
     "metadata": {
      "needs_background": "light"
     },
     "output_type": "display_data"
    }
   ],
   "source": [
    "#Histograms of text length distribution for composite and for each subreddit\n",
    "fig, ax = plt.subplots(figsize=(15, 5), nrows=1, ncols=3, sharey=True) # You'll want to specify your figsize\n",
    "ax = ax.ravel() # Ravel turns a matrix into a vector, which is easier to iterate\n",
    "#for i, column in enumerate(list_of_columns): # Gives us an index value to get into all our lists\n",
    "ax[0].hist(df[df.y_value == 1]['text_length'], bins = 50, color = 'green') # feel free to add more settings\n",
    "        # Set titles, labels, etc here for each subplot\n",
    "ax[0].set_title('Comment Length (Game of Thrones)')\n",
    "#ax[i].set_xlabel(list_of_xlabels[i])\n",
    "ax[1].hist(df[df.y_value == 0]['text_length'], bins = 50, color = 'blue')\n",
    "ax[1].set_title('Comment Length (LOTR)')\n",
    "ax[2].hist(df['text_length'], bins = 50, color = 'dimgrey')\n",
    "ax[2].set_title('Comment Length (Overall)')\n",
    "\n",
    "ax[0].set_ylabel('Frequency');"
   ]
  },
  {
   "cell_type": "code",
   "execution_count": 51,
   "metadata": {},
   "outputs": [
    {
     "data": {
      "image/png": "[encoded data removed]",
      "text/plain": [
       "<Figure size 1080x360 with 3 Axes>"
      ]
     },
     "metadata": {
      "needs_background": "light"
     },
     "output_type": "display_data"
    }
   ],
   "source": [
    "#Histograms of title length distribution for composite and for each subreddit\n",
    "fig, ax = plt.subplots(figsize=(15, 5), nrows=1, ncols=3, sharey=True) # You'll want to specify your figsize\n",
    "ax = ax.ravel() # Ravel turns a matrix into a vector, which is easier to iterate\n",
    "#for i, column in enumerate(list_of_columns): # Gives us an index value to get into all our lists\n",
    "ax[0].hist(df[df.y_value == 1]['title_length'], bins = 50, color = 'green') # feel free to add more settings\n",
    "        # Set titles, labels, etc here for each subplot\n",
    "ax[0].set_title('Title Length (Game of Thrones)')\n",
    "#ax[i].set_xlabel(list_of_xlabels[i])\n",
    "ax[1].hist(df[df.y_value == 0]['title_length'], bins = 50, color = 'blue')\n",
    "ax[1].set_title('Title Length (LOTR)')\n",
    "ax[2].hist(df['title_length'], bins = 50, color = 'dimgrey')\n",
    "ax[2].set_title('Title Length (Overall)')\n",
    "\n",
    "ax[0].set_ylabel('Frequency');"
   ]
  },
  {
   "cell_type": "markdown",
   "metadata": {},
   "source": [
    "## Preprocessing and Modeling"
   ]
  },
  {
   "cell_type": "code",
   "execution_count": 52,
   "metadata": {},
   "outputs": [],
   "source": [
    "#imports\n",
    "from sklearn.feature_extraction.text import CountVectorizer, TfidfVectorizer, HashingVectorizer\n",
    "from sklearn.tree import DecisionTreeClassifier\n",
    "from sklearn.ensemble import RandomForestClassifier, BaggingClassifier, ExtraTreesClassifier\n",
    "from sklearn.linear_model import LogisticRegression\n",
    "from sklearn.preprocessing import StandardScaler\n",
    "from sklearn.model_selection import cross_val_score, train_test_split, GridSearchCV\n",
    "from sklearn.metrics import confusion_matrix\n",
    "import warnings\n",
    "warnings.simplefilter(action='ignore', category=FutureWarning)"
   ]
  },
  {
   "cell_type": "markdown",
   "metadata": {},
   "source": [
    "### CountVectorizer Preprocessing\n",
    "1. Train/Test Split\n",
    "2. Instantiate CountVectorizer\n",
    "3. CountVectorize Title text\n",
    "4. Turn vectorized text into a DataFrame\n",
    "5. Instantiate Model\n",
    "6. Fit Model\n",
    "7. Record Score"
   ]
  },
  {
   "cell_type": "code",
   "execution_count": 53,
   "metadata": {},
   "outputs": [],
   "source": [
    "df = pd.read_csv('./reddit_scraped_cleaned.csv')"
   ]
  },
  {
   "cell_type": "code",
   "execution_count": 54,
   "metadata": {
    "scrolled": true
   },
   "outputs": [
    {
     "name": "stdout",
     "output_type": "stream",
     "text": [
      "<class 'pandas.core.frame.DataFrame'>\n",
      "RangeIndex: 1996 entries, 0 to 1995\n",
      "Data columns (total 10 columns):\n",
      "downs           1996 non-null int64\n",
      "is_self         1996 non-null int64\n",
      "is_video        1996 non-null int64\n",
      "num_comments    1996 non-null int64\n",
      "score           1996 non-null int64\n",
      "selftext        1210 non-null object\n",
      "y_value         1996 non-null int64\n",
      "title           1996 non-null object\n",
      "text_length     1996 non-null int64\n",
      "title_length    1996 non-null int64\n",
      "dtypes: int64(8), object(2)\n",
      "memory usage: 156.0+ KB\n"
     ]
    }
   ],
   "source": [
    "df.info()"
   ]
  },
  {
   "cell_type": "code",
   "execution_count": 55,
   "metadata": {},
   "outputs": [
    {
     "data": {
      "text/plain": [
       "1    1003\n",
       "0     993\n",
       "Name: y_value, dtype: int64"
      ]
     },
     "execution_count": 55,
     "metadata": {},
     "output_type": "execute_result"
    }
   ],
   "source": [
    "df.y_value.value_counts()"
   ]
  },
  {
   "cell_type": "code",
   "execution_count": 56,
   "metadata": {},
   "outputs": [],
   "source": [
    "#Train Test Split for entire DF of interest so that can append \n",
    "features = ['num_comments', 'score', 'selftext', 'title', 'text_length', 'title_length']\n",
    "X = df[features]\n",
    "y = df['y_value']\n",
    "\n",
    "X_train, X_test, y_train, y_test = train_test_split(X, y, random_state = 42, stratify=y)\n",
    "#Instantiate CountVectorizer\n",
    "vect = CountVectorizer(stop_words='english')\n",
    "\n",
    "#fit vect on X_train['title']\n",
    "vect.fit(X_train['title'])\n",
    "X_train_vect = vect.transform(X_train['title'])\n",
    "X_test_vect = vect.transform(X_test['title'])"
   ]
  },
  {
   "cell_type": "code",
   "execution_count": 57,
   "metadata": {},
   "outputs": [],
   "source": [
    "X_train_vect_df = pd.DataFrame(X_train_vect.todense(), columns=vect.get_feature_names())\n",
    "#here we can go back and append the other features we might want to use in our model\n",
    "X_test_vect_df = pd.DataFrame(X_test_vect.todense(), columns=vect.get_feature_names())"
   ]
  },
  {
   "cell_type": "code",
   "execution_count": 58,
   "metadata": {
    "scrolled": true
   },
   "outputs": [
    {
     "name": "stdout",
     "output_type": "stream",
     "text": [
      "<class 'pandas.core.frame.DataFrame'>\n",
      "RangeIndex: 1497 entries, 0 to 1496\n",
      "Columns: 2988 entries, 000 to zirakzigil\n",
      "dtypes: int64(2988)\n",
      "memory usage: 34.1 MB\n"
     ]
    }
   ],
   "source": [
    "X_train_vect_df.info()"
   ]
  },
  {
   "cell_type": "code",
   "execution_count": 59,
   "metadata": {},
   "outputs": [
    {
     "name": "stdout",
     "output_type": "stream",
     "text": [
      "<class 'pandas.core.frame.DataFrame'>\n",
      "RangeIndex: 499 entries, 0 to 498\n",
      "Columns: 2988 entries, 000 to zirakzigil\n",
      "dtypes: int64(2988)\n",
      "memory usage: 11.4 MB\n"
     ]
    }
   ],
   "source": [
    "X_test_vect_df.info()"
   ]
  },
  {
   "cell_type": "code",
   "execution_count": 60,
   "metadata": {},
   "outputs": [],
   "source": [
    "#Create a dictionary \n",
    "preliminary_scores = {}"
   ]
  },
  {
   "cell_type": "code",
   "execution_count": 61,
   "metadata": {},
   "outputs": [
    {
     "name": "stderr",
     "output_type": "stream",
     "text": [
      "/Users/edithiyerhernandez/anaconda3/lib/python3.6/site-packages/sklearn/preprocessing/data.py:617: DataConversionWarning: Data with input dtype int64 were all converted to float64 by StandardScaler.\n",
      "  return self.partial_fit(X, y)\n",
      "/Users/edithiyerhernandez/anaconda3/lib/python3.6/site-packages/sklearn/base.py:462: DataConversionWarning: Data with input dtype int64 were all converted to float64 by StandardScaler.\n",
      "  return self.fit(X, **fit_params).transform(X)\n",
      "/Users/edithiyerhernandez/anaconda3/lib/python3.6/site-packages/ipykernel_launcher.py:4: DataConversionWarning: Data with input dtype int64 were all converted to float64 by StandardScaler.\n",
      "  after removing the cwd from sys.path.\n"
     ]
    }
   ],
   "source": [
    "# instantiate standard scaler to use with logistic regression\n",
    "ss = StandardScaler()\n",
    "X_train_vect_ss = ss.fit_transform(X_train_vect_df)\n",
    "X_test_vect_ss = ss.transform(X_test_vect_df)\n",
    "\n",
    "lr = LogisticRegression()\n",
    "\n",
    "lr.fit(X_train_vect_ss, y_train)\n",
    "preliminary_scores['lr train score'] = lr.score(X_train_vect_ss, y_train)\n",
    "preliminary_scores['lr test score'] = lr.score(X_test_vect_ss, y_test)"
   ]
  },
  {
   "cell_type": "code",
   "execution_count": 62,
   "metadata": {},
   "outputs": [],
   "source": [
    "cm = confusion_matrix"
   ]
  },
  {
   "cell_type": "code",
   "execution_count": 63,
   "metadata": {},
   "outputs": [
    {
     "data": {
      "text/plain": [
       "array([[247,   1],\n",
       "       [  1, 250]])"
      ]
     },
     "execution_count": 63,
     "metadata": {},
     "output_type": "execute_result"
    }
   ],
   "source": [
    "#Confusion Matrix for LR\n",
    "cm(y_test, lr.predict(X_test_vect_ss))"
   ]
  },
  {
   "cell_type": "code",
   "execution_count": 64,
   "metadata": {},
   "outputs": [
    {
     "data": {
      "text/plain": [
       "{'lr train score': 1.0, 'lr test score': 0.9959919839679359}"
      ]
     },
     "execution_count": 64,
     "metadata": {},
     "output_type": "execute_result"
    }
   ],
   "source": [
    "preliminary_scores"
   ]
  },
  {
   "cell_type": "code",
   "execution_count": 65,
   "metadata": {},
   "outputs": [
    {
     "data": {
      "text/plain": [
       "{'lr train score': 1.0,\n",
       " 'lr test score': 0.9959919839679359,\n",
       " 'tree train score': 1.0,\n",
       " 'tree test score': 0.9959919839679359}"
      ]
     },
     "execution_count": 65,
     "metadata": {},
     "output_type": "execute_result"
    }
   ],
   "source": [
    "#Decision Tree\n",
    "tree = DecisionTreeClassifier()\n",
    "\n",
    "tree.fit(X_train_vect_df, y_train)\n",
    "preliminary_scores['tree train score'] = tree.score(X_train_vect_df, y_train)\n",
    "preliminary_scores['tree test score'] = tree.score(X_test_vect_df, y_test)\n",
    "preliminary_scores"
   ]
  },
  {
   "cell_type": "code",
   "execution_count": 66,
   "metadata": {},
   "outputs": [
    {
     "data": {
      "text/plain": [
       "array([[246,   2],\n",
       "       [  0, 251]])"
      ]
     },
     "execution_count": 66,
     "metadata": {},
     "output_type": "execute_result"
    }
   ],
   "source": [
    "#Confusion Matrix for Decision Tree\n",
    "cm(y_test, tree.predict(X_test_vect_df))"
   ]
  },
  {
   "cell_type": "code",
   "execution_count": 170,
   "metadata": {},
   "outputs": [],
   "source": [
    "#Try multiple models and record the scores to determine any sort of changes\n",
    "model_scores = []\n",
    "def model_iteration(X_train, X_test, y_train, y_test):\n",
    "    scores = {}\n",
    "    #logistic regresssion\n",
    "    #instatiate standard scaler\n",
    "    ss = StandardScaler()\n",
    "    X_train_sc = ss.fit_transform(X_train)\n",
    "    X_test_sc = ss.transform(X_test)\n",
    "    \n",
    "    #instantiate Logistic Regression\n",
    "    lr = LogisticRegression()\n",
    "    \n",
    "    #fit logistic regression model\n",
    "    lr.fit(X_train_sc, y_train)\n",
    "    \n",
    "    print('running logistic regresssion')\n",
    "    \n",
    "    #update scores dictionary\n",
    "    scores['model'] = 'Logistic Regression'\n",
    "    scores['train score'] = lr.score(X_train_sc, y_train)\n",
    "    scores['test score'] = lr.score(X_test_sc, y_test)\n",
    "    \n",
    "    #Add Scores to the moodel_scores list\n",
    "    model_scores.append(scores)\n",
    "    \n",
    "    #clear scores dictionary\n",
    "    scores = {}\n",
    "    #Decision Tree\n",
    "    tree = DecisionTreeClassifier()\n",
    "    \n",
    "    tree.fit(X_train, y_train)\n",
    "    \n",
    "    print('running Decision Tree classifier')\n",
    "    \n",
    "    scores['model'] ='Decision Tree'\n",
    "    scores['train score'] = tree.score(X_train, y_train)\n",
    "    scores['test score'] = tree.score(X_test, y_test)\n",
    "    \n",
    "    model_scores.append(scores)\n",
    "    \n",
    "    #clear scores dictionary\n",
    "    scores = {}\n",
    "    \n",
    "    #Bagging\n",
    "    bag = BaggingClassifier()\n",
    "    \n",
    "    bag.fit(X_train, y_train)\n",
    "    \n",
    "    print('running Bagging Classifier')\n",
    "    \n",
    "    scores['model'] = 'Bagging Classifier'\n",
    "    scores['train score'] = bag.score(X_train, y_train)\n",
    "    scores['test score'] = bag.score(X_test, y_test)\n",
    "    \n",
    "    model_scores.append(scores)\n",
    "    \n",
    "#     scores = {}\n",
    "    \n",
    "#     ada = ada = AdaBoostClassifier()\n",
    "#     ada.fit(X_train, y_train)\n",
    "    \n",
    "#     print('running ADA Boost Classifier')\n",
    "    \n",
    "#     scores['model'] = 'ADA Boost Classifier'\n",
    "#     scores['train score'] = ada.score(X_train, y_train)\n",
    "#     scores['test score'] = ada.score(X_test, y_test)\n",
    "    \n",
    "#     model_scores.append(scores)\n",
    "    \n",
    "    scores = {}\n",
    "    \n",
    "    rf = RandomForestClassifier()\n",
    "    \n",
    "    rf.fit(X_train, y_train)\n",
    "    \n",
    "    print('running Random Forest Classifier')\n",
    "    \n",
    "    scores['model'] = 'Random Forest Classifier'\n",
    "    scores['train score'] = rf.score(X_train, y_train)\n",
    "    scores['test score'] = rf.score(X_test, y_test)\n",
    "    \n",
    "    model_scores.append(scores)\n",
    "    \n",
    "    return model_scores\n",
    "    \n",
    "    \n",
    "    \n",
    "    \n",
    "    "
   ]
  },
  {
   "cell_type": "code",
   "execution_count": 171,
   "metadata": {},
   "outputs": [
    {
     "name": "stderr",
     "output_type": "stream",
     "text": [
      "/Users/edithiyerhernandez/anaconda3/lib/python3.6/site-packages/sklearn/preprocessing/data.py:617: DataConversionWarning: Data with input dtype int64 were all converted to float64 by StandardScaler.\n",
      "  return self.partial_fit(X, y)\n",
      "/Users/edithiyerhernandez/anaconda3/lib/python3.6/site-packages/sklearn/base.py:462: DataConversionWarning: Data with input dtype int64 were all converted to float64 by StandardScaler.\n",
      "  return self.fit(X, **fit_params).transform(X)\n"
     ]
    },
    {
     "name": "stdout",
     "output_type": "stream",
     "text": [
      "running logistic regresssion\n",
      "running Decision Tree classifier\n",
      "running Bagging Classifier\n",
      "running Random Forest Classifier\n"
     ]
    },
    {
     "name": "stderr",
     "output_type": "stream",
     "text": [
      "/Users/edithiyerhernandez/anaconda3/lib/python3.6/site-packages/ipykernel_launcher.py:9: DataConversionWarning: Data with input dtype int64 were all converted to float64 by StandardScaler.\n",
      "  if __name__ == '__main__':\n"
     ]
    },
    {
     "data": {
      "text/plain": [
       "[{'model': 'Logistic Regression',\n",
       "  'train score': 1.0,\n",
       "  'test score': 0.9959919839679359},\n",
       " {'model': 'Decision Tree',\n",
       "  'train score': 1.0,\n",
       "  'test score': 0.9979959919839679},\n",
       " {'model': 'Bagging Classifier',\n",
       "  'train score': 0.9993319973279893,\n",
       "  'test score': 0.9979959919839679},\n",
       " {'model': 'Random Forest Classifier',\n",
       "  'train score': 1.0,\n",
       "  'test score': 0.9919839679358717}]"
      ]
     },
     "execution_count": 171,
     "metadata": {},
     "output_type": "execute_result"
    }
   ],
   "source": [
    "model_iteration(X_train_vect_df, X_test_vect_df, y_train, y_test)"
   ]
  },
  {
   "cell_type": "markdown",
   "metadata": {},
   "source": [
    "### Lemmatizing"
   ]
  },
  {
   "cell_type": "code",
   "execution_count": 89,
   "metadata": {},
   "outputs": [],
   "source": [
    "import nltk\n",
    "from nltk.stem import WordNetLemmatizer\n",
    "from nltk.tokenize import RegexpTokenizer\n",
    "import regex as re\n",
    "from nltk.corpus import stopwords # Import the stop word list\n",
    "\n",
    "lemmatizer = WordNetLemmatizer()\n"
   ]
  },
  {
   "cell_type": "code",
   "execution_count": 162,
   "metadata": {},
   "outputs": [],
   "source": [
    "def lemmatized_column(df, col):\n",
    "    lemmatized_col = []\n",
    "    for i in list(range(len(col))):\n",
    "        text = col[i]\n",
    "         # Remove non-letters        \n",
    "        letters_only = re.sub(\"[^a-zA-Z]\", \" \", text)\n",
    "        #\n",
    "        # Convert to lower case, split into individual words\n",
    "        words = letters_only.lower().split()\n",
    "        #\n",
    "        #convert the stop words to a set\n",
    "        stops = set(stopwords.words('english')) \n",
    "        # \n",
    "        # Remove stop words\n",
    "        meaningful_words = [w for w in words if not w in stops]\n",
    "        #\n",
    "        #exclude some key words\n",
    "        new_stops = ['lotr', 'asoiaf']\n",
    "        more_meaningful_words = [w for w in meaningful_words if not w in new_stops]\n",
    "        #\n",
    "        lemmed_words = [lemmatizer.lemmatize(i) for i in more_meaningful_words]\n",
    "        #Join the words back into one string separated by space, \n",
    "        # \n",
    "        joined_words = ' '.join(lemmed_words)\n",
    "        lemmatized_col.append(joined_words)\n",
    "        \n",
    "    df['lemmatized'] = lemmatized_col\n",
    "    return lemmatized_col"
   ]
  },
  {
   "cell_type": "code",
   "execution_count": 153,
   "metadata": {},
   "outputs": [],
   "source": [
    "lemmed_words = [lemmatizer.lemmatize(i) for i in more_meaningful_words]"
   ]
  },
  {
   "cell_type": "code",
   "execution_count": 165,
   "metadata": {},
   "outputs": [],
   "source": [
    "new_column= lemmatized_column(df, df.title)"
   ]
  },
  {
   "cell_type": "code",
   "execution_count": 166,
   "metadata": {
    "scrolled": false
   },
   "outputs": [
    {
     "data": {
      "text/plain": [
       "Index(['downs', 'is_self', 'is_video', 'num_comments', 'score', 'selftext',\n",
       "       'y_value', 'title', 'text_length', 'title_length', 'lemmatized'],\n",
       "      dtype='object')"
      ]
     },
     "execution_count": 166,
     "metadata": {},
     "output_type": "execute_result"
    }
   ],
   "source": [
    "df.columns"
   ]
  },
  {
   "cell_type": "markdown",
   "metadata": {},
   "source": [
    "#### Using CountVectorization on Lemmatized column"
   ]
  },
  {
   "cell_type": "code",
   "execution_count": 172,
   "metadata": {},
   "outputs": [],
   "source": [
    "#Train Test Split for entire DF of interest so that can append \n",
    "features = ['num_comments', 'score', 'selftext', 'title', 'text_length', 'title_length', 'lemmatized']\n",
    "X = df[features]\n",
    "y = df['y_value']\n",
    "\n",
    "X_train, X_test, y_train, y_test = train_test_split(X, y, random_state = 42, stratify=y)\n",
    "#Instantiate CountVectorizer\n",
    "vect = CountVectorizer(stop_words='english')\n",
    "\n",
    "#fit vect on X_train['title']\n",
    "vect.fit(X_train['lemmatized'])\n",
    "X_train_vect = vect.transform(X_train['lemmatized'])\n",
    "X_test_vect = vect.transform(X_test['lemmatized'])\n",
    "\n",
    "X_train_vect_df = pd.DataFrame(X_train_vect.todense(), columns=vect.get_feature_names())\n",
    "#here we can go back and append the other features we might want to use in our model\n",
    "X_test_vect_df = pd.DataFrame(X_test_vect.todense(), columns=vect.get_feature_names())"
   ]
  },
  {
   "cell_type": "code",
   "execution_count": 174,
   "metadata": {},
   "outputs": [
    {
     "name": "stderr",
     "output_type": "stream",
     "text": [
      "/Users/edithiyerhernandez/anaconda3/lib/python3.6/site-packages/sklearn/preprocessing/data.py:617: DataConversionWarning: Data with input dtype int64 were all converted to float64 by StandardScaler.\n",
      "  return self.partial_fit(X, y)\n",
      "/Users/edithiyerhernandez/anaconda3/lib/python3.6/site-packages/sklearn/base.py:462: DataConversionWarning: Data with input dtype int64 were all converted to float64 by StandardScaler.\n",
      "  return self.fit(X, **fit_params).transform(X)\n",
      "/Users/edithiyerhernandez/anaconda3/lib/python3.6/site-packages/ipykernel_launcher.py:9: DataConversionWarning: Data with input dtype int64 were all converted to float64 by StandardScaler.\n",
      "  if __name__ == '__main__':\n"
     ]
    },
    {
     "name": "stdout",
     "output_type": "stream",
     "text": [
      "running logistic regresssion\n",
      "running Decision Tree classifier\n",
      "running Bagging Classifier\n",
      "running Random Forest Classifier\n"
     ]
    },
    {
     "data": {
      "text/plain": [
       "[{'model': 'Logistic Regression',\n",
       "  'train score': 1.0,\n",
       "  'test score': 0.9959919839679359},\n",
       " {'model': 'Decision Tree',\n",
       "  'train score': 1.0,\n",
       "  'test score': 0.9979959919839679},\n",
       " {'model': 'Bagging Classifier',\n",
       "  'train score': 0.9993319973279893,\n",
       "  'test score': 0.9979959919839679},\n",
       " {'model': 'Random Forest Classifier',\n",
       "  'train score': 1.0,\n",
       "  'test score': 0.9919839679358717},\n",
       " {'model': 'Logistic Regression',\n",
       "  'train score': 1.0,\n",
       "  'test score': 0.9959919839679359},\n",
       " {'model': 'Decision Tree',\n",
       "  'train score': 1.0,\n",
       "  'test score': 0.9959919839679359},\n",
       " {'model': 'Bagging Classifier',\n",
       "  'train score': 1.0,\n",
       "  'test score': 0.9979959919839679},\n",
       " {'model': 'Random Forest Classifier',\n",
       "  'train score': 1.0,\n",
       "  'test score': 0.9979959919839679}]"
      ]
     },
     "execution_count": 174,
     "metadata": {},
     "output_type": "execute_result"
    }
   ],
   "source": [
    "model_iteration(X_train_vect_df, X_test_vect_df, y_train, y_test)"
   ]
  },
  {
   "cell_type": "markdown",
   "metadata": {},
   "source": [
    "### Conclusion and Recommendations"
   ]
  },
  {
   "cell_type": "code",
   "execution_count": null,
   "metadata": {},
   "outputs": [],
   "source": []
  }
 ],
 "metadata": {
  "kernelspec": {
   "display_name": "Python 3",
   "language": "python",
   "name": "python3"
  },
  "language_info": {
   "codemirror_mode": {
    "name": "ipython",
    "version": 3
   },
   "file_extension": ".py",
   "mimetype": "text/x-python",
   "name": "python",
   "nbconvert_exporter": "python",
   "pygments_lexer": "ipython3",
   "version": "3.6.6"
  }
 },
 "nbformat": 4,
 "nbformat_minor": 2
}
