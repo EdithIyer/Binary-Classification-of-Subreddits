{
 "cells": [
  {
   "cell_type": "markdown",
   "metadata": {},
   "source": [
    "# Project 3: Reddit API\n",
    "# Binary Classification of Reddit Posts - Lord of the Rings and Game of Thrones\n",
    "### Edith Iyer-Hernandez\n",
    "#### Due Friday, December 21st"
   ]
  },
  {
   "cell_type": "markdown",
   "metadata": {},
   "source": [
    "### Table of Contents\n",
    "\n",
    "- [Executive Summary](#Executive-Summary)\n",
    "    - Problem Statement\n",
    "    - Data Description\n",
    "    - Model Selection and Performance\n",
    "    - Findings and Recommendations\n",
    "- [Data Collection](#Data-Collection)\n",
    "- [Data Cleaning and EDA](#Data-Cleaning)\n",
    "- [Preprocessing & Modeling](#Preprocessing-Modeling)\n",
    "- [Evaluation](#Evaluation)\n",
    "- [Conclusion and Recommendations](#Conclusion)"
   ]
  },
  {
   "cell_type": "markdown",
   "metadata": {},
   "source": [
    "<a id=\"Executive-Summary\"></a>\n",
    "# Executive Summary"
   ]
  },
  {
   "cell_type": "markdown",
   "metadata": {},
   "source": [
    "## Introduction\n",
    "Reddit.com is a website that serves a variety of purposes ranging from close knit communities, fandom specific groups, news content to heated political discussions and advice forums. These niche, online communities are called subreddits and each has a specific focus, set of guidelines, and moderators. Some subreddits are private, and some are public. Users can submit posts as well as upvote and comment on other posts. Due to the content specificty of each subreddit, it is possible that we can utilize natural language processing to build a classification model.  \n",
    "<br>\n",
    "In this notebook we seek to answer the question: Can we build a classification model to distinguish between two subreddits using natural language processing?\n",
    "\n",
    "__________\n",
    "\n",
    "Throughout this notebook, we explore the creation a model to distinguinsh between the __[Game of Thrones subreddit](http://reddit.com/r/asoiaf/)__ subreddit and the  __[Lord of the Rings subreddit](http://reddit.com/r/lotr/)__. Both are fantasy series with a large cult following and boast large online communities. While they share many similar motifs, eg. a quest for the true king, and dragons, they are distinct and are in fact at vastly different stages in fandom. A Song of Ice and Fire is awaiting its final installment whereas Lord of the Rings had all three books in its trilogy released by October 1955.\n",
    "\n",
    "____________\n",
    "\n",
    "**Data Description**\n",
    "<br>\n",
    "<br>\n",
    "Data was collected via Reddit's API. A loop was created to pull 25 .json posts every two seconds using the requests library and an independent user agent designated as 'headers'. The .json files are automatically converted to a dictionary from which we can pull columns and rows for a dataframe containing an observation for each post, including, but not limited to, downvotes, number of comments, the text post, the text title, and the subreddit. We were mainly interested in the title, posts text, number of comments, and subreddit, our target variable. All the models to date have been created solely utilizing the post titles as features.\n",
    "<br>\n",
    "\n",
    "|Variable   |Description   | \n",
    "|---        |---           |\n",
    "|headers    |user agent created to ensure connection to API| \n",
    "|lotr   |Dictionary from .json data from the LOTR API   |\n",
    "|asoiaf   |Dictionary from .json data from the ASOIAF API   |\n",
    "|asoiaf_df|DataFrame created from asoiaf|\n",
    "|lotr_df|DataFrame created from lotr|\n",
    "|df|DataFrame from combined asoiaf_df and lotr_df|\n",
    "|X|DataFrame referring to features used in models|\n",
    "|y|Target variable, 0 = Lord of the Rings, 1 = A Song of Ice and Fire|\n",
    "\n",
    "____________________\n",
    "***Natural Language Preprocessing***\n",
    "<br>\n",
    "<br>\n",
    "We proceeded with natural language processing 3 different ways. \n",
    "1. CountVectorization, removing english stop words\n",
    "> We utilized this method initially to see how a model would behave with very little adjustment to the title text except removing stop words.\n",
    "2. Lemmatization, removing non letter characters, the subreddit names, series title words, and english stop words\n",
    "> This method allowed us to look at all words except 'lotr', 'lord', 'rings', 'asoiaf', 'game', 'thrones' and english stop words.\n",
    "3. Lemmatization, removing non letter characters, the subreddit names, series title words, top ranking words, and english stop words.\n",
    ">Upon inspection, we found that two additional words, 'spoilers' and 'extended' were extremely high indicators of classifiying a subreddit as asoiaf. Removing these two words, allowed for a more nuanced tuning of the models.\n",
    "\n",
    "________________\n",
    "\n",
    "***Model Selection***\n",
    "<br>\n",
    "<br>\n",
    "Five models were tested on the text features: \n",
    "1. Logistic Regression\n",
    "2. Bagging Classifier\n",
    "3. Decision Tree Classifier\n",
    "4. Random Forest Classifier\n",
    "5. AdaBoost Classifier\n",
    "<br>\n",
    "________________\n",
    "\n",
    "***Model Evaluation***\n",
    "<br>\n",
    "<br>\n",
    "This classification problem is one that does not value one outcome over the other, it is merely one that should have the highest possible accuracy score or a low misclassification rate. \n",
    "<br>\n",
    "The models all performed exceedingly well on the first two NLP methods, all with accuracy scores of over .99 on the testing data. \n",
    "<br>\n",
    "On the third preprocessed dataframe, the models saw lower training and testing accuracy scores.\n",
    "<br>\n",
    "While Logistic Regression had the highest accuracy score, we decided to use GridSearchCV to utilize optimization of hyper parameters on the RandomForest Classifier, the Bagging Classifier, and the AdaBoost Classifier.\n",
    "__________________\n",
    "***Findings and Recommendations***\n",
    "<br>\n",
    "The final model recommendation is Logistic Regression. This is not only interpretable, but also has consistently higher accuracy scores.\n",
    "<br>\n",
    "Further investigation into features selection might change the recommended model; incorporation of numeric featuers such as title length, number of comments and score may change accuracy of each model. "
   ]
  },
  {
   "cell_type": "markdown",
   "metadata": {},
   "source": [
    "<a id=\"Data Collection\"></a>\n",
    "## Data Collection"
   ]
  },
  {
   "cell_type": "code",
   "execution_count": 1,
   "metadata": {},
   "outputs": [],
   "source": [
    "import requests\n",
    "import time\n",
    "import pandas as pd"
   ]
  },
  {
   "cell_type": "code",
   "execution_count": 2,
   "metadata": {},
   "outputs": [],
   "source": [
    "#Create Own User Agent\n",
    "headers = {'User-agent': 'LOTR'}\n"
   ]
  },
  {
   "cell_type": "markdown",
   "metadata": {},
   "source": [
    "#### Create a Function to scrape data from Reddit's API"
   ]
  },
  {
   "cell_type": "code",
   "execution_count": 3,
   "metadata": {},
   "outputs": [],
   "source": [
    "#Create a function to scrape\n",
    "def scrape_reddit(url, length):\n",
    "    posts = []                 #list of posts\n",
    "    after = None               #create a variable for afters\n",
    "    for i in range(length):    #iterate through a number of times \n",
    "        if after == None:      \n",
    "            params = {}        #params will automatically add the '?after='after'' to the url\n",
    "        else:\n",
    "            params = {'after': after} #The after will be pulled from the json page\n",
    "            \n",
    "        res = requests.get(url, params = params, headers = headers) #variable that will request the json of the inputted url, params and headers\n",
    "        print(params)               #print params to ensure that all are unique\n",
    "        if res.status_code == 200:  #Create if statement to handle errors\n",
    "            the_json = res.json()   #create a json\n",
    "            posts.extend(the_json['data']['children']) #add the desired information to the posts list\n",
    "            after = the_json['data']['after'] #determine the after to use in the next iteration\n",
    "        else:                     \n",
    "            print(res.status_code) #else statement to handle a non 200 status_code\n",
    "        time.sleep(2)              #sleep for 2 seconds in between scrapes\n",
    "    \n",
    " \n",
    "    return posts"
   ]
  },
  {
   "cell_type": "markdown",
   "metadata": {},
   "source": [
    "***Scrape r/lotr***"
   ]
  },
  {
   "cell_type": "code",
   "execution_count": 4,
   "metadata": {},
   "outputs": [
    {
     "name": "stdout",
     "output_type": "stream",
     "text": [
      "{}\n",
      "{'after': 't3_a7gjvh'}\n",
      "{'after': 't3_a746yi'}\n",
      "{'after': 't3_a6x42m'}\n",
      "{'after': 't3_a6rhb4'}\n",
      "{'after': 't3_a6dnr7'}\n",
      "{'after': 't3_a5uddk'}\n",
      "{'after': 't3_a5wewx'}\n",
      "{'after': 't3_a5cwxk'}\n",
      "{'after': 't3_a4lr4s'}\n",
      "{'after': 't3_a4nq76'}\n",
      "{'after': 't3_a4dpxf'}\n",
      "{'after': 't3_a4184t'}\n",
      "{'after': 't3_a3qko4'}\n",
      "{'after': 't3_a3icjs'}\n",
      "{'after': 't3_a35hyq'}\n",
      "{'after': 't3_a2nyk5'}\n",
      "{'after': 't3_a2ewrs'}\n",
      "{'after': 't3_a29wgp'}\n",
      "{'after': 't3_a21fc8'}\n",
      "{'after': 't3_a1d3fj'}\n",
      "{'after': 't3_a1gmna'}\n",
      "{'after': 't3_a1634r'}\n",
      "{'after': 't3_a0kqqm'}\n",
      "{'after': 't3_a0ec3x'}\n",
      "{'after': 't3_9zvx0t'}\n",
      "{'after': 't3_9zko9l'}\n",
      "{'after': 't3_9zidwb'}\n",
      "{'after': 't3_9zeksa'}\n",
      "{'after': 't3_9zbbl9'}\n",
      "{'after': 't3_9ytf0b'}\n",
      "{'after': 't3_9ykdce'}\n",
      "{'after': 't3_9y4k3d'}\n",
      "{'after': 't3_9xp40g'}\n",
      "{'after': 't3_9xguxz'}\n",
      "{'after': 't3_9x3irj'}\n",
      "{'after': 't3_9wt7l0'}\n",
      "{'after': 't3_9w7uaa'}\n",
      "{'after': 't3_9w3s6y'}\n",
      "{'after': 't3_9vlpf1'}\n"
     ]
    }
   ],
   "source": [
    "lotr = scrape_reddit('https://www.reddit.com/r/lotr/.json', 40) #set variable"
   ]
  },
  {
   "cell_type": "markdown",
   "metadata": {},
   "source": [
    "***Turn Scraped Data into dataframe***"
   ]
  },
  {
   "cell_type": "code",
   "execution_count": 5,
   "metadata": {},
   "outputs": [],
   "source": [
    "#Create LOTR DF\n",
    "lotr_df = pd.DataFrame([lotr[i]['data'] for i in list(range(len(lotr)))])"
   ]
  },
  {
   "cell_type": "code",
   "execution_count": 6,
   "metadata": {},
   "outputs": [
    {
     "name": "stdout",
     "output_type": "stream",
     "text": [
      "{}\n",
      "{'after': 't3_a7c79a'}\n",
      "{'after': 't3_a6vbeq'}\n",
      "{'after': 't3_a6suw5'}\n",
      "{'after': 't3_a6w8j7'}\n",
      "{'after': 't3_a657ju'}\n",
      "{'after': 't3_a60obs'}\n",
      "{'after': 't3_a5hvzq'}\n",
      "{'after': 't3_a5gfjo'}\n",
      "{'after': 't3_a52olo'}\n",
      "{'after': 't3_a4yi3p'}\n",
      "{'after': 't3_a4lm48'}\n",
      "{'after': 't3_a4cht0'}\n",
      "{'after': 't3_a40p79'}\n",
      "{'after': 't3_a3ndv8'}\n",
      "{'after': 't3_a3hi1j'}\n",
      "{'after': 't3_a33080'}\n",
      "{'after': 't3_a2sk37'}\n",
      "{'after': 't3_a2bfil'}\n",
      "{'after': 't3_a2dnoa'}\n",
      "{'after': 't3_a206h1'}\n",
      "{'after': 't3_a1i47j'}\n",
      "{'after': 't3_a1kc23'}\n",
      "{'after': 't3_a1a4zz'}\n",
      "{'after': 't3_a12tl8'}\n",
      "{'after': 't3_a0vf9m'}\n",
      "{'after': 't3_a0lapw'}\n",
      "{'after': 't3_a08b3r'}\n",
      "{'after': 't3_a015r4'}\n",
      "{'after': 't3_9zo1wm'}\n",
      "{'after': 't3_9zfzgg'}\n",
      "{'after': 't3_9z6x5k'}\n",
      "{'after': 't3_9ymbw6'}\n",
      "{'after': 't3_9yul97'}\n",
      "{}\n",
      "{'after': 't3_a7c79a'}\n",
      "{'after': 't3_a6vbeq'}\n",
      "{'after': 't3_a6suw5'}\n",
      "{'after': 't3_a6w8j7'}\n",
      "{'after': 't3_a657ju'}\n"
     ]
    }
   ],
   "source": [
    "#Scrape ASOIAF subreddit\n",
    "asoif = scrape_reddit('https://www.reddit.com/r/asoiaf.json', 40)"
   ]
  },
  {
   "cell_type": "code",
   "execution_count": 10,
   "metadata": {},
   "outputs": [],
   "source": [
    "#Create a ASOIF DataFrame\n",
    "asoif_df = pd.DataFrame([asoif[i]['data'] for i in list(range(len(asoif)))])"
   ]
  },
  {
   "cell_type": "code",
   "execution_count": 35,
   "metadata": {},
   "outputs": [
    {
     "data": {
      "text/plain": [
       "40"
      ]
     },
     "execution_count": 35,
     "metadata": {},
     "output_type": "execute_result"
    }
   ],
   "source": [
    "asoif_df.duplicated(['selftext', 'title', 'num_comments', 'score', 'downs']).sum()"
   ]
  },
  {
   "cell_type": "code",
   "execution_count": 32,
   "metadata": {},
   "outputs": [
    {
     "data": {
      "text/plain": [
       "4"
      ]
     },
     "execution_count": 32,
     "metadata": {},
     "output_type": "execute_result"
    }
   ],
   "source": [
    "lotr_df.duplicated(['selftext', 'title']).sum()"
   ]
  },
  {
   "cell_type": "markdown",
   "metadata": {},
   "source": [
    "<a id=\"Data-Cleaning\"></a>\n",
    "## Data Cleaning and EDA"
   ]
  },
  {
   "cell_type": "markdown",
   "metadata": {},
   "source": [
    "#### Explore columns to determine which columns to keep."
   ]
  },
  {
   "cell_type": "code",
   "execution_count": 20,
   "metadata": {
    "scrolled": true
   },
   "outputs": [
    {
     "data": {
      "text/plain": [
       "(1970, 100)"
      ]
     },
     "execution_count": 20,
     "metadata": {},
     "output_type": "execute_result"
    }
   ],
   "source": [
    "#Concat the two data frames\n",
    "df = pd.concat([asoif_df, lotr_df])\n",
    "df.shape\n"
   ]
  },
  {
   "cell_type": "code",
   "execution_count": 21,
   "metadata": {},
   "outputs": [],
   "source": [
    "#reset index\n",
    "df.reset_index(drop = True, inplace=True)"
   ]
  },
  {
   "cell_type": "code",
   "execution_count": 22,
   "metadata": {},
   "outputs": [],
   "source": [
    "#Drop unnecessary columns\n",
    "df = df.drop(['author_cakeday', 'crosspost_parent', 'crosspost_parent_list', 'approved_at_utc', 'approved_by', 'archived', 'author',\n",
    "       'author_flair_background_color', 'author_flair_css_class',\n",
    "       'author_flair_richtext', 'author_flair_template_id',\n",
    "       'author_flair_text', 'author_flair_text_color', 'author_flair_type',\n",
    "       'author_fullname', 'author_patreon_flair', 'banned_at_utc', 'banned_by',\n",
    "       'can_gild', 'can_mod_post', 'category', 'clicked',\n",
    "       'content_categories', 'contest_mode', 'created', 'created_utc',\n",
    "       'distinguished', 'domain', 'edited', 'gilded', 'gildings',\n",
    "       'hidden', 'hide_score', 'id', 'is_crosspostable', 'is_meta',\n",
    "       'is_original_content', 'is_reddit_media_domain', 'is_robot_indexable',\n",
    "       'link_flair_background_color',\n",
    "       'link_flair_css_class', 'link_flair_richtext', 'link_flair_template_id',\n",
    "       'link_flair_text', 'link_flair_text_color', 'link_flair_type', 'locked',\n",
    "       'media', 'media_embed', 'media_metadata', 'media_only', 'mod_note',\n",
    "       'mod_reason_by', 'mod_reason_title', 'mod_reports', 'name', 'no_follow',\n",
    "       'num_crossposts', 'num_reports', 'over_18',\n",
    "       'parent_whitelist_status', 'permalink', 'pinned', 'post_hint',\n",
    "       'preview', 'pwls', 'quarantine', 'removal_reason', 'report_reasons',\n",
    "       'saved', 'secure_media', 'secure_media_embed',\n",
    "       'selftext_html', 'send_replies', 'spoiler', 'stickied',\n",
    "       'subreddit_id', 'subreddit_name_prefixed', 'subreddit_subscribers',\n",
    "       'subreddit_type', 'suggested_sort', 'thumbnail', 'thumbnail_height',\n",
    "       'thumbnail_width', 'ups', 'url', 'user_reports',\n",
    "       'whitelist_status', 'wls', 'likes', 'view_count', 'visited'], axis = 1)\n"
   ]
  },
  {
   "cell_type": "code",
   "execution_count": 23,
   "metadata": {},
   "outputs": [
    {
     "name": "stdout",
     "output_type": "stream",
     "text": [
      "<class 'pandas.core.frame.DataFrame'>\n",
      "RangeIndex: 1970 entries, 0 to 1969\n",
      "Data columns (total 8 columns):\n",
      "downs           1970 non-null int64\n",
      "is_self         1970 non-null bool\n",
      "is_video        1970 non-null bool\n",
      "num_comments    1970 non-null int64\n",
      "score           1970 non-null int64\n",
      "selftext        1970 non-null object\n",
      "subreddit       1970 non-null object\n",
      "title           1970 non-null object\n",
      "dtypes: bool(2), int64(3), object(3)\n",
      "memory usage: 96.3+ KB\n"
     ]
    }
   ],
   "source": [
    "df.info()"
   ]
  },
  {
   "cell_type": "code",
   "execution_count": 29,
   "metadata": {
    "scrolled": true
   },
   "outputs": [
    {
     "data": {
      "text/plain": [
       "171"
      ]
     },
     "execution_count": 29,
     "metadata": {},
     "output_type": "execute_result"
    }
   ],
   "source": [
    "#find duplicates duplicates\n",
    "df.duplicated(['title', 'selftext']).sum()"
   ]
  },
  {
   "cell_type": "code",
   "execution_count": 38,
   "metadata": {},
   "outputs": [],
   "source": [
    "#Drop Duplicates\n",
    "df.drop_duplicates(['selftext', 'title', 'num_comments', 'score', 'downs'], inplace=True)"
   ]
  },
  {
   "cell_type": "code",
   "execution_count": 390,
   "metadata": {},
   "outputs": [
    {
     "data": {
      "text/plain": [
       "0    0.513472\n",
       "1    0.486528\n",
       "Name: y_value, dtype: float64"
      ]
     },
     "execution_count": 390,
     "metadata": {},
     "output_type": "execute_result"
    }
   ],
   "source": [
    "#Check for balanced classes\n",
    "df.subreddit.value_counts(normalize = True)"
   ]
  },
  {
   "cell_type": "code",
   "execution_count": 40,
   "metadata": {},
   "outputs": [
    {
     "data": {
      "text/plain": [
       "0    991\n",
       "1    939\n",
       "Name: subreddit, dtype: int64"
      ]
     },
     "execution_count": 40,
     "metadata": {},
     "output_type": "execute_result"
    }
   ],
   "source": [
    "#Replace Game of Thrones with 1 and LOTR with 0\n",
    "df.subreddit = df.subreddit.map({'lotr': 0, 'asoiaf': 1})\n",
    "df.subreddit.value_counts()"
   ]
  },
  {
   "cell_type": "code",
   "execution_count": 41,
   "metadata": {},
   "outputs": [],
   "source": [
    "#rename 'subreddit' to y_value\n",
    "df.rename(index=str, columns={\"subreddit\": \"y_value\"}, inplace=True)"
   ]
  },
  {
   "cell_type": "code",
   "execution_count": 42,
   "metadata": {},
   "outputs": [],
   "source": [
    "#Binarize 'is_self'\n",
    "df.is_self = df.is_self.map({False : 0, True : 1})"
   ]
  },
  {
   "cell_type": "code",
   "execution_count": 43,
   "metadata": {},
   "outputs": [],
   "source": [
    "#binarize 'is_video'\n",
    "df.is_video = df.is_video.map({False : 0 , True : 1})"
   ]
  },
  {
   "cell_type": "code",
   "execution_count": 44,
   "metadata": {},
   "outputs": [],
   "source": [
    "#Save as .csv:\n",
    "df.to_csv('./reddit_scrape.csv')"
   ]
  },
  {
   "cell_type": "markdown",
   "metadata": {},
   "source": [
    "### Distribution Visualization"
   ]
  },
  {
   "cell_type": "code",
   "execution_count": 45,
   "metadata": {},
   "outputs": [],
   "source": [
    "#Visualize numeric distributions\n",
    "import seaborn as sns\n",
    "import matplotlib.pyplot as plt\n",
    "import numpy as np\n",
    "\n",
    "plt.style.use('seaborn-whitegrid')\n",
    "\n",
    "%matplotlib inline"
   ]
  },
  {
   "cell_type": "markdown",
   "metadata": {},
   "source": [
    "***Look at Distributions***"
   ]
  },
  {
   "cell_type": "code",
   "execution_count": 391,
   "metadata": {
    "scrolled": true
   },
   "outputs": [
    {
     "data": {
      "text/plain": [
       "''"
      ]
     },
     "execution_count": 391,
     "metadata": {},
     "output_type": "execute_result"
    },
    {
     "data": {
      "image/png": "[encoded data removed]",
      "text/plain": [
       "<Figure size 720x360 with 2 Axes>"
      ]
     },
     "metadata": {
      "needs_background": "light"
     },
     "output_type": "display_data"
    }
   ],
   "source": [
    "fig, ax = plt.subplots(figsize=(10, 5), nrows=1, ncols=2, sharey=True) # You'll want to specify your figsize\n",
    "ax = ax.ravel() # Ravel turns a matrix into a vector, which is easier to iterate\n",
    "#for i, column in enumerate(list_of_columns): # Gives us an index value to get into all our lists\n",
    "ax[0].hist(df[df.y_value == 1]['num_comments'], bins = 200, color = 'green') # feel free to add more settings\n",
    "        # Set titles, labels, etc here for each subplot\n",
    "ax[0].set_title('Number of Comments (Game of Thrones)', fontsize=15)\n",
    "#ax[i].set_xlabel(list_of_xlabels[i])\n",
    "ax[1].hist(df[df.y_value == 0]['num_comments'], bins = 200, color = 'blue')\n",
    "ax[1].set_title('Number of Comments (LOTR)', fontsize=15)\n",
    "#ax[1].hist(df[df.subreddit == 1]['score'], bins = 200, color = 'dimgrey')\n",
    "#ax[1].set_title('Score (GOT)')\n",
    "#ax[1].hist(df[df.subreddit == 0]['score'], bins = 200, color = 'blue')\n",
    "#ax[1].set_title('Score (LOTR)')\n",
    "ax[0].set_ylabel('Frequency')\n",
    ";"
   ]
  },
  {
   "cell_type": "code",
   "execution_count": 47,
   "metadata": {
    "scrolled": true
   },
   "outputs": [
    {
     "data": {
      "text/plain": [
       "Text(0, 0.5, 'Frequency')"
      ]
     },
     "execution_count": 47,
     "metadata": {},
     "output_type": "execute_result"
    },
    {
     "data": {
      "image/png": "[encoded data removed]",
      "text/plain": [
       "<Figure size 720x360 with 2 Axes>"
      ]
     },
     "metadata": {
      "needs_background": "light"
     },
     "output_type": "display_data"
    }
   ],
   "source": [
    "fig, ax = plt.subplots(figsize=(10, 5), nrows=1, ncols=2, sharey=True) # You'll want to specify your figsize\n",
    "ax = ax.ravel() # Ravel turns a matrix into a vector, which is easier to iterate\n",
    "#for i, column in enumerate(list_of_columns): # Gives us an index value to get into all our lists\n",
    "#ax[0].hist(df[df.subreddit == 1]['num_comments'], bins = 200, color = 'green') # feel free to add more settings\n",
    "        # Set titles, labels, etc here for each subplot\n",
    "#ax[0].set_title('Number of Comments (Game of Thrones)')\n",
    "#ax[i].set_xlabel(list_of_xlabels[i])\n",
    "#ax[1].hist(df[df.subreddit == 0]['num_comments'], bins = 200, color = 'blue')\n",
    "#ax[1].set_title('Number of Comments (LOTR)')\n",
    "ax[0].hist(df[df.y_value == 1]['score'], bins = 200, color = 'dimgrey')\n",
    "ax[0].set_title('Score (GOT)')\n",
    "ax[1].hist(df[df.y_value == 0]['score'], bins = 200, color = 'blue')\n",
    "ax[1].set_title('Score (LOTR)')\n",
    "ax[0].set_ylabel('Frequency')"
   ]
  },
  {
   "cell_type": "markdown",
   "metadata": {},
   "source": [
    "Histograms of numerical data - score and number of comments- for the two subreddits show high concentration of 0 values and a long rightside trail of the distributions in all 4 cases. There is a higher 0 concentration of comments and scores for LOTR than GOT."
   ]
  },
  {
   "cell_type": "code",
   "execution_count": 48,
   "metadata": {
    "scrolled": true
   },
   "outputs": [
    {
     "data": {
      "text/html": [
       "<div>\n",
       "<style scoped>\n",
       "    .dataframe tbody tr th:only-of-type {\n",
       "        vertical-align: middle;\n",
       "    }\n",
       "\n",
       "    .dataframe tbody tr th {\n",
       "        vertical-align: top;\n",
       "    }\n",
       "\n",
       "    .dataframe thead th {\n",
       "        text-align: right;\n",
       "    }\n",
       "</style>\n",
       "<table border=\"1\" class=\"dataframe\">\n",
       "  <thead>\n",
       "    <tr style=\"text-align: right;\">\n",
       "      <th></th>\n",
       "      <th>count</th>\n",
       "      <th>mean</th>\n",
       "      <th>std</th>\n",
       "      <th>min</th>\n",
       "      <th>25%</th>\n",
       "      <th>50%</th>\n",
       "      <th>75%</th>\n",
       "      <th>max</th>\n",
       "    </tr>\n",
       "  </thead>\n",
       "  <tbody>\n",
       "    <tr>\n",
       "      <th>downs</th>\n",
       "      <td>1930.0</td>\n",
       "      <td>0.000000</td>\n",
       "      <td>0.000000</td>\n",
       "      <td>0.0</td>\n",
       "      <td>0.00</td>\n",
       "      <td>0.0</td>\n",
       "      <td>0.0</td>\n",
       "      <td>0.0</td>\n",
       "    </tr>\n",
       "    <tr>\n",
       "      <th>is_self</th>\n",
       "      <td>1930.0</td>\n",
       "      <td>0.646114</td>\n",
       "      <td>0.478298</td>\n",
       "      <td>0.0</td>\n",
       "      <td>0.00</td>\n",
       "      <td>1.0</td>\n",
       "      <td>1.0</td>\n",
       "      <td>1.0</td>\n",
       "    </tr>\n",
       "    <tr>\n",
       "      <th>is_video</th>\n",
       "      <td>1930.0</td>\n",
       "      <td>0.003109</td>\n",
       "      <td>0.055684</td>\n",
       "      <td>0.0</td>\n",
       "      <td>0.00</td>\n",
       "      <td>0.0</td>\n",
       "      <td>0.0</td>\n",
       "      <td>1.0</td>\n",
       "    </tr>\n",
       "    <tr>\n",
       "      <th>num_comments</th>\n",
       "      <td>1930.0</td>\n",
       "      <td>32.445078</td>\n",
       "      <td>73.317565</td>\n",
       "      <td>0.0</td>\n",
       "      <td>3.25</td>\n",
       "      <td>10.0</td>\n",
       "      <td>30.0</td>\n",
       "      <td>1147.0</td>\n",
       "    </tr>\n",
       "    <tr>\n",
       "      <th>score</th>\n",
       "      <td>1930.0</td>\n",
       "      <td>211.716580</td>\n",
       "      <td>1089.620560</td>\n",
       "      <td>0.0</td>\n",
       "      <td>5.00</td>\n",
       "      <td>14.0</td>\n",
       "      <td>45.0</td>\n",
       "      <td>30236.0</td>\n",
       "    </tr>\n",
       "    <tr>\n",
       "      <th>y_value</th>\n",
       "      <td>1930.0</td>\n",
       "      <td>0.486528</td>\n",
       "      <td>0.499948</td>\n",
       "      <td>0.0</td>\n",
       "      <td>0.00</td>\n",
       "      <td>0.0</td>\n",
       "      <td>1.0</td>\n",
       "      <td>1.0</td>\n",
       "    </tr>\n",
       "  </tbody>\n",
       "</table>\n",
       "</div>"
      ],
      "text/plain": [
       "               count        mean          std  min   25%   50%   75%      max\n",
       "downs         1930.0    0.000000     0.000000  0.0  0.00   0.0   0.0      0.0\n",
       "is_self       1930.0    0.646114     0.478298  0.0  0.00   1.0   1.0      1.0\n",
       "is_video      1930.0    0.003109     0.055684  0.0  0.00   0.0   0.0      1.0\n",
       "num_comments  1930.0   32.445078    73.317565  0.0  3.25  10.0  30.0   1147.0\n",
       "score         1930.0  211.716580  1089.620560  0.0  5.00  14.0  45.0  30236.0\n",
       "y_value       1930.0    0.486528     0.499948  0.0  0.00   0.0   1.0      1.0"
      ]
     },
     "execution_count": 48,
     "metadata": {},
     "output_type": "execute_result"
    }
   ],
   "source": [
    "df.describe().T"
   ]
  },
  {
   "cell_type": "markdown",
   "metadata": {},
   "source": [
    "The above description of numerical information shows that downs have no non-zero values and should also be removed. Additionally, we can see that 65% qualify as `is_self`, 0.3% qualify as `is_video`. Scores range from 0 to 30215, and number of comments range from 0 to 885."
   ]
  },
  {
   "cell_type": "code",
   "execution_count": 49,
   "metadata": {},
   "outputs": [
    {
     "data": {
      "text/html": [
       "<div>\n",
       "<style scoped>\n",
       "    .dataframe tbody tr th:only-of-type {\n",
       "        vertical-align: middle;\n",
       "    }\n",
       "\n",
       "    .dataframe tbody tr th {\n",
       "        vertical-align: top;\n",
       "    }\n",
       "\n",
       "    .dataframe thead th {\n",
       "        text-align: right;\n",
       "    }\n",
       "</style>\n",
       "<table border=\"1\" class=\"dataframe\">\n",
       "  <thead>\n",
       "    <tr style=\"text-align: right;\">\n",
       "      <th></th>\n",
       "      <th>downs</th>\n",
       "      <th>is_self</th>\n",
       "      <th>is_video</th>\n",
       "      <th>num_comments</th>\n",
       "      <th>score</th>\n",
       "      <th>selftext</th>\n",
       "      <th>y_value</th>\n",
       "      <th>title</th>\n",
       "      <th>text_length</th>\n",
       "    </tr>\n",
       "  </thead>\n",
       "  <tbody>\n",
       "    <tr>\n",
       "      <th>0</th>\n",
       "      <td>0</td>\n",
       "      <td>1</td>\n",
       "      <td>0</td>\n",
       "      <td>4</td>\n",
       "      <td>233</td>\n",
       "      <td>Please find links to all of the chapter discus...</td>\n",
       "      <td>1</td>\n",
       "      <td>(Spoilers Extended) Fire and Blood Volume I: O...</td>\n",
       "      <td>1009</td>\n",
       "    </tr>\n",
       "    <tr>\n",
       "      <th>1</th>\n",
       "      <td>0</td>\n",
       "      <td>1</td>\n",
       "      <td>0</td>\n",
       "      <td>34</td>\n",
       "      <td>7</td>\n",
       "      <td>Welcome to the Weekly Q &amp;amp; A! Feel free to ...</td>\n",
       "      <td>1</td>\n",
       "      <td>(Spoilers Main) Weekly Q and A</td>\n",
       "      <td>346</td>\n",
       "    </tr>\n",
       "    <tr>\n",
       "      <th>2</th>\n",
       "      <td>0</td>\n",
       "      <td>1</td>\n",
       "      <td>0</td>\n",
       "      <td>75</td>\n",
       "      <td>224</td>\n",
       "      <td>So let me just preface this by saying I starte...</td>\n",
       "      <td>1</td>\n",
       "      <td>[SPOILERS PUBLISHED] I Just finished the Tales...</td>\n",
       "      <td>2864</td>\n",
       "    </tr>\n",
       "    <tr>\n",
       "      <th>3</th>\n",
       "      <td>0</td>\n",
       "      <td>1</td>\n",
       "      <td>0</td>\n",
       "      <td>266</td>\n",
       "      <td>333</td>\n",
       "      <td>In ACOK when Daenerys learns about the death ...</td>\n",
       "      <td>1</td>\n",
       "      <td>[Spoilers MAIN] Instances of Unreliable narrat...</td>\n",
       "      <td>2600</td>\n",
       "    </tr>\n",
       "    <tr>\n",
       "      <th>4</th>\n",
       "      <td>0</td>\n",
       "      <td>1</td>\n",
       "      <td>0</td>\n",
       "      <td>46</td>\n",
       "      <td>24</td>\n",
       "      <td>Listening to the World of Ice and Fire right n...</td>\n",
       "      <td>1</td>\n",
       "      <td>[Spoilers Published] Wyverns, ice dragons, sea...</td>\n",
       "      <td>571</td>\n",
       "    </tr>\n",
       "  </tbody>\n",
       "</table>\n",
       "</div>"
      ],
      "text/plain": [
       "   downs  is_self  is_video  num_comments  score  \\\n",
       "0      0        1         0             4    233   \n",
       "1      0        1         0            34      7   \n",
       "2      0        1         0            75    224   \n",
       "3      0        1         0           266    333   \n",
       "4      0        1         0            46     24   \n",
       "\n",
       "                                            selftext  y_value  \\\n",
       "0  Please find links to all of the chapter discus...        1   \n",
       "1  Welcome to the Weekly Q &amp; A! Feel free to ...        1   \n",
       "2  So let me just preface this by saying I starte...        1   \n",
       "3   In ACOK when Daenerys learns about the death ...        1   \n",
       "4  Listening to the World of Ice and Fire right n...        1   \n",
       "\n",
       "                                               title  text_length  \n",
       "0  (Spoilers Extended) Fire and Blood Volume I: O...         1009  \n",
       "1                     (Spoilers Main) Weekly Q and A          346  \n",
       "2  [SPOILERS PUBLISHED] I Just finished the Tales...         2864  \n",
       "3  [Spoilers MAIN] Instances of Unreliable narrat...         2600  \n",
       "4  [Spoilers Published] Wyverns, ice dragons, sea...          571  "
      ]
     },
     "execution_count": 49,
     "metadata": {},
     "output_type": "execute_result"
    }
   ],
   "source": [
    "#Look at comment text length and add column to df\n",
    "df['text_length'] = [len(i) for i in df.selftext]\n",
    "df.head()"
   ]
  },
  {
   "cell_type": "code",
   "execution_count": 50,
   "metadata": {
    "scrolled": false
   },
   "outputs": [
    {
     "data": {
      "text/html": [
       "<div>\n",
       "<style scoped>\n",
       "    .dataframe tbody tr th:only-of-type {\n",
       "        vertical-align: middle;\n",
       "    }\n",
       "\n",
       "    .dataframe tbody tr th {\n",
       "        vertical-align: top;\n",
       "    }\n",
       "\n",
       "    .dataframe thead th {\n",
       "        text-align: right;\n",
       "    }\n",
       "</style>\n",
       "<table border=\"1\" class=\"dataframe\">\n",
       "  <thead>\n",
       "    <tr style=\"text-align: right;\">\n",
       "      <th></th>\n",
       "      <th>downs</th>\n",
       "      <th>is_self</th>\n",
       "      <th>is_video</th>\n",
       "      <th>num_comments</th>\n",
       "      <th>score</th>\n",
       "      <th>selftext</th>\n",
       "      <th>y_value</th>\n",
       "      <th>title</th>\n",
       "      <th>text_length</th>\n",
       "      <th>title_length</th>\n",
       "    </tr>\n",
       "  </thead>\n",
       "  <tbody>\n",
       "    <tr>\n",
       "      <th>0</th>\n",
       "      <td>0</td>\n",
       "      <td>1</td>\n",
       "      <td>0</td>\n",
       "      <td>4</td>\n",
       "      <td>233</td>\n",
       "      <td>Please find links to all of the chapter discus...</td>\n",
       "      <td>1</td>\n",
       "      <td>(Spoilers Extended) Fire and Blood Volume I: O...</td>\n",
       "      <td>1009</td>\n",
       "      <td>68</td>\n",
       "    </tr>\n",
       "    <tr>\n",
       "      <th>1</th>\n",
       "      <td>0</td>\n",
       "      <td>1</td>\n",
       "      <td>0</td>\n",
       "      <td>34</td>\n",
       "      <td>7</td>\n",
       "      <td>Welcome to the Weekly Q &amp;amp; A! Feel free to ...</td>\n",
       "      <td>1</td>\n",
       "      <td>(Spoilers Main) Weekly Q and A</td>\n",
       "      <td>346</td>\n",
       "      <td>30</td>\n",
       "    </tr>\n",
       "    <tr>\n",
       "      <th>2</th>\n",
       "      <td>0</td>\n",
       "      <td>1</td>\n",
       "      <td>0</td>\n",
       "      <td>75</td>\n",
       "      <td>224</td>\n",
       "      <td>So let me just preface this by saying I starte...</td>\n",
       "      <td>1</td>\n",
       "      <td>[SPOILERS PUBLISHED] I Just finished the Tales...</td>\n",
       "      <td>2864</td>\n",
       "      <td>108</td>\n",
       "    </tr>\n",
       "    <tr>\n",
       "      <th>3</th>\n",
       "      <td>0</td>\n",
       "      <td>1</td>\n",
       "      <td>0</td>\n",
       "      <td>266</td>\n",
       "      <td>333</td>\n",
       "      <td>In ACOK when Daenerys learns about the death ...</td>\n",
       "      <td>1</td>\n",
       "      <td>[Spoilers MAIN] Instances of Unreliable narrat...</td>\n",
       "      <td>2600</td>\n",
       "      <td>71</td>\n",
       "    </tr>\n",
       "    <tr>\n",
       "      <th>4</th>\n",
       "      <td>0</td>\n",
       "      <td>1</td>\n",
       "      <td>0</td>\n",
       "      <td>46</td>\n",
       "      <td>24</td>\n",
       "      <td>Listening to the World of Ice and Fire right n...</td>\n",
       "      <td>1</td>\n",
       "      <td>[Spoilers Published] Wyverns, ice dragons, sea...</td>\n",
       "      <td>571</td>\n",
       "      <td>153</td>\n",
       "    </tr>\n",
       "  </tbody>\n",
       "</table>\n",
       "</div>"
      ],
      "text/plain": [
       "   downs  is_self  is_video  num_comments  score  \\\n",
       "0      0        1         0             4    233   \n",
       "1      0        1         0            34      7   \n",
       "2      0        1         0            75    224   \n",
       "3      0        1         0           266    333   \n",
       "4      0        1         0            46     24   \n",
       "\n",
       "                                            selftext  y_value  \\\n",
       "0  Please find links to all of the chapter discus...        1   \n",
       "1  Welcome to the Weekly Q &amp; A! Feel free to ...        1   \n",
       "2  So let me just preface this by saying I starte...        1   \n",
       "3   In ACOK when Daenerys learns about the death ...        1   \n",
       "4  Listening to the World of Ice and Fire right n...        1   \n",
       "\n",
       "                                               title  text_length  \\\n",
       "0  (Spoilers Extended) Fire and Blood Volume I: O...         1009   \n",
       "1                     (Spoilers Main) Weekly Q and A          346   \n",
       "2  [SPOILERS PUBLISHED] I Just finished the Tales...         2864   \n",
       "3  [Spoilers MAIN] Instances of Unreliable narrat...         2600   \n",
       "4  [Spoilers Published] Wyverns, ice dragons, sea...          571   \n",
       "\n",
       "   title_length  \n",
       "0            68  \n",
       "1            30  \n",
       "2           108  \n",
       "3            71  \n",
       "4           153  "
      ]
     },
     "execution_count": 50,
     "metadata": {},
     "output_type": "execute_result"
    }
   ],
   "source": [
    "#Look at length of title and add the length to the df\n",
    "df['title_length'] = [len(i) for i in df.title]\n",
    "df.head()"
   ]
  },
  {
   "cell_type": "code",
   "execution_count": 51,
   "metadata": {
    "scrolled": true
   },
   "outputs": [
    {
     "data": {
      "text/html": [
       "<div>\n",
       "<style scoped>\n",
       "    .dataframe tbody tr th:only-of-type {\n",
       "        vertical-align: middle;\n",
       "    }\n",
       "\n",
       "    .dataframe tbody tr th {\n",
       "        vertical-align: top;\n",
       "    }\n",
       "\n",
       "    .dataframe thead th {\n",
       "        text-align: right;\n",
       "    }\n",
       "</style>\n",
       "<table border=\"1\" class=\"dataframe\">\n",
       "  <thead>\n",
       "    <tr style=\"text-align: right;\">\n",
       "      <th></th>\n",
       "      <th>count</th>\n",
       "      <th>mean</th>\n",
       "      <th>std</th>\n",
       "      <th>min</th>\n",
       "      <th>25%</th>\n",
       "      <th>50%</th>\n",
       "      <th>75%</th>\n",
       "      <th>max</th>\n",
       "    </tr>\n",
       "  </thead>\n",
       "  <tbody>\n",
       "    <tr>\n",
       "      <th>downs</th>\n",
       "      <td>1930.0</td>\n",
       "      <td>0.000000</td>\n",
       "      <td>0.000000</td>\n",
       "      <td>0.0</td>\n",
       "      <td>0.00</td>\n",
       "      <td>0.0</td>\n",
       "      <td>0.0</td>\n",
       "      <td>0.0</td>\n",
       "    </tr>\n",
       "    <tr>\n",
       "      <th>is_self</th>\n",
       "      <td>1930.0</td>\n",
       "      <td>0.646114</td>\n",
       "      <td>0.478298</td>\n",
       "      <td>0.0</td>\n",
       "      <td>0.00</td>\n",
       "      <td>1.0</td>\n",
       "      <td>1.0</td>\n",
       "      <td>1.0</td>\n",
       "    </tr>\n",
       "    <tr>\n",
       "      <th>is_video</th>\n",
       "      <td>1930.0</td>\n",
       "      <td>0.003109</td>\n",
       "      <td>0.055684</td>\n",
       "      <td>0.0</td>\n",
       "      <td>0.00</td>\n",
       "      <td>0.0</td>\n",
       "      <td>0.0</td>\n",
       "      <td>1.0</td>\n",
       "    </tr>\n",
       "    <tr>\n",
       "      <th>num_comments</th>\n",
       "      <td>1930.0</td>\n",
       "      <td>32.445078</td>\n",
       "      <td>73.317565</td>\n",
       "      <td>0.0</td>\n",
       "      <td>3.25</td>\n",
       "      <td>10.0</td>\n",
       "      <td>30.0</td>\n",
       "      <td>1147.0</td>\n",
       "    </tr>\n",
       "    <tr>\n",
       "      <th>score</th>\n",
       "      <td>1930.0</td>\n",
       "      <td>211.716580</td>\n",
       "      <td>1089.620560</td>\n",
       "      <td>0.0</td>\n",
       "      <td>5.00</td>\n",
       "      <td>14.0</td>\n",
       "      <td>45.0</td>\n",
       "      <td>30236.0</td>\n",
       "    </tr>\n",
       "    <tr>\n",
       "      <th>y_value</th>\n",
       "      <td>1930.0</td>\n",
       "      <td>0.486528</td>\n",
       "      <td>0.499948</td>\n",
       "      <td>0.0</td>\n",
       "      <td>0.00</td>\n",
       "      <td>0.0</td>\n",
       "      <td>1.0</td>\n",
       "      <td>1.0</td>\n",
       "    </tr>\n",
       "    <tr>\n",
       "      <th>text_length</th>\n",
       "      <td>1930.0</td>\n",
       "      <td>827.081865</td>\n",
       "      <td>2925.644447</td>\n",
       "      <td>0.0</td>\n",
       "      <td>0.00</td>\n",
       "      <td>168.0</td>\n",
       "      <td>622.5</td>\n",
       "      <td>40062.0</td>\n",
       "    </tr>\n",
       "    <tr>\n",
       "      <th>title_length</th>\n",
       "      <td>1930.0</td>\n",
       "      <td>64.398446</td>\n",
       "      <td>38.059928</td>\n",
       "      <td>4.0</td>\n",
       "      <td>39.00</td>\n",
       "      <td>56.0</td>\n",
       "      <td>80.0</td>\n",
       "      <td>298.0</td>\n",
       "    </tr>\n",
       "  </tbody>\n",
       "</table>\n",
       "</div>"
      ],
      "text/plain": [
       "               count        mean          std  min    25%    50%    75%  \\\n",
       "downs         1930.0    0.000000     0.000000  0.0   0.00    0.0    0.0   \n",
       "is_self       1930.0    0.646114     0.478298  0.0   0.00    1.0    1.0   \n",
       "is_video      1930.0    0.003109     0.055684  0.0   0.00    0.0    0.0   \n",
       "num_comments  1930.0   32.445078    73.317565  0.0   3.25   10.0   30.0   \n",
       "score         1930.0  211.716580  1089.620560  0.0   5.00   14.0   45.0   \n",
       "y_value       1930.0    0.486528     0.499948  0.0   0.00    0.0    1.0   \n",
       "text_length   1930.0  827.081865  2925.644447  0.0   0.00  168.0  622.5   \n",
       "title_length  1930.0   64.398446    38.059928  4.0  39.00   56.0   80.0   \n",
       "\n",
       "                  max  \n",
       "downs             0.0  \n",
       "is_self           1.0  \n",
       "is_video          1.0  \n",
       "num_comments   1147.0  \n",
       "score         30236.0  \n",
       "y_value           1.0  \n",
       "text_length   40062.0  \n",
       "title_length    298.0  "
      ]
     },
     "execution_count": 51,
     "metadata": {},
     "output_type": "execute_result"
    }
   ],
   "source": [
    "df.describe().T"
   ]
  },
  {
   "cell_type": "markdown",
   "metadata": {},
   "source": [
    "***Add Cleaned CSV to repository***"
   ]
  },
  {
   "cell_type": "code",
   "execution_count": 52,
   "metadata": {},
   "outputs": [],
   "source": [
    "df.to_csv('./reddit_scraped_cleaned.csv', index=False)"
   ]
  },
  {
   "cell_type": "markdown",
   "metadata": {},
   "source": [
    "***Create Histograms to look at text length distribution - title and post***"
   ]
  },
  {
   "cell_type": "code",
   "execution_count": 53,
   "metadata": {},
   "outputs": [
    {
     "data": {
      "image/png": "[encoded data removed]",
      "text/plain": [
       "<Figure size 1080x360 with 3 Axes>"
      ]
     },
     "metadata": {
      "needs_background": "light"
     },
     "output_type": "display_data"
    }
   ],
   "source": [
    "#Histograms of text length distribution for composite and for each subreddit\n",
    "fig, ax = plt.subplots(figsize=(15, 5), nrows=1, ncols=3, sharey=True) # You'll want to specify your figsize\n",
    "ax = ax.ravel() # Ravel turns a matrix into a vector, which is easier to iterate\n",
    "#for i, column in enumerate(list_of_columns): # Gives us an index value to get into all our lists\n",
    "ax[0].hist(df[df.y_value == 1]['text_length'], bins = 50, color = 'green') # feel free to add more settings\n",
    "        # Set titles, labels, etc here for each subplot\n",
    "ax[0].set_title('Comment Length (Game of Thrones)')\n",
    "#ax[i].set_xlabel(list_of_xlabels[i])\n",
    "ax[1].hist(df[df.y_value == 0]['text_length'], bins = 50, color = 'blue')\n",
    "ax[1].set_title('Comment Length (LOTR)')\n",
    "ax[2].hist(df['text_length'], bins = 50, color = 'dimgrey')\n",
    "ax[2].set_title('Comment Length (Overall)')\n",
    "\n",
    "ax[0].set_ylabel('Frequency');"
   ]
  },
  {
   "cell_type": "code",
   "execution_count": 54,
   "metadata": {},
   "outputs": [
    {
     "data": {
      "image/png": "[encoded data removed]",
      "text/plain": [
       "<Figure size 1080x360 with 3 Axes>"
      ]
     },
     "metadata": {
      "needs_background": "light"
     },
     "output_type": "display_data"
    }
   ],
   "source": [
    "#Histograms of title length distribution for composite and for each subreddit\n",
    "fig, ax = plt.subplots(figsize=(15, 5), nrows=1, ncols=3, sharey=True) # You'll want to specify your figsize\n",
    "ax = ax.ravel() # Ravel turns a matrix into a vector, which is easier to iterate\n",
    "#for i, column in enumerate(list_of_columns): # Gives us an index value to get into all our lists\n",
    "ax[0].hist(df[df.y_value == 1]['title_length'], bins = 50, color = 'green') # feel free to add more settings\n",
    "        # Set titles, labels, etc here for each subplot\n",
    "ax[0].set_title('Title Length (Game of Thrones)')\n",
    "#ax[i].set_xlabel(list_of_xlabels[i])\n",
    "ax[1].hist(df[df.y_value == 0]['title_length'], bins = 50, color = 'blue')\n",
    "ax[1].set_title('Title Length (LOTR)')\n",
    "ax[2].hist(df['title_length'], bins = 50, color = 'dimgrey')\n",
    "ax[2].set_title('Title Length (Overall)')\n",
    "\n",
    "ax[0].set_ylabel('Frequency');"
   ]
  },
  {
   "cell_type": "markdown",
   "metadata": {},
   "source": [
    "<a id=\"Preprocessing-Modeling\"></a>\n",
    "## Preprocessing and Modeling"
   ]
  },
  {
   "cell_type": "code",
   "execution_count": 143,
   "metadata": {},
   "outputs": [],
   "source": [
    "#imports\n",
    "from sklearn.feature_extraction.text import CountVectorizer, TfidfVectorizer, HashingVectorizer\n",
    "from sklearn.tree import DecisionTreeClassifier\n",
    "from sklearn.ensemble import RandomForestClassifier, BaggingClassifier, ExtraTreesClassifier, AdaBoostClassifier\n",
    "from sklearn.linear_model import LogisticRegression\n",
    "from sklearn.preprocessing import StandardScaler\n",
    "from sklearn.model_selection import cross_val_score, train_test_split, GridSearchCV\n",
    "from sklearn.metrics import confusion_matrix\n",
    "import warnings\n",
    "warnings.simplefilter(action='ignore', category=FutureWarning)"
   ]
  },
  {
   "cell_type": "markdown",
   "metadata": {},
   "source": [
    "### CountVectorizer Preprocessing\n",
    "1. Train/Test Split\n",
    "2. Instantiate CountVectorizer\n",
    "3. CountVectorize Title text\n",
    "4. Turn vectorized text into a DataFrame\n",
    "5. Instantiate Model\n",
    "6. Fit Model\n",
    "7. Record Score"
   ]
  },
  {
   "cell_type": "markdown",
   "metadata": {},
   "source": [
    "In order to avoid rerunning the whole notebook, we have imported the cleaned pdf here to use."
   ]
  },
  {
   "cell_type": "code",
   "execution_count": 87,
   "metadata": {},
   "outputs": [],
   "source": [
    "\n",
    "df = pd.read_csv('./reddit_scraped_cleaned.csv')"
   ]
  },
  {
   "cell_type": "code",
   "execution_count": 88,
   "metadata": {
    "scrolled": true
   },
   "outputs": [
    {
     "name": "stdout",
     "output_type": "stream",
     "text": [
      "<class 'pandas.core.frame.DataFrame'>\n",
      "RangeIndex: 1930 entries, 0 to 1929\n",
      "Data columns (total 10 columns):\n",
      "downs           1930 non-null int64\n",
      "is_self         1930 non-null int64\n",
      "is_video        1930 non-null int64\n",
      "num_comments    1930 non-null int64\n",
      "score           1930 non-null int64\n",
      "selftext        1149 non-null object\n",
      "y_value         1930 non-null int64\n",
      "title           1930 non-null object\n",
      "text_length     1930 non-null int64\n",
      "title_length    1930 non-null int64\n",
      "dtypes: int64(8), object(2)\n",
      "memory usage: 150.9+ KB\n"
     ]
    }
   ],
   "source": [
    "df.info()"
   ]
  },
  {
   "cell_type": "code",
   "execution_count": 89,
   "metadata": {
    "scrolled": true
   },
   "outputs": [
    {
     "data": {
      "text/plain": [
       "0    991\n",
       "1    939\n",
       "Name: y_value, dtype: int64"
      ]
     },
     "execution_count": 89,
     "metadata": {},
     "output_type": "execute_result"
    }
   ],
   "source": [
    "df.y_value.value_counts()"
   ]
  },
  {
   "cell_type": "markdown",
   "metadata": {},
   "source": [
    "***Train/Test Split and CountVectorize***"
   ]
  },
  {
   "cell_type": "code",
   "execution_count": 144,
   "metadata": {},
   "outputs": [],
   "source": [
    "#Train Test Split for entire DF of interest so that can append \n",
    "features = ['num_comments', 'score', 'selftext', 'title', 'text_length', 'title_length']\n",
    "X = df[features]\n",
    "y = df['y_value']\n",
    "\n",
    "X_train, X_test, y_train, y_test = train_test_split(X, y, random_state = 42, stratify=y)\n",
    "#Instantiate CountVectorizer\n",
    "vect = CountVectorizer(stop_words='english')\n",
    "\n",
    "#fit vect on X_train['title']\n",
    "vect.fit(X_train['title'])\n",
    "X_train_vect = vect.transform(X_train['title'])\n",
    "X_test_vect = vect.transform(X_test['title'])"
   ]
  },
  {
   "cell_type": "markdown",
   "metadata": {},
   "source": [
    "***Turn vectorized data into a dataframe***"
   ]
  },
  {
   "cell_type": "code",
   "execution_count": 145,
   "metadata": {},
   "outputs": [],
   "source": [
    "X_train_vect_df = pd.DataFrame(X_train_vect.todense(), columns=vect.get_feature_names())\n",
    "#here we can go back and append the other features we might want to use in our model\n",
    "#did not do this yet\n",
    "X_test_vect_df = pd.DataFrame(X_test_vect.todense(), columns=vect.get_feature_names())"
   ]
  },
  {
   "cell_type": "code",
   "execution_count": 146,
   "metadata": {
    "scrolled": true
   },
   "outputs": [
    {
     "name": "stdout",
     "output_type": "stream",
     "text": [
      "<class 'pandas.core.frame.DataFrame'>\n",
      "RangeIndex: 1447 entries, 0 to 1446\n",
      "Columns: 2943 entries, 03 to zirakzigil\n",
      "dtypes: int64(2943)\n",
      "memory usage: 32.5 MB\n"
     ]
    }
   ],
   "source": [
    "X_train_vect_df.info()"
   ]
  },
  {
   "cell_type": "code",
   "execution_count": 147,
   "metadata": {
    "scrolled": true
   },
   "outputs": [
    {
     "name": "stdout",
     "output_type": "stream",
     "text": [
      "<class 'pandas.core.frame.DataFrame'>\n",
      "RangeIndex: 483 entries, 0 to 482\n",
      "Columns: 2943 entries, 03 to zirakzigil\n",
      "dtypes: int64(2943)\n",
      "memory usage: 10.8 MB\n"
     ]
    }
   ],
   "source": [
    "X_test_vect_df.info()"
   ]
  },
  {
   "cell_type": "code",
   "execution_count": 151,
   "metadata": {},
   "outputs": [],
   "source": [
    "cm = confusion_matrix"
   ]
  },
  {
   "cell_type": "markdown",
   "metadata": {},
   "source": [
    "***Create a function that will test all 5 models and build a dictionary of values***"
   ]
  },
  {
   "cell_type": "code",
   "execution_count": 154,
   "metadata": {},
   "outputs": [],
   "source": [
    "#Try multiple models and record the scores to determine any sort of changes\n",
    "model_scores = []\n",
    "def model_iteration(X_train, X_test, y_train, y_test, vector_method):\n",
    "    scores = {}\n",
    "    #logistic regresssion\n",
    "    #instatiate standard scaler\n",
    "    ss = StandardScaler()\n",
    "    X_train_sc = ss.fit_transform(X_train)\n",
    "    X_test_sc = ss.transform(X_test)\n",
    "    \n",
    "    #instantiate Logistic Regression\n",
    "    lr = LogisticRegression(random_state=203)\n",
    "    \n",
    "    #fit logistic regression model\n",
    "    lr.fit(X_train_sc, y_train)\n",
    "    \n",
    "    print('running logistic regresssion')\n",
    "    print('Confusion Matrix for Logistic Regression:') \n",
    "    print(cm(y_test, lr.predict(X_test_sc)))\n",
    "    \n",
    "    #update scores dictionary\n",
    "    scores['model'] = 'Logistic Regression, ' + str(vector_method)\n",
    "    scores['train score'] = lr.score(X_train_sc, y_train)\n",
    "    scores['test score'] = lr.score(X_test_sc, y_test)\n",
    "    \n",
    "    #Add Scores to the moodel_scores list\n",
    "    model_scores.append(scores)\n",
    "    \n",
    "    #clear scores dictionary\n",
    "    scores = {}\n",
    "    #Decision Tree\n",
    "    tree = DecisionTreeClassifier(random_state=203)\n",
    "    \n",
    "    tree.fit(X_train, y_train)\n",
    "    \n",
    "    print('running Decision Tree classifier')\n",
    "    print('Confusion Matrix for Decision Tree Classifier:')  \n",
    "    print(cm(y_test, tree.predict(X_test)))\n",
    "    \n",
    "    scores['model'] ='Decision Tree, ' + vector_method\n",
    "    scores['train score'] = tree.score(X_train, y_train)\n",
    "    scores['test score'] = tree.score(X_test, y_test)\n",
    "    \n",
    "    model_scores.append(scores)\n",
    "    \n",
    "    #clear scores dictionary\n",
    "    scores = {}\n",
    "    \n",
    "    #Bagging\n",
    "    bag = BaggingClassifier(random_state=203)\n",
    "    \n",
    "    bag.fit(X_train, y_train)\n",
    "    \n",
    "    print('running Bagging Classifier')\n",
    "    print('Confusion Matrix for Bagging Classifier:')  \n",
    "    print(cm(y_test, bag.predict(X_test)))\n",
    "    \n",
    "    scores['model'] = 'Bagging Classifier, ' + vector_method\n",
    "    scores['train score'] = bag.score(X_train, y_train)\n",
    "    scores['test score'] = bag.score(X_test, y_test)\n",
    "    \n",
    "    model_scores.append(scores)\n",
    "    \n",
    "    scores = {}\n",
    "    \n",
    "    ada = ada = AdaBoostClassifier(random_state=203)\n",
    "    ada.fit(X_train, y_train)\n",
    "    \n",
    "    print('running ADA Boost Classifier')\n",
    "    print('Confusion Matrix for ADA Boost Classifier:') \n",
    "    print(cm(y_test, ada.predict(X_test)))\n",
    "    \n",
    "    scores['model'] = 'ADA Boost Classifier' + vector_method\n",
    "    scores['train score'] = ada.score(X_train, y_train)\n",
    "    scores['test score'] = ada.score(X_test, y_test)\n",
    "    \n",
    "    model_scores.append(scores)\n",
    "    \n",
    "    scores = {}\n",
    "    \n",
    "    rf = RandomForestClassifier(random_state = 203)\n",
    "    \n",
    "    rf.fit(X_train, y_train)\n",
    "    \n",
    "    print('running Random Forest Classifier')\n",
    "    print('Confusion Matrix for Random Forest Classifier:') \n",
    "    print(cm(y_test, rf.predict(X_test)))\n",
    "    \n",
    "    scores['model'] = 'Random Forest Classifier, ' + vector_method\n",
    "    scores['train score'] = rf.score(X_train, y_train)\n",
    "    scores['test score'] = rf.score(X_test, y_test)\n",
    "    \n",
    "    model_scores.append(scores)\n",
    "    \n",
    "    \n",
    "    return model_scores\n",
    "    "
   ]
  },
  {
   "cell_type": "code",
   "execution_count": 155,
   "metadata": {},
   "outputs": [
    {
     "name": "stderr",
     "output_type": "stream",
     "text": [
      "/Users/edithiyerhernandez/anaconda3/lib/python3.6/site-packages/sklearn/preprocessing/data.py:617: DataConversionWarning: Data with input dtype int64 were all converted to float64 by StandardScaler.\n",
      "  return self.partial_fit(X, y)\n",
      "/Users/edithiyerhernandez/anaconda3/lib/python3.6/site-packages/sklearn/base.py:462: DataConversionWarning: Data with input dtype int64 were all converted to float64 by StandardScaler.\n",
      "  return self.fit(X, **fit_params).transform(X)\n",
      "/Users/edithiyerhernandez/anaconda3/lib/python3.6/site-packages/ipykernel_launcher.py:9: DataConversionWarning: Data with input dtype int64 were all converted to float64 by StandardScaler.\n",
      "  if __name__ == '__main__':\n"
     ]
    },
    {
     "name": "stdout",
     "output_type": "stream",
     "text": [
      "running logistic regresssion\n",
      "Confusion Matrix for Logistic Regression:\n",
      "[[248   0]\n",
      " [  2 233]]\n",
      "running Decision Tree classifier\n",
      "Confusion Matrix for Decision Tree Classifier:\n",
      "[[248   0]\n",
      " [  1 234]]\n",
      "running Bagging Classifier\n",
      "Confusion Matrix for Bagging Classifier:\n",
      "[[248   0]\n",
      " [  1 234]]\n",
      "running ADA Boost Classifier\n",
      "Confusion Matrix for ADA Boost Classifier:\n",
      "[[248   0]\n",
      " [  1 234]]\n",
      "running Random Forest Classifier\n",
      "Confusion Matrix for Random Forest Classifier:\n",
      "[[248   0]\n",
      " [  1 234]]\n"
     ]
    },
    {
     "data": {
      "text/plain": [
       "[{'model': 'Logistic Regression, basic count vectorization',\n",
       "  'train score': 1.0,\n",
       "  'test score': 0.9958592132505176},\n",
       " {'model': 'Decision Tree, basic count vectorization',\n",
       "  'train score': 1.0,\n",
       "  'test score': 0.9979296066252588},\n",
       " {'model': 'Bagging Classifier, basic count vectorization',\n",
       "  'train score': 1.0,\n",
       "  'test score': 0.9979296066252588},\n",
       " {'model': 'ADA Boost Classifierbasic count vectorization',\n",
       "  'train score': 1.0,\n",
       "  'test score': 0.9979296066252588},\n",
       " {'model': 'Random Forest Classifier, basic count vectorization',\n",
       "  'train score': 1.0,\n",
       "  'test score': 0.9979296066252588}]"
      ]
     },
     "execution_count": 155,
     "metadata": {},
     "output_type": "execute_result"
    }
   ],
   "source": [
    "#Run function\n",
    "model_iteration(X_train_vect_df, X_test_vect_df, y_train, y_test, 'basic count vectorization' )"
   ]
  },
  {
   "cell_type": "code",
   "execution_count": 156,
   "metadata": {
    "scrolled": true
   },
   "outputs": [
    {
     "data": {
      "text/html": [
       "<div>\n",
       "<style scoped>\n",
       "    .dataframe tbody tr th:only-of-type {\n",
       "        vertical-align: middle;\n",
       "    }\n",
       "\n",
       "    .dataframe tbody tr th {\n",
       "        vertical-align: top;\n",
       "    }\n",
       "\n",
       "    .dataframe thead th {\n",
       "        text-align: right;\n",
       "    }\n",
       "</style>\n",
       "<table border=\"1\" class=\"dataframe\">\n",
       "  <thead>\n",
       "    <tr style=\"text-align: right;\">\n",
       "      <th></th>\n",
       "      <th>model</th>\n",
       "      <th>test score</th>\n",
       "      <th>train score</th>\n",
       "    </tr>\n",
       "  </thead>\n",
       "  <tbody>\n",
       "    <tr>\n",
       "      <th>0</th>\n",
       "      <td>Logistic Regression, basic count vectorization</td>\n",
       "      <td>0.995859</td>\n",
       "      <td>1.0</td>\n",
       "    </tr>\n",
       "    <tr>\n",
       "      <th>1</th>\n",
       "      <td>Decision Tree, basic count vectorization</td>\n",
       "      <td>0.997930</td>\n",
       "      <td>1.0</td>\n",
       "    </tr>\n",
       "    <tr>\n",
       "      <th>2</th>\n",
       "      <td>Bagging Classifier, basic count vectorization</td>\n",
       "      <td>0.997930</td>\n",
       "      <td>1.0</td>\n",
       "    </tr>\n",
       "    <tr>\n",
       "      <th>3</th>\n",
       "      <td>ADA Boost Classifierbasic count vectorization</td>\n",
       "      <td>0.997930</td>\n",
       "      <td>1.0</td>\n",
       "    </tr>\n",
       "    <tr>\n",
       "      <th>4</th>\n",
       "      <td>Random Forest Classifier, basic count vectoriz...</td>\n",
       "      <td>0.997930</td>\n",
       "      <td>1.0</td>\n",
       "    </tr>\n",
       "  </tbody>\n",
       "</table>\n",
       "</div>"
      ],
      "text/plain": [
       "                                               model  test score  train score\n",
       "0     Logistic Regression, basic count vectorization    0.995859          1.0\n",
       "1           Decision Tree, basic count vectorization    0.997930          1.0\n",
       "2      Bagging Classifier, basic count vectorization    0.997930          1.0\n",
       "3      ADA Boost Classifierbasic count vectorization    0.997930          1.0\n",
       "4  Random Forest Classifier, basic count vectoriz...    0.997930          1.0"
      ]
     },
     "execution_count": 156,
     "metadata": {},
     "output_type": "execute_result"
    }
   ],
   "source": [
    "pd.DataFrame(model_scores)"
   ]
  },
  {
   "cell_type": "markdown",
   "metadata": {},
   "source": [
    "<b> The basic countvectorization method gives high accuracy scores for all five models tested. While this says that the feature selection was good, we can also tokenize and then lemmatize the words manually. This will allow us to rise to the challenge of excluding words that are part of the subreddit name. <b>\n",
    "\n"
   ]
  },
  {
   "cell_type": "code",
   "execution_count": 158,
   "metadata": {},
   "outputs": [
    {
     "name": "stderr",
     "output_type": "stream",
     "text": [
      "/Users/edithiyerhernandez/anaconda3/lib/python3.6/site-packages/sklearn/preprocessing/data.py:617: DataConversionWarning: Data with input dtype int64 were all converted to float64 by StandardScaler.\n",
      "  return self.partial_fit(X, y)\n",
      "/Users/edithiyerhernandez/anaconda3/lib/python3.6/site-packages/sklearn/base.py:462: DataConversionWarning: Data with input dtype int64 were all converted to float64 by StandardScaler.\n",
      "  return self.fit(X, **fit_params).transform(X)\n",
      "/Users/edithiyerhernandez/anaconda3/lib/python3.6/site-packages/ipykernel_launcher.py:8: DataConversionWarning: Data with input dtype int64 were all converted to float64 by StandardScaler.\n",
      "  \n"
     ]
    },
    {
     "data": {
      "text/plain": [
       "array([1, 1, 1, 0, 0, 0, 1, 0, 1, 1, 1, 0, 0, 0, 1, 1, 1, 0, 1, 1, 0, 1,\n",
       "       0, 1, 1, 1, 1, 1, 1, 1, 1, 0, 1, 0, 1, 1, 1, 1, 0, 1, 0, 0, 0, 0,\n",
       "       1, 0, 0, 1, 1, 1, 1, 1, 0, 0, 0, 0, 0, 0, 1, 0, 1, 0, 1, 1, 1, 0,\n",
       "       1, 0, 0, 1, 0, 1, 0, 0, 1, 1, 1, 0, 1, 0, 1, 0, 0, 0, 0, 1, 1, 0,\n",
       "       1, 0, 1, 1, 0, 0, 1, 1, 0, 1, 0, 1, 1, 1, 0, 0, 0, 1, 0, 0, 1, 0,\n",
       "       1, 1, 1, 1, 0, 0, 1, 1, 1, 1, 0, 0, 0, 0, 1, 0, 0, 1, 1, 0, 0, 0,\n",
       "       1, 0, 1, 1, 1, 1, 0, 0, 0, 1, 0, 1, 0, 0, 1, 1, 0, 1, 1, 1, 1, 0,\n",
       "       1, 0, 0, 1, 0, 1, 0, 1, 1, 0, 1, 0, 1, 1, 0, 0, 0, 1, 1, 0, 1, 1,\n",
       "       1, 0, 1, 0, 1, 1, 1, 0, 1, 0, 0, 1, 1, 1, 1, 1, 0, 1, 1, 0, 0, 0,\n",
       "       0, 1, 1, 1, 0, 0, 0, 0, 1, 1, 1, 0, 1, 0, 0, 0, 1, 0, 0, 1, 0, 1,\n",
       "       0, 1, 0, 0, 1, 0, 0, 0, 0, 1, 1, 0, 0, 0, 0, 0, 1, 0, 0, 1, 0, 0,\n",
       "       0, 0, 0, 0, 1, 0, 1, 1, 0, 1, 1, 0, 0, 0, 0, 1, 1, 0, 1, 1, 1, 1,\n",
       "       1, 0, 0, 0, 0, 0, 1, 0, 0, 0, 1, 1, 0, 1, 1, 1, 1, 1, 0, 0, 0, 0,\n",
       "       0, 0, 0, 0, 0, 0, 1, 1, 1, 1, 1, 0, 0, 0, 1, 0, 0, 0, 0, 0, 0, 1,\n",
       "       1, 1, 1, 0, 1, 1, 1, 1, 0, 1, 0, 1, 1, 1, 1, 0, 0, 0, 0, 0, 0, 0,\n",
       "       1, 0, 0, 0, 1, 0, 0, 0, 0, 1, 0, 1, 1, 0, 1, 1, 0, 0, 1, 1, 0, 1,\n",
       "       0, 0, 0, 1, 0, 1, 1, 0, 0, 0, 1, 1, 0, 0, 0, 1, 0, 0, 1, 1, 1, 0,\n",
       "       1, 1, 1, 0, 1, 1, 1, 0, 1, 1, 0, 0, 1, 1, 0, 0, 1, 0, 0, 0, 0, 1,\n",
       "       0, 0, 1, 0, 0, 0, 0, 1, 0, 1, 1, 1, 0, 0, 1, 0, 1, 1, 0, 0, 0, 0,\n",
       "       0, 0, 1, 1, 1, 0, 0, 0, 0, 0, 1, 1, 1, 0, 0, 0, 0, 1, 0, 0, 0, 0,\n",
       "       1, 0, 1, 0, 1, 1, 0, 1, 0, 1, 1, 1, 0, 1, 1, 1, 1, 0, 1, 0, 1, 1,\n",
       "       0, 1, 1, 1, 0, 1, 0, 1, 1, 1, 1, 0, 0, 1, 1, 0, 1, 1, 1, 1, 1])"
      ]
     },
     "execution_count": 158,
     "metadata": {},
     "output_type": "execute_result"
    }
   ],
   "source": [
    "#look at Logistic Regression Coefficients - Can we determine which words they came from?\n",
    "    #logistic regresssion\n",
    "    #instatiate standard scaler\n",
    "    \n",
    "# use: X_train_vect_df, X_test_vect_df\n",
    "ss = StandardScaler()\n",
    "X_train_sc = ss.fit_transform(X_train_vect_df)\n",
    "X_test_sc = ss.transform(X_test_vect_df)\n",
    "    \n",
    "    #instantiate Logistic Regression\n",
    "lr = LogisticRegression(random_state=203)\n",
    "    \n",
    "    #fit logistic regression model\n",
    "lr.fit(X_train_sc, y_train)\n",
    "lr.predict(X_test_vect_df)"
   ]
  },
  {
   "cell_type": "markdown",
   "metadata": {},
   "source": [
    "#### Sidebar to create Data Frame of Coefficients associated with each column in the logistic regression model"
   ]
  },
  {
   "cell_type": "code",
   "execution_count": 169,
   "metadata": {},
   "outputs": [
    {
     "data": {
      "text/plain": [
       "(1, 2943)"
      ]
     },
     "execution_count": 169,
     "metadata": {},
     "output_type": "execute_result"
    }
   ],
   "source": [
    "lr.coef_.shape"
   ]
  },
  {
   "cell_type": "code",
   "execution_count": 170,
   "metadata": {},
   "outputs": [],
   "source": [
    "column_list = list(X_train_vect_df.columns)"
   ]
  },
  {
   "cell_type": "code",
   "execution_count": 186,
   "metadata": {},
   "outputs": [
    {
     "data": {
      "text/plain": [
       "2943"
      ]
     },
     "execution_count": 186,
     "metadata": {},
     "output_type": "execute_result"
    }
   ],
   "source": [
    "len(column_list)"
   ]
  },
  {
   "cell_type": "code",
   "execution_count": 162,
   "metadata": {},
   "outputs": [],
   "source": [
    "columns_coefficients = zip(lr.coef_, X_train_vect_df.columns)"
   ]
  },
  {
   "cell_type": "code",
   "execution_count": 187,
   "metadata": {},
   "outputs": [],
   "source": [
    "coefs_list = [logreg_coefs[0][i] for i in list(range(len(logreg_coefs[0])))]"
   ]
  },
  {
   "cell_type": "code",
   "execution_count": 211,
   "metadata": {},
   "outputs": [],
   "source": [
    "logreg_coefs_df = pd.DataFrame({'words': column_list, 'coefficients': coefs_list})"
   ]
  },
  {
   "cell_type": "code",
   "execution_count": 212,
   "metadata": {},
   "outputs": [
    {
     "data": {
      "text/html": [
       "<div>\n",
       "<style scoped>\n",
       "    .dataframe tbody tr th:only-of-type {\n",
       "        vertical-align: middle;\n",
       "    }\n",
       "\n",
       "    .dataframe tbody tr th {\n",
       "        vertical-align: top;\n",
       "    }\n",
       "\n",
       "    .dataframe thead th {\n",
       "        text-align: right;\n",
       "    }\n",
       "</style>\n",
       "<table border=\"1\" class=\"dataframe\">\n",
       "  <thead>\n",
       "    <tr style=\"text-align: right;\">\n",
       "      <th></th>\n",
       "      <th>words</th>\n",
       "      <th>coefficients</th>\n",
       "    </tr>\n",
       "  </thead>\n",
       "  <tbody>\n",
       "    <tr>\n",
       "      <th>0</th>\n",
       "      <td>03</td>\n",
       "      <td>0.026772</td>\n",
       "    </tr>\n",
       "    <tr>\n",
       "      <th>1</th>\n",
       "      <td>10</td>\n",
       "      <td>-0.043779</td>\n",
       "    </tr>\n",
       "    <tr>\n",
       "      <th>2</th>\n",
       "      <td>100</td>\n",
       "      <td>-0.037600</td>\n",
       "    </tr>\n",
       "    <tr>\n",
       "      <th>3</th>\n",
       "      <td>101</td>\n",
       "      <td>-0.014923</td>\n",
       "    </tr>\n",
       "    <tr>\n",
       "      <th>4</th>\n",
       "      <td>11</td>\n",
       "      <td>-0.002457</td>\n",
       "    </tr>\n",
       "  </tbody>\n",
       "</table>\n",
       "</div>"
      ],
      "text/plain": [
       "  words  coefficients\n",
       "0    03      0.026772\n",
       "1    10     -0.043779\n",
       "2   100     -0.037600\n",
       "3   101     -0.014923\n",
       "4    11     -0.002457"
      ]
     },
     "execution_count": 212,
     "metadata": {},
     "output_type": "execute_result"
    }
   ],
   "source": [
    "logreg_coefs_df.head()"
   ]
  },
  {
   "cell_type": "code",
   "execution_count": 244,
   "metadata": {},
   "outputs": [
    {
     "data": {
      "text/html": [
       "<div>\n",
       "<style scoped>\n",
       "    .dataframe tbody tr th:only-of-type {\n",
       "        vertical-align: middle;\n",
       "    }\n",
       "\n",
       "    .dataframe tbody tr th {\n",
       "        vertical-align: top;\n",
       "    }\n",
       "\n",
       "    .dataframe thead th {\n",
       "        text-align: right;\n",
       "    }\n",
       "</style>\n",
       "<table border=\"1\" class=\"dataframe\">\n",
       "  <thead>\n",
       "    <tr style=\"text-align: right;\">\n",
       "      <th></th>\n",
       "      <th>words</th>\n",
       "      <th>coefficients</th>\n",
       "    </tr>\n",
       "  </thead>\n",
       "  <tbody>\n",
       "    <tr>\n",
       "      <th>2422</th>\n",
       "      <td>spoilers</td>\n",
       "      <td>2.138346</td>\n",
       "    </tr>\n",
       "    <tr>\n",
       "      <th>882</th>\n",
       "      <td>extended</td>\n",
       "      <td>1.281878</td>\n",
       "    </tr>\n",
       "    <tr>\n",
       "      <th>1544</th>\n",
       "      <td>main</td>\n",
       "      <td>0.809087</td>\n",
       "    </tr>\n",
       "    <tr>\n",
       "      <th>2027</th>\n",
       "      <td>published</td>\n",
       "      <td>0.459415</td>\n",
       "    </tr>\n",
       "    <tr>\n",
       "      <th>2421</th>\n",
       "      <td>spoiler</td>\n",
       "      <td>0.373532</td>\n",
       "    </tr>\n",
       "  </tbody>\n",
       "</table>\n",
       "</div>"
      ],
      "text/plain": [
       "          words  coefficients\n",
       "2422   spoilers      2.138346\n",
       "882    extended      1.281878\n",
       "1544       main      0.809087\n",
       "2027  published      0.459415\n",
       "2421    spoiler      0.373532"
      ]
     },
     "execution_count": 244,
     "metadata": {},
     "output_type": "execute_result"
    }
   ],
   "source": [
    "logreg_coefs_df.sort_values('coefficients', ascending = False).head()"
   ]
  },
  {
   "cell_type": "code",
   "execution_count": 245,
   "metadata": {},
   "outputs": [
    {
     "data": {
      "text/html": [
       "<div>\n",
       "<style scoped>\n",
       "    .dataframe tbody tr th:only-of-type {\n",
       "        vertical-align: middle;\n",
       "    }\n",
       "\n",
       "    .dataframe tbody tr th {\n",
       "        vertical-align: top;\n",
       "    }\n",
       "\n",
       "    .dataframe thead th {\n",
       "        text-align: right;\n",
       "    }\n",
       "</style>\n",
       "<table border=\"1\" class=\"dataframe\">\n",
       "  <thead>\n",
       "    <tr style=\"text-align: right;\">\n",
       "      <th></th>\n",
       "      <th>words</th>\n",
       "      <th>coefficients</th>\n",
       "    </tr>\n",
       "  </thead>\n",
       "  <tbody>\n",
       "    <tr>\n",
       "      <th>1517</th>\n",
       "      <td>lotr</td>\n",
       "      <td>-0.303616</td>\n",
       "    </tr>\n",
       "    <tr>\n",
       "      <th>1691</th>\n",
       "      <td>movie</td>\n",
       "      <td>-0.205908</td>\n",
       "    </tr>\n",
       "    <tr>\n",
       "      <th>2163</th>\n",
       "      <td>rings</td>\n",
       "      <td>-0.181779</td>\n",
       "    </tr>\n",
       "    <tr>\n",
       "      <th>1213</th>\n",
       "      <td>hobbit</td>\n",
       "      <td>-0.180191</td>\n",
       "    </tr>\n",
       "    <tr>\n",
       "      <th>2162</th>\n",
       "      <td>ring</td>\n",
       "      <td>-0.177501</td>\n",
       "    </tr>\n",
       "  </tbody>\n",
       "</table>\n",
       "</div>"
      ],
      "text/plain": [
       "       words  coefficients\n",
       "1517    lotr     -0.303616\n",
       "1691   movie     -0.205908\n",
       "2163   rings     -0.181779\n",
       "1213  hobbit     -0.180191\n",
       "2162    ring     -0.177501"
      ]
     },
     "execution_count": 245,
     "metadata": {},
     "output_type": "execute_result"
    }
   ],
   "source": [
    "logreg_coefs_df.sort_values('coefficients').head()"
   ]
  },
  {
   "cell_type": "markdown",
   "metadata": {},
   "source": [
    "### Lemmatizing\n",
    "\n",
    "This will also allow us to lump words with the same root together - e.g. 'spoilers' and 'spoil'. This will hopefully give more insight into how to build a model that could be used in a larger scale model to distinguish between multiple fantasy content subreddits."
   ]
  },
  {
   "cell_type": "code",
   "execution_count": 222,
   "metadata": {},
   "outputs": [],
   "source": [
    "#Imports\n",
    "import nltk\n",
    "from nltk.stem import WordNetLemmatizer\n",
    "from nltk.tokenize import RegexpTokenizer\n",
    "import regex as re\n",
    "from nltk.corpus import stopwords # Import the stop word list\n",
    "\n",
    "#instantiate lemmetizer\n",
    "lemmatizer = WordNetLemmatizer()\n"
   ]
  },
  {
   "cell_type": "code",
   "execution_count": 223,
   "metadata": {},
   "outputs": [],
   "source": [
    "def lemmatized_column(df, col):\n",
    "    lemmatized_col = []\n",
    "    for i in list(range(len(col))):\n",
    "        text = col[i]\n",
    "         # Remove non-letters        \n",
    "        letters_only = re.sub(\"[^a-zA-Z]\", \" \", text)\n",
    "        #\n",
    "        # Convert to lower case, split into individual words\n",
    "        words = letters_only.lower().split()\n",
    "        #\n",
    "        #convert the stop words to a set\n",
    "        stops = set(stopwords.words('english')) \n",
    "        # \n",
    "        # Remove stop words\n",
    "        meaningful_words = [w for w in words if not w in stops]\n",
    "        #\n",
    "        #exclude some key words\n",
    "        new_stops = ['lotr', 'asoiaf', \n",
    "                     'lord', 'rings', \n",
    "                     'ring', 'game', \n",
    "                     'throne', 'thrones']\n",
    "        more_meaningful_words = [w for w in meaningful_words if not w in new_stops]\n",
    "        #\n",
    "        lemmed_words = [lemmatizer.lemmatize(i) for i in more_meaningful_words]\n",
    "        #Join the words back into one string separated by space, \n",
    "        # \n",
    "        joined_words = ' '.join(lemmed_words)\n",
    "        lemmatized_col.append(joined_words)\n",
    "        \n",
    "    df['lemmatized'] = lemmatized_col\n",
    "    return lemmatized_col"
   ]
  },
  {
   "cell_type": "markdown",
   "metadata": {},
   "source": [
    "Add a column to data frame that has the newly lemmatized title so that we can utilize this with count vecotorization."
   ]
  },
  {
   "cell_type": "code",
   "execution_count": 224,
   "metadata": {},
   "outputs": [],
   "source": [
    "#Add lemmatized column with basix removal of words also associated with \n",
    "new_column= lemmatized_column(df, df.title)"
   ]
  },
  {
   "cell_type": "code",
   "execution_count": 225,
   "metadata": {
    "scrolled": false
   },
   "outputs": [
    {
     "data": {
      "text/plain": [
       "Index(['downs', 'is_self', 'is_video', 'num_comments', 'score', 'selftext',\n",
       "       'y_value', 'title', 'text_length', 'title_length', 'lemmatized'],\n",
       "      dtype='object')"
      ]
     },
     "execution_count": 225,
     "metadata": {},
     "output_type": "execute_result"
    }
   ],
   "source": [
    "df.columns"
   ]
  },
  {
   "cell_type": "code",
   "execution_count": 226,
   "metadata": {},
   "outputs": [
    {
     "name": "stdout",
     "output_type": "stream",
     "text": [
      "<class 'pandas.core.frame.DataFrame'>\n",
      "RangeIndex: 1930 entries, 0 to 1929\n",
      "Data columns (total 11 columns):\n",
      "downs           1930 non-null int64\n",
      "is_self         1930 non-null int64\n",
      "is_video        1930 non-null int64\n",
      "num_comments    1930 non-null int64\n",
      "score           1930 non-null int64\n",
      "selftext        1149 non-null object\n",
      "y_value         1930 non-null int64\n",
      "title           1930 non-null object\n",
      "text_length     1930 non-null int64\n",
      "title_length    1930 non-null int64\n",
      "lemmatized      1930 non-null object\n",
      "dtypes: int64(8), object(3)\n",
      "memory usage: 165.9+ KB\n"
     ]
    }
   ],
   "source": [
    "df.info()"
   ]
  },
  {
   "cell_type": "code",
   "execution_count": 227,
   "metadata": {},
   "outputs": [],
   "source": [
    "df.to_csv('./lemmatized_column_added.csv', index = False)"
   ]
  },
  {
   "cell_type": "code",
   "execution_count": 398,
   "metadata": {},
   "outputs": [
    {
     "data": {
      "text/html": [
       "<div>\n",
       "<style scoped>\n",
       "    .dataframe tbody tr th:only-of-type {\n",
       "        vertical-align: middle;\n",
       "    }\n",
       "\n",
       "    .dataframe tbody tr th {\n",
       "        vertical-align: top;\n",
       "    }\n",
       "\n",
       "    .dataframe thead th {\n",
       "        text-align: right;\n",
       "    }\n",
       "</style>\n",
       "<table border=\"1\" class=\"dataframe\">\n",
       "  <thead>\n",
       "    <tr style=\"text-align: right;\">\n",
       "      <th></th>\n",
       "      <th>title</th>\n",
       "      <th>lemmatized</th>\n",
       "    </tr>\n",
       "  </thead>\n",
       "  <tbody>\n",
       "    <tr>\n",
       "      <th>558</th>\n",
       "      <td>(Spoilers Extended) Who was present during the...</td>\n",
       "      <td>present siege pyke greyjoy rebellion</td>\n",
       "    </tr>\n",
       "    <tr>\n",
       "      <th>1880</th>\n",
       "      <td>Hi r/LOTR, I went to primary school with Alan ...</td>\n",
       "      <td>hi r went primary school alan lee son alan cam...</td>\n",
       "    </tr>\n",
       "    <tr>\n",
       "      <th>1470</th>\n",
       "      <td>I've wanted a Sindarin tattoo since I was a ki...</td>\n",
       "      <td>wanted sindarin tattoo since kid saved special...</td>\n",
       "    </tr>\n",
       "    <tr>\n",
       "      <th>992</th>\n",
       "      <td>“It cannot be” Goosebumps... every.... time....</td>\n",
       "      <td>cannot goosebump every time</td>\n",
       "    </tr>\n",
       "    <tr>\n",
       "      <th>1661</th>\n",
       "      <td>Joining the wallpaper movement!</td>\n",
       "      <td>joining wallpaper movement</td>\n",
       "    </tr>\n",
       "    <tr>\n",
       "      <th>1868</th>\n",
       "      <td>Under Mirrormere - John Blanche</td>\n",
       "      <td>mirrormere john blanche</td>\n",
       "    </tr>\n",
       "    <tr>\n",
       "      <th>1183</th>\n",
       "      <td>That scene from RotK</td>\n",
       "      <td>scene rotk</td>\n",
       "    </tr>\n",
       "    <tr>\n",
       "      <th>1025</th>\n",
       "      <td>An interesting look at what happened with The ...</td>\n",
       "      <td>interesting look happened hobbit</td>\n",
       "    </tr>\n",
       "    <tr>\n",
       "      <th>1042</th>\n",
       "      <td>Just bought this today. Always loved the lore,...</td>\n",
       "      <td>bought today always loved lore never read book...</td>\n",
       "    </tr>\n",
       "    <tr>\n",
       "      <th>1639</th>\n",
       "      <td>Anyone else watching the movies this thanksgiv...</td>\n",
       "      <td>anyone else watching movie thanksgiving weekend</td>\n",
       "    </tr>\n",
       "  </tbody>\n",
       "</table>\n",
       "</div>"
      ],
      "text/plain": [
       "                                                  title  \\\n",
       "558   (Spoilers Extended) Who was present during the...   \n",
       "1880  Hi r/LOTR, I went to primary school with Alan ...   \n",
       "1470  I've wanted a Sindarin tattoo since I was a ki...   \n",
       "992     “It cannot be” Goosebumps... every.... time....   \n",
       "1661                    Joining the wallpaper movement!   \n",
       "1868                    Under Mirrormere - John Blanche   \n",
       "1183                               That scene from RotK   \n",
       "1025  An interesting look at what happened with The ...   \n",
       "1042  Just bought this today. Always loved the lore,...   \n",
       "1639  Anyone else watching the movies this thanksgiv...   \n",
       "\n",
       "                                             lemmatized  \n",
       "558                present siege pyke greyjoy rebellion  \n",
       "1880  hi r went primary school alan lee son alan cam...  \n",
       "1470  wanted sindarin tattoo since kid saved special...  \n",
       "992                         cannot goosebump every time  \n",
       "1661                         joining wallpaper movement  \n",
       "1868                            mirrormere john blanche  \n",
       "1183                                         scene rotk  \n",
       "1025                   interesting look happened hobbit  \n",
       "1042  bought today always loved lore never read book...  \n",
       "1639    anyone else watching movie thanksgiving weekend  "
      ]
     },
     "execution_count": 398,
     "metadata": {},
     "output_type": "execute_result"
    }
   ],
   "source": [
    "df[['title', 'lemmatized']].sample(10)"
   ]
  },
  {
   "cell_type": "markdown",
   "metadata": {},
   "source": [
    "#### Using CountVectorization on Lemmatized column"
   ]
  },
  {
   "cell_type": "code",
   "execution_count": 228,
   "metadata": {},
   "outputs": [],
   "source": [
    "#Train Test Split for entire DF of interest so that can append \n",
    "features = ['num_comments', 'score', 'selftext', 'title', 'text_length', 'title_length', 'lemmatized']\n",
    "X = df[features]\n",
    "y = df['y_value']\n",
    "\n",
    "X_train, X_test, y_train, y_test = train_test_split(X, y, random_state = 42, stratify=y)\n",
    "#Instantiate CountVectorizer\n",
    "vect = CountVectorizer(stop_words='english')\n",
    "\n",
    "#fit vect on X_train['title']\n",
    "vect.fit(X_train['lemmatized'])\n",
    "X_train_vect = vect.transform(X_train['lemmatized'])\n",
    "X_test_vect = vect.transform(X_test['lemmatized'])\n",
    "\n",
    "X_train_vect_df = pd.DataFrame(X_train_vect.todense(), columns=vect.get_feature_names())\n",
    "#here we can go back and append the other features we might want to use in our model\n",
    "X_test_vect_df = pd.DataFrame(X_test_vect.todense(), columns=vect.get_feature_names())"
   ]
  },
  {
   "cell_type": "code",
   "execution_count": 229,
   "metadata": {
    "scrolled": true
   },
   "outputs": [
    {
     "name": "stderr",
     "output_type": "stream",
     "text": [
      "/Users/edithiyerhernandez/anaconda3/lib/python3.6/site-packages/sklearn/preprocessing/data.py:617: DataConversionWarning: Data with input dtype int64 were all converted to float64 by StandardScaler.\n",
      "  return self.partial_fit(X, y)\n",
      "/Users/edithiyerhernandez/anaconda3/lib/python3.6/site-packages/sklearn/base.py:462: DataConversionWarning: Data with input dtype int64 were all converted to float64 by StandardScaler.\n",
      "  return self.fit(X, **fit_params).transform(X)\n",
      "/Users/edithiyerhernandez/anaconda3/lib/python3.6/site-packages/ipykernel_launcher.py:9: DataConversionWarning: Data with input dtype int64 were all converted to float64 by StandardScaler.\n",
      "  if __name__ == '__main__':\n"
     ]
    },
    {
     "name": "stdout",
     "output_type": "stream",
     "text": [
      "running logistic regresssion\n",
      "Confusion Matrix for Logistic Regression:\n",
      "[[247   1]\n",
      " [  1 234]]\n",
      "running Decision Tree classifier\n",
      "Confusion Matrix for Decision Tree Classifier:\n",
      "[[248   0]\n",
      " [  1 234]]\n",
      "running Bagging Classifier\n",
      "Confusion Matrix for Bagging Classifier:\n",
      "[[248   0]\n",
      " [  1 234]]\n",
      "running ADA Boost Classifier\n",
      "Confusion Matrix for ADA Boost Classifier:\n",
      "[[248   0]\n",
      " [  1 234]]\n",
      "running Random Forest Classifier\n",
      "Confusion Matrix for Random Forest Classifier:\n",
      "[[248   0]\n",
      " [  2 233]]\n"
     ]
    },
    {
     "data": {
      "text/plain": [
       "[{'model': 'Logistic Regression, basic count vectorization',\n",
       "  'train score': 1.0,\n",
       "  'test score': 0.9958592132505176},\n",
       " {'model': 'Decision Tree, basic count vectorization',\n",
       "  'train score': 1.0,\n",
       "  'test score': 0.9979296066252588},\n",
       " {'model': 'Bagging Classifier, basic count vectorization',\n",
       "  'train score': 1.0,\n",
       "  'test score': 0.9979296066252588},\n",
       " {'model': 'ADA Boost Classifierbasic count vectorization',\n",
       "  'train score': 1.0,\n",
       "  'test score': 0.9979296066252588},\n",
       " {'model': 'Random Forest Classifier, basic count vectorization',\n",
       "  'train score': 1.0,\n",
       "  'test score': 0.9979296066252588},\n",
       " {'model': 'Logistic Regression, custom lemmatizing',\n",
       "  'train score': 1.0,\n",
       "  'test score': 0.9958592132505176},\n",
       " {'model': 'Decision Tree, custom lemmatizing',\n",
       "  'train score': 1.0,\n",
       "  'test score': 0.9979296066252588},\n",
       " {'model': 'Bagging Classifier, custom lemmatizing',\n",
       "  'train score': 1.0,\n",
       "  'test score': 0.9979296066252588},\n",
       " {'model': 'ADA Boost Classifiercustom lemmatizing',\n",
       "  'train score': 1.0,\n",
       "  'test score': 0.9979296066252588},\n",
       " {'model': 'Random Forest Classifier, custom lemmatizing',\n",
       "  'train score': 1.0,\n",
       "  'test score': 0.9958592132505176}]"
      ]
     },
     "execution_count": 229,
     "metadata": {},
     "output_type": "execute_result"
    }
   ],
   "source": [
    "#iterate through each model to inspect the accuracy scores\n",
    "model_iteration(X_train_vect_df, X_test_vect_df, y_train, y_test, 'custom lemmatizing')"
   ]
  },
  {
   "cell_type": "markdown",
   "metadata": {},
   "source": [
    "Below we can look at the scores to get a sense of how our models have changed by utilizing the subreddit title words excluded"
   ]
  },
  {
   "cell_type": "code",
   "execution_count": 230,
   "metadata": {
    "scrolled": true
   },
   "outputs": [
    {
     "data": {
      "text/html": [
       "<div>\n",
       "<style scoped>\n",
       "    .dataframe tbody tr th:only-of-type {\n",
       "        vertical-align: middle;\n",
       "    }\n",
       "\n",
       "    .dataframe tbody tr th {\n",
       "        vertical-align: top;\n",
       "    }\n",
       "\n",
       "    .dataframe thead th {\n",
       "        text-align: right;\n",
       "    }\n",
       "</style>\n",
       "<table border=\"1\" class=\"dataframe\">\n",
       "  <thead>\n",
       "    <tr style=\"text-align: right;\">\n",
       "      <th></th>\n",
       "      <th>model</th>\n",
       "      <th>test score</th>\n",
       "      <th>train score</th>\n",
       "    </tr>\n",
       "  </thead>\n",
       "  <tbody>\n",
       "    <tr>\n",
       "      <th>0</th>\n",
       "      <td>Logistic Regression, basic count vectorization</td>\n",
       "      <td>0.995859</td>\n",
       "      <td>1.0</td>\n",
       "    </tr>\n",
       "    <tr>\n",
       "      <th>1</th>\n",
       "      <td>Decision Tree, basic count vectorization</td>\n",
       "      <td>0.997930</td>\n",
       "      <td>1.0</td>\n",
       "    </tr>\n",
       "    <tr>\n",
       "      <th>2</th>\n",
       "      <td>Bagging Classifier, basic count vectorization</td>\n",
       "      <td>0.997930</td>\n",
       "      <td>1.0</td>\n",
       "    </tr>\n",
       "    <tr>\n",
       "      <th>3</th>\n",
       "      <td>ADA Boost Classifierbasic count vectorization</td>\n",
       "      <td>0.997930</td>\n",
       "      <td>1.0</td>\n",
       "    </tr>\n",
       "    <tr>\n",
       "      <th>4</th>\n",
       "      <td>Random Forest Classifier, basic count vectoriz...</td>\n",
       "      <td>0.997930</td>\n",
       "      <td>1.0</td>\n",
       "    </tr>\n",
       "    <tr>\n",
       "      <th>5</th>\n",
       "      <td>Logistic Regression, custom lemmatizing</td>\n",
       "      <td>0.995859</td>\n",
       "      <td>1.0</td>\n",
       "    </tr>\n",
       "    <tr>\n",
       "      <th>6</th>\n",
       "      <td>Decision Tree, custom lemmatizing</td>\n",
       "      <td>0.997930</td>\n",
       "      <td>1.0</td>\n",
       "    </tr>\n",
       "    <tr>\n",
       "      <th>7</th>\n",
       "      <td>Bagging Classifier, custom lemmatizing</td>\n",
       "      <td>0.997930</td>\n",
       "      <td>1.0</td>\n",
       "    </tr>\n",
       "    <tr>\n",
       "      <th>8</th>\n",
       "      <td>ADA Boost Classifiercustom lemmatizing</td>\n",
       "      <td>0.997930</td>\n",
       "      <td>1.0</td>\n",
       "    </tr>\n",
       "    <tr>\n",
       "      <th>9</th>\n",
       "      <td>Random Forest Classifier, custom lemmatizing</td>\n",
       "      <td>0.995859</td>\n",
       "      <td>1.0</td>\n",
       "    </tr>\n",
       "  </tbody>\n",
       "</table>\n",
       "</div>"
      ],
      "text/plain": [
       "                                               model  test score  train score\n",
       "0     Logistic Regression, basic count vectorization    0.995859          1.0\n",
       "1           Decision Tree, basic count vectorization    0.997930          1.0\n",
       "2      Bagging Classifier, basic count vectorization    0.997930          1.0\n",
       "3      ADA Boost Classifierbasic count vectorization    0.997930          1.0\n",
       "4  Random Forest Classifier, basic count vectoriz...    0.997930          1.0\n",
       "5            Logistic Regression, custom lemmatizing    0.995859          1.0\n",
       "6                  Decision Tree, custom lemmatizing    0.997930          1.0\n",
       "7             Bagging Classifier, custom lemmatizing    0.997930          1.0\n",
       "8             ADA Boost Classifiercustom lemmatizing    0.997930          1.0\n",
       "9       Random Forest Classifier, custom lemmatizing    0.995859          1.0"
      ]
     },
     "execution_count": 230,
     "metadata": {},
     "output_type": "execute_result"
    }
   ],
   "source": [
    "pd.DataFrame(model_scores)"
   ]
  },
  {
   "cell_type": "markdown",
   "metadata": {},
   "source": [
    "#### Model Evaluation\n",
    "We actually see that the accuracy of all 5 models has not changed even with these exclusions. \n",
    "<br>\n",
    "\n",
    "Below we will extract the logistic regression features as we did previously for comparison."
   ]
  },
  {
   "cell_type": "code",
   "execution_count": 231,
   "metadata": {},
   "outputs": [
    {
     "name": "stderr",
     "output_type": "stream",
     "text": [
      "/Users/edithiyerhernandez/anaconda3/lib/python3.6/site-packages/sklearn/preprocessing/data.py:617: DataConversionWarning: Data with input dtype int64 were all converted to float64 by StandardScaler.\n",
      "  return self.partial_fit(X, y)\n",
      "/Users/edithiyerhernandez/anaconda3/lib/python3.6/site-packages/sklearn/base.py:462: DataConversionWarning: Data with input dtype int64 were all converted to float64 by StandardScaler.\n",
      "  return self.fit(X, **fit_params).transform(X)\n",
      "/Users/edithiyerhernandez/anaconda3/lib/python3.6/site-packages/ipykernel_launcher.py:8: DataConversionWarning: Data with input dtype int64 were all converted to float64 by StandardScaler.\n",
      "  \n"
     ]
    },
    {
     "data": {
      "text/plain": [
       "array([1, 1, 1, 0, 0, 0, 1, 0, 1, 1, 1, 0, 0, 0, 1, 1, 1, 0, 1, 1, 0, 1,\n",
       "       0, 1, 1, 1, 1, 1, 1, 1, 1, 0, 1, 0, 1, 1, 1, 1, 0, 1, 0, 0, 0, 0,\n",
       "       1, 0, 1, 1, 1, 1, 1, 1, 0, 0, 0, 0, 0, 0, 1, 0, 1, 0, 1, 1, 1, 0,\n",
       "       1, 0, 0, 1, 0, 1, 0, 0, 1, 1, 1, 0, 1, 0, 1, 0, 0, 0, 0, 1, 1, 0,\n",
       "       1, 0, 1, 1, 0, 0, 1, 1, 0, 1, 0, 1, 1, 1, 0, 0, 0, 1, 0, 0, 1, 0,\n",
       "       1, 1, 1, 1, 0, 0, 1, 1, 1, 1, 0, 0, 0, 0, 1, 0, 0, 1, 1, 0, 0, 0,\n",
       "       1, 0, 1, 1, 1, 1, 0, 0, 0, 1, 0, 1, 0, 0, 1, 1, 0, 1, 1, 1, 1, 0,\n",
       "       1, 0, 0, 1, 0, 1, 0, 1, 1, 0, 1, 0, 1, 1, 0, 0, 0, 1, 1, 0, 1, 1,\n",
       "       1, 0, 1, 0, 1, 1, 1, 0, 1, 0, 0, 1, 1, 1, 1, 1, 0, 1, 1, 0, 0, 0,\n",
       "       0, 1, 1, 1, 0, 0, 0, 0, 1, 1, 1, 0, 1, 0, 0, 0, 1, 0, 0, 1, 0, 1,\n",
       "       0, 1, 0, 0, 1, 0, 0, 0, 0, 1, 1, 0, 0, 0, 0, 0, 1, 0, 0, 1, 0, 0,\n",
       "       0, 0, 0, 0, 1, 0, 1, 1, 0, 1, 1, 0, 0, 0, 0, 1, 1, 0, 1, 1, 1, 1,\n",
       "       1, 0, 0, 0, 0, 0, 1, 0, 0, 0, 1, 1, 0, 1, 1, 1, 1, 1, 0, 0, 0, 0,\n",
       "       0, 0, 0, 0, 0, 0, 1, 1, 1, 1, 1, 0, 0, 0, 1, 0, 0, 0, 0, 0, 0, 1,\n",
       "       1, 1, 1, 0, 1, 1, 1, 1, 0, 1, 0, 1, 1, 1, 1, 0, 0, 0, 0, 0, 0, 0,\n",
       "       1, 0, 0, 0, 1, 0, 0, 0, 0, 1, 0, 1, 1, 0, 1, 1, 0, 0, 1, 1, 0, 1,\n",
       "       0, 0, 0, 1, 1, 1, 1, 0, 0, 0, 1, 1, 0, 0, 0, 1, 0, 0, 1, 1, 1, 0,\n",
       "       1, 1, 1, 0, 1, 1, 1, 0, 1, 1, 0, 0, 1, 1, 0, 0, 1, 0, 0, 0, 0, 1,\n",
       "       0, 0, 1, 0, 0, 0, 0, 1, 0, 1, 1, 1, 0, 0, 1, 0, 1, 1, 0, 0, 0, 0,\n",
       "       0, 0, 1, 1, 1, 0, 0, 0, 0, 0, 1, 1, 1, 0, 0, 0, 0, 1, 0, 0, 0, 0,\n",
       "       1, 0, 1, 0, 1, 1, 0, 1, 0, 1, 1, 1, 0, 1, 1, 1, 1, 0, 1, 0, 1, 1,\n",
       "       0, 1, 1, 1, 0, 1, 0, 1, 1, 1, 1, 0, 0, 1, 1, 0, 1, 1, 1, 1, 1])"
      ]
     },
     "execution_count": 231,
     "metadata": {},
     "output_type": "execute_result"
    }
   ],
   "source": [
    "#look at Logistic Regression Coefficients - Can we determine which words they came from?\n",
    "    #logistic regresssion\n",
    "    #instatiate standard scaler\n",
    "    \n",
    "# use: X_train_vect_df, X_test_vect_df\n",
    "ss = StandardScaler()\n",
    "X_train_sc = ss.fit_transform(X_train_vect_df)\n",
    "X_test_sc = ss.transform(X_test_vect_df)\n",
    "    \n",
    "    #instantiate Logistic Regression\n",
    "lr = LogisticRegression(random_state=203)\n",
    "    \n",
    "    #fit logistic regression model\n",
    "lr.fit(X_train_sc, y_train)\n",
    "lr.predict(X_test_vect_df)"
   ]
  },
  {
   "cell_type": "code",
   "execution_count": 237,
   "metadata": {},
   "outputs": [
    {
     "data": {
      "text/plain": [
       "Index(['abandonded', 'abeon', 'able', 'absolute', 'absolutely', 'absurd',\n",
       "       'abu', 'acceptance', 'accepted', 'accepting',\n",
       "       ...\n",
       "       'yesterday', 'yi', 'young', 'youtube', 'youtuber', 'yr', 'yule',\n",
       "       'zealand', 'zinn', 'zirakzigil'],\n",
       "      dtype='object', length=2637)"
      ]
     },
     "execution_count": 237,
     "metadata": {},
     "output_type": "execute_result"
    }
   ],
   "source": [
    "X_test_vect_df.columns"
   ]
  },
  {
   "cell_type": "code",
   "execution_count": 239,
   "metadata": {},
   "outputs": [],
   "source": [
    "lemmed_coefs_df = pd.DataFrame({'columns': X_test_vect_df.columns, 'lem_coefs': [lr.coef_[0][i] for i in list(range(len(lr.coef_[0])))]})"
   ]
  },
  {
   "cell_type": "code",
   "execution_count": 242,
   "metadata": {},
   "outputs": [
    {
     "data": {
      "text/html": [
       "<div>\n",
       "<style scoped>\n",
       "    .dataframe tbody tr th:only-of-type {\n",
       "        vertical-align: middle;\n",
       "    }\n",
       "\n",
       "    .dataframe tbody tr th {\n",
       "        vertical-align: top;\n",
       "    }\n",
       "\n",
       "    .dataframe thead th {\n",
       "        text-align: right;\n",
       "    }\n",
       "</style>\n",
       "<table border=\"1\" class=\"dataframe\">\n",
       "  <thead>\n",
       "    <tr style=\"text-align: right;\">\n",
       "      <th></th>\n",
       "      <th>columns</th>\n",
       "      <th>lem_coefs</th>\n",
       "    </tr>\n",
       "  </thead>\n",
       "  <tbody>\n",
       "    <tr>\n",
       "      <th>2162</th>\n",
       "      <td>spoiler</td>\n",
       "      <td>2.337995</td>\n",
       "    </tr>\n",
       "    <tr>\n",
       "      <th>751</th>\n",
       "      <td>extended</td>\n",
       "      <td>1.291492</td>\n",
       "    </tr>\n",
       "    <tr>\n",
       "      <th>1355</th>\n",
       "      <td>main</td>\n",
       "      <td>0.839685</td>\n",
       "    </tr>\n",
       "    <tr>\n",
       "      <th>1802</th>\n",
       "      <td>published</td>\n",
       "      <td>0.487774</td>\n",
       "    </tr>\n",
       "    <tr>\n",
       "      <th>243</th>\n",
       "      <td>blood</td>\n",
       "      <td>0.324078</td>\n",
       "    </tr>\n",
       "  </tbody>\n",
       "</table>\n",
       "</div>"
      ],
      "text/plain": [
       "        columns  lem_coefs\n",
       "2162    spoiler   2.337995\n",
       "751    extended   1.291492\n",
       "1355       main   0.839685\n",
       "1802  published   0.487774\n",
       "243       blood   0.324078"
      ]
     },
     "execution_count": 242,
     "metadata": {},
     "output_type": "execute_result"
    }
   ],
   "source": [
    "lemmed_coefs_df.sort_values('lem_coefs', ascending = False).head(5)"
   ]
  },
  {
   "cell_type": "code",
   "execution_count": 243,
   "metadata": {},
   "outputs": [
    {
     "data": {
      "text/html": [
       "<div>\n",
       "<style scoped>\n",
       "    .dataframe tbody tr th:only-of-type {\n",
       "        vertical-align: middle;\n",
       "    }\n",
       "\n",
       "    .dataframe tbody tr th {\n",
       "        vertical-align: top;\n",
       "    }\n",
       "\n",
       "    .dataframe thead th {\n",
       "        text-align: right;\n",
       "    }\n",
       "</style>\n",
       "<table border=\"1\" class=\"dataframe\">\n",
       "  <thead>\n",
       "    <tr style=\"text-align: right;\">\n",
       "      <th></th>\n",
       "      <th>columns</th>\n",
       "      <th>lem_coefs</th>\n",
       "    </tr>\n",
       "  </thead>\n",
       "  <tbody>\n",
       "    <tr>\n",
       "      <th>1489</th>\n",
       "      <td>movie</td>\n",
       "      <td>-0.246145</td>\n",
       "    </tr>\n",
       "    <tr>\n",
       "      <th>2490</th>\n",
       "      <td>version</td>\n",
       "      <td>-0.225414</td>\n",
       "    </tr>\n",
       "    <tr>\n",
       "      <th>1986</th>\n",
       "      <td>sauron</td>\n",
       "      <td>-0.201635</td>\n",
       "    </tr>\n",
       "    <tr>\n",
       "      <th>669</th>\n",
       "      <td>edition</td>\n",
       "      <td>-0.179102</td>\n",
       "    </tr>\n",
       "    <tr>\n",
       "      <th>2519</th>\n",
       "      <td>wallpaper</td>\n",
       "      <td>-0.176403</td>\n",
       "    </tr>\n",
       "  </tbody>\n",
       "</table>\n",
       "</div>"
      ],
      "text/plain": [
       "        columns  lem_coefs\n",
       "1489      movie  -0.246145\n",
       "2490    version  -0.225414\n",
       "1986     sauron  -0.201635\n",
       "669     edition  -0.179102\n",
       "2519  wallpaper  -0.176403"
      ]
     },
     "execution_count": 243,
     "metadata": {},
     "output_type": "execute_result"
    }
   ],
   "source": [
    "lemmed_coefs_df.sort_values('lem_coefs').head(5)"
   ]
  },
  {
   "cell_type": "markdown",
   "metadata": {},
   "source": [
    "#### More exclusive lemmatization - remove the words with coefficients > |1|"
   ]
  },
  {
   "cell_type": "code",
   "execution_count": 246,
   "metadata": {},
   "outputs": [],
   "source": [
    "#rewrite functions to include: 'spoilers', 'extended'\n",
    "def lemmatized_column(df, col):\n",
    "    lemmatized_col = []\n",
    "    for i in list(range(len(col))):\n",
    "        text = col[i]\n",
    "         # Remove non-letters        \n",
    "        letters_only = re.sub(\"[^a-zA-Z]\", \" \", text)\n",
    "        #\n",
    "        # Convert to lower case, split into individual words\n",
    "        words = letters_only.lower().split()\n",
    "        #\n",
    "        #convert the stop words to a set\n",
    "        stops = set(stopwords.words('english')) \n",
    "        # \n",
    "        # Remove stop words\n",
    "        meaningful_words = [w for w in words if not w in stops]\n",
    "        #\n",
    "        #exclude some key words\n",
    "        new_stops = ['lotr', 'asoiaf', \n",
    "                     'lord', 'rings', \n",
    "                     'ring', 'game', \n",
    "                     'throne', 'thrones',\n",
    "                     'extended', 'spoilers']\n",
    "        more_meaningful_words = [w for w in meaningful_words if not w in new_stops]\n",
    "        #\n",
    "        lemmed_words = [lemmatizer.lemmatize(i) for i in more_meaningful_words]\n",
    "        #Join the words back into one string separated by space, \n",
    "        # \n",
    "        joined_words = ' '.join(lemmed_words)\n",
    "        lemmatized_col.append(joined_words)\n",
    "        \n",
    "    df['lemmatized'] = lemmatized_col\n",
    "    return lemmatized_col"
   ]
  },
  {
   "cell_type": "code",
   "execution_count": 247,
   "metadata": {},
   "outputs": [],
   "source": [
    "#Add lemmatized column with basix removal of words also associated with \n",
    "new_column_2 = lemmatized_column(df, df.title)"
   ]
  },
  {
   "cell_type": "code",
   "execution_count": 248,
   "metadata": {},
   "outputs": [],
   "source": [
    "df.to_csv('./updated_lemmatized_column_added.csv', index = False)"
   ]
  },
  {
   "cell_type": "markdown",
   "metadata": {},
   "source": [
    "#### Using CountVectorization on newly Lemmatized column"
   ]
  },
  {
   "cell_type": "code",
   "execution_count": 251,
   "metadata": {},
   "outputs": [
    {
     "name": "stderr",
     "output_type": "stream",
     "text": [
      "/Users/edithiyerhernandez/anaconda3/lib/python3.6/site-packages/sklearn/preprocessing/data.py:617: DataConversionWarning: Data with input dtype int64 were all converted to float64 by StandardScaler.\n",
      "  return self.partial_fit(X, y)\n",
      "/Users/edithiyerhernandez/anaconda3/lib/python3.6/site-packages/sklearn/base.py:462: DataConversionWarning: Data with input dtype int64 were all converted to float64 by StandardScaler.\n",
      "  return self.fit(X, **fit_params).transform(X)\n",
      "/Users/edithiyerhernandez/anaconda3/lib/python3.6/site-packages/ipykernel_launcher.py:9: DataConversionWarning: Data with input dtype int64 were all converted to float64 by StandardScaler.\n",
      "  if __name__ == '__main__':\n"
     ]
    },
    {
     "name": "stdout",
     "output_type": "stream",
     "text": [
      "running logistic regresssion\n",
      "Confusion Matrix for Logistic Regression:\n",
      "[[230  18]\n",
      " [ 41 194]]\n",
      "running Decision Tree classifier\n",
      "Confusion Matrix for Decision Tree Classifier:\n",
      "[[229  19]\n",
      " [ 46 189]]\n",
      "running Bagging Classifier\n",
      "Confusion Matrix for Bagging Classifier:\n",
      "[[238  10]\n",
      " [ 54 181]]\n",
      "running ADA Boost Classifier\n",
      "Confusion Matrix for ADA Boost Classifier:\n",
      "[[246   2]\n",
      " [ 90 145]]\n",
      "running Random Forest Classifier\n",
      "Confusion Matrix for Random Forest Classifier:\n",
      "[[238  10]\n",
      " [ 52 183]]\n"
     ]
    },
    {
     "data": {
      "text/plain": [
       "[{'model': 'Logistic Regression, basic count vectorization',\n",
       "  'train score': 1.0,\n",
       "  'test score': 0.9958592132505176},\n",
       " {'model': 'Decision Tree, basic count vectorization',\n",
       "  'train score': 1.0,\n",
       "  'test score': 0.9979296066252588},\n",
       " {'model': 'Bagging Classifier, basic count vectorization',\n",
       "  'train score': 1.0,\n",
       "  'test score': 0.9979296066252588},\n",
       " {'model': 'ADA Boost Classifierbasic count vectorization',\n",
       "  'train score': 1.0,\n",
       "  'test score': 0.9979296066252588},\n",
       " {'model': 'Random Forest Classifier, basic count vectorization',\n",
       "  'train score': 1.0,\n",
       "  'test score': 0.9979296066252588},\n",
       " {'model': 'Logistic Regression, custom lemmatizing',\n",
       "  'train score': 1.0,\n",
       "  'test score': 0.9958592132505176},\n",
       " {'model': 'Decision Tree, custom lemmatizing',\n",
       "  'train score': 1.0,\n",
       "  'test score': 0.9979296066252588},\n",
       " {'model': 'Bagging Classifier, custom lemmatizing',\n",
       "  'train score': 1.0,\n",
       "  'test score': 0.9979296066252588},\n",
       " {'model': 'ADA Boost Classifiercustom lemmatizing',\n",
       "  'train score': 1.0,\n",
       "  'test score': 0.9979296066252588},\n",
       " {'model': 'Random Forest Classifier, custom lemmatizing',\n",
       "  'train score': 1.0,\n",
       "  'test score': 0.9958592132505176},\n",
       " {'model': 'Logistic Regression, custom lemmatizing',\n",
       "  'train score': 0.9986178299930891,\n",
       "  'test score': 0.8778467908902692},\n",
       " {'model': 'Decision Tree, custom lemmatizing',\n",
       "  'train score': 0.9986178299930891,\n",
       "  'test score': 0.865424430641822},\n",
       " {'model': 'Bagging Classifier, custom lemmatizing',\n",
       "  'train score': 0.986869384934347,\n",
       "  'test score': 0.8674948240165632},\n",
       " {'model': 'ADA Boost Classifiercustom lemmatizing',\n",
       "  'train score': 0.8410504492052523,\n",
       "  'test score': 0.8095238095238095},\n",
       " {'model': 'Random Forest Classifier, custom lemmatizing',\n",
       "  'train score': 0.986869384934347,\n",
       "  'test score': 0.8716356107660456}]"
      ]
     },
     "execution_count": 251,
     "metadata": {},
     "output_type": "execute_result"
    }
   ],
   "source": [
    "#Train Test Split for entire DF of interest so that can append \n",
    "features = ['num_comments', 'score', 'selftext', 'title', 'text_length', 'title_length', 'lemmatized']\n",
    "X = df[features]\n",
    "y = df['y_value']\n",
    "\n",
    "X_train, X_test, y_train, y_test = train_test_split(X, y, random_state = 42, stratify=y)\n",
    "#Instantiate CountVectorizer\n",
    "vect = CountVectorizer(stop_words='english')\n",
    "\n",
    "#fit vect on X_train['title']\n",
    "vect.fit(X_train['lemmatized'])\n",
    "X_train_vect = vect.transform(X_train['lemmatized'])\n",
    "X_test_vect = vect.transform(X_test['lemmatized'])\n",
    "\n",
    "X_train_vect_df = pd.DataFrame(X_train_vect.todense(), columns=vect.get_feature_names())\n",
    "#here we can go back and append the other features we might want to use in our model\n",
    "X_test_vect_df = pd.DataFrame(X_test_vect.todense(), columns=vect.get_feature_names())\n",
    "\n",
    "#iterate through each model to inspect the accuracy scores\n",
    "model_iteration(X_train_vect_df, X_test_vect_df, y_train, y_test, 'custom lemmatizing')"
   ]
  },
  {
   "cell_type": "markdown",
   "metadata": {},
   "source": [
    "The removal of two words: 'spoilers' and 'extended' led to a significant decrease in accuracy. The dataframe below shows that the top models were logisitc regression and Random Forest Classifier. After inspecting the logistic regression coefficients, we will move on to try and optimize a Random Forest Classifier model and a Decision Tree Classifier model. "
   ]
  },
  {
   "cell_type": "code",
   "execution_count": 252,
   "metadata": {
    "scrolled": true
   },
   "outputs": [
    {
     "data": {
      "text/html": [
       "<div>\n",
       "<style scoped>\n",
       "    .dataframe tbody tr th:only-of-type {\n",
       "        vertical-align: middle;\n",
       "    }\n",
       "\n",
       "    .dataframe tbody tr th {\n",
       "        vertical-align: top;\n",
       "    }\n",
       "\n",
       "    .dataframe thead th {\n",
       "        text-align: right;\n",
       "    }\n",
       "</style>\n",
       "<table border=\"1\" class=\"dataframe\">\n",
       "  <thead>\n",
       "    <tr style=\"text-align: right;\">\n",
       "      <th></th>\n",
       "      <th>model</th>\n",
       "      <th>test score</th>\n",
       "      <th>train score</th>\n",
       "    </tr>\n",
       "  </thead>\n",
       "  <tbody>\n",
       "    <tr>\n",
       "      <th>0</th>\n",
       "      <td>Logistic Regression, basic count vectorization</td>\n",
       "      <td>0.995859</td>\n",
       "      <td>1.000000</td>\n",
       "    </tr>\n",
       "    <tr>\n",
       "      <th>1</th>\n",
       "      <td>Decision Tree, basic count vectorization</td>\n",
       "      <td>0.997930</td>\n",
       "      <td>1.000000</td>\n",
       "    </tr>\n",
       "    <tr>\n",
       "      <th>2</th>\n",
       "      <td>Bagging Classifier, basic count vectorization</td>\n",
       "      <td>0.997930</td>\n",
       "      <td>1.000000</td>\n",
       "    </tr>\n",
       "    <tr>\n",
       "      <th>3</th>\n",
       "      <td>ADA Boost Classifierbasic count vectorization</td>\n",
       "      <td>0.997930</td>\n",
       "      <td>1.000000</td>\n",
       "    </tr>\n",
       "    <tr>\n",
       "      <th>4</th>\n",
       "      <td>Random Forest Classifier, basic count vectoriz...</td>\n",
       "      <td>0.997930</td>\n",
       "      <td>1.000000</td>\n",
       "    </tr>\n",
       "    <tr>\n",
       "      <th>5</th>\n",
       "      <td>Logistic Regression, custom lemmatizing</td>\n",
       "      <td>0.995859</td>\n",
       "      <td>1.000000</td>\n",
       "    </tr>\n",
       "    <tr>\n",
       "      <th>6</th>\n",
       "      <td>Decision Tree, custom lemmatizing</td>\n",
       "      <td>0.997930</td>\n",
       "      <td>1.000000</td>\n",
       "    </tr>\n",
       "    <tr>\n",
       "      <th>7</th>\n",
       "      <td>Bagging Classifier, custom lemmatizing</td>\n",
       "      <td>0.997930</td>\n",
       "      <td>1.000000</td>\n",
       "    </tr>\n",
       "    <tr>\n",
       "      <th>8</th>\n",
       "      <td>ADA Boost Classifiercustom lemmatizing</td>\n",
       "      <td>0.997930</td>\n",
       "      <td>1.000000</td>\n",
       "    </tr>\n",
       "    <tr>\n",
       "      <th>9</th>\n",
       "      <td>Random Forest Classifier, custom lemmatizing</td>\n",
       "      <td>0.995859</td>\n",
       "      <td>1.000000</td>\n",
       "    </tr>\n",
       "    <tr>\n",
       "      <th>10</th>\n",
       "      <td>Logistic Regression, custom lemmatizing</td>\n",
       "      <td>0.877847</td>\n",
       "      <td>0.998618</td>\n",
       "    </tr>\n",
       "    <tr>\n",
       "      <th>11</th>\n",
       "      <td>Decision Tree, custom lemmatizing</td>\n",
       "      <td>0.865424</td>\n",
       "      <td>0.998618</td>\n",
       "    </tr>\n",
       "    <tr>\n",
       "      <th>12</th>\n",
       "      <td>Bagging Classifier, custom lemmatizing</td>\n",
       "      <td>0.867495</td>\n",
       "      <td>0.986869</td>\n",
       "    </tr>\n",
       "    <tr>\n",
       "      <th>13</th>\n",
       "      <td>ADA Boost Classifiercustom lemmatizing</td>\n",
       "      <td>0.809524</td>\n",
       "      <td>0.841050</td>\n",
       "    </tr>\n",
       "    <tr>\n",
       "      <th>14</th>\n",
       "      <td>Random Forest Classifier, custom lemmatizing</td>\n",
       "      <td>0.871636</td>\n",
       "      <td>0.986869</td>\n",
       "    </tr>\n",
       "  </tbody>\n",
       "</table>\n",
       "</div>"
      ],
      "text/plain": [
       "                                                model  test score  train score\n",
       "0      Logistic Regression, basic count vectorization    0.995859     1.000000\n",
       "1            Decision Tree, basic count vectorization    0.997930     1.000000\n",
       "2       Bagging Classifier, basic count vectorization    0.997930     1.000000\n",
       "3       ADA Boost Classifierbasic count vectorization    0.997930     1.000000\n",
       "4   Random Forest Classifier, basic count vectoriz...    0.997930     1.000000\n",
       "5             Logistic Regression, custom lemmatizing    0.995859     1.000000\n",
       "6                   Decision Tree, custom lemmatizing    0.997930     1.000000\n",
       "7              Bagging Classifier, custom lemmatizing    0.997930     1.000000\n",
       "8              ADA Boost Classifiercustom lemmatizing    0.997930     1.000000\n",
       "9        Random Forest Classifier, custom lemmatizing    0.995859     1.000000\n",
       "10            Logistic Regression, custom lemmatizing    0.877847     0.998618\n",
       "11                  Decision Tree, custom lemmatizing    0.865424     0.998618\n",
       "12             Bagging Classifier, custom lemmatizing    0.867495     0.986869\n",
       "13             ADA Boost Classifiercustom lemmatizing    0.809524     0.841050\n",
       "14       Random Forest Classifier, custom lemmatizing    0.871636     0.986869"
      ]
     },
     "execution_count": 252,
     "metadata": {},
     "output_type": "execute_result"
    }
   ],
   "source": [
    "pd.DataFrame(model_scores)"
   ]
  },
  {
   "cell_type": "markdown",
   "metadata": {},
   "source": [
    "Logistic Regression to determine coeffients"
   ]
  },
  {
   "cell_type": "code",
   "execution_count": 254,
   "metadata": {},
   "outputs": [
    {
     "name": "stderr",
     "output_type": "stream",
     "text": [
      "/Users/edithiyerhernandez/anaconda3/lib/python3.6/site-packages/sklearn/preprocessing/data.py:617: DataConversionWarning: Data with input dtype int64 were all converted to float64 by StandardScaler.\n",
      "  return self.partial_fit(X, y)\n",
      "/Users/edithiyerhernandez/anaconda3/lib/python3.6/site-packages/sklearn/base.py:462: DataConversionWarning: Data with input dtype int64 were all converted to float64 by StandardScaler.\n",
      "  return self.fit(X, **fit_params).transform(X)\n",
      "/Users/edithiyerhernandez/anaconda3/lib/python3.6/site-packages/ipykernel_launcher.py:8: DataConversionWarning: Data with input dtype int64 were all converted to float64 by StandardScaler.\n",
      "  \n"
     ]
    },
    {
     "data": {
      "text/plain": [
       "array([0, 1, 1, 0, 0, 1, 1, 0, 1, 1, 1, 0, 0, 0, 1, 1, 0, 0, 1, 1, 0, 1,\n",
       "       0, 1, 1, 1, 1, 1, 1, 0, 1, 0, 1, 1, 1, 1, 1, 1, 0, 1, 0, 0, 0, 0,\n",
       "       1, 0, 1, 1, 1, 1, 0, 1, 0, 0, 0, 0, 0, 0, 0, 0, 1, 0, 1, 1, 0, 0,\n",
       "       1, 0, 1, 1, 0, 1, 0, 0, 1, 1, 1, 0, 1, 0, 0, 0, 0, 0, 0, 1, 1, 0,\n",
       "       1, 0, 1, 1, 0, 0, 1, 1, 0, 0, 0, 1, 0, 1, 0, 0, 0, 0, 0, 0, 1, 0,\n",
       "       1, 1, 0, 1, 0, 0, 1, 1, 0, 0, 0, 0, 0, 1, 1, 0, 0, 1, 1, 0, 1, 0,\n",
       "       0, 0, 1, 1, 1, 0, 0, 0, 0, 1, 1, 1, 1, 0, 1, 0, 0, 1, 1, 1, 0, 0,\n",
       "       1, 0, 0, 1, 0, 1, 0, 1, 1, 1, 1, 0, 1, 1, 0, 0, 0, 1, 1, 0, 1, 0,\n",
       "       0, 0, 0, 0, 1, 0, 1, 0, 1, 0, 0, 1, 1, 1, 1, 1, 0, 1, 1, 0, 0, 0,\n",
       "       0, 1, 1, 0, 0, 0, 0, 0, 1, 1, 1, 0, 0, 0, 0, 0, 1, 0, 0, 1, 0, 1,\n",
       "       0, 1, 0, 0, 1, 0, 0, 0, 0, 1, 1, 0, 0, 0, 0, 0, 1, 0, 0, 1, 0, 0,\n",
       "       0, 0, 0, 0, 1, 0, 1, 1, 0, 0, 1, 0, 0, 0, 0, 1, 0, 0, 1, 0, 0, 1,\n",
       "       1, 0, 0, 0, 0, 0, 1, 0, 0, 0, 0, 1, 0, 0, 1, 1, 1, 1, 0, 1, 0, 0,\n",
       "       0, 0, 0, 0, 0, 0, 0, 1, 0, 0, 1, 0, 0, 0, 1, 1, 0, 1, 0, 0, 0, 0,\n",
       "       1, 1, 1, 0, 1, 1, 1, 1, 0, 1, 0, 1, 0, 1, 1, 0, 0, 0, 0, 0, 0, 0,\n",
       "       1, 0, 0, 1, 1, 0, 0, 0, 0, 1, 0, 0, 0, 0, 1, 1, 0, 0, 1, 1, 0, 1,\n",
       "       0, 0, 0, 1, 1, 0, 1, 1, 1, 0, 0, 1, 0, 1, 0, 1, 0, 0, 0, 1, 1, 0,\n",
       "       0, 1, 0, 0, 1, 1, 1, 0, 1, 1, 0, 1, 1, 1, 0, 0, 1, 0, 0, 0, 0, 1,\n",
       "       0, 0, 1, 0, 0, 0, 0, 1, 0, 1, 1, 1, 0, 0, 1, 0, 1, 1, 0, 0, 0, 0,\n",
       "       0, 0, 1, 1, 1, 0, 0, 0, 0, 0, 1, 1, 1, 0, 0, 0, 0, 1, 0, 0, 0, 0,\n",
       "       1, 0, 1, 0, 1, 1, 0, 1, 0, 1, 1, 0, 0, 1, 1, 1, 1, 1, 1, 0, 0, 1,\n",
       "       0, 1, 1, 0, 0, 0, 0, 1, 1, 1, 0, 0, 0, 0, 1, 0, 0, 1, 1, 1, 1])"
      ]
     },
     "execution_count": 254,
     "metadata": {},
     "output_type": "execute_result"
    }
   ],
   "source": [
    "#look at Logistic Regression Coefficients - Can we determine which words they came from?\n",
    "    #logistic regresssion\n",
    "    #instatiate standard scaler\n",
    "    \n",
    "# use: X_train_vect_df, X_test_vect_df\n",
    "ss = StandardScaler()\n",
    "X_train_sc = ss.fit_transform(X_train_vect_df)\n",
    "X_test_sc = ss.transform(X_test_vect_df)\n",
    "    \n",
    "    #instantiate Logistic Regression\n",
    "lr = LogisticRegression(random_state=203)\n",
    "    \n",
    "    #fit logistic regression model\n",
    "lr.fit(X_train_sc, y_train)\n",
    "lr.predict(X_test_vect_df)"
   ]
  },
  {
   "cell_type": "markdown",
   "metadata": {},
   "source": [
    "#### Data Frame of words and coefficients from logisitic regression after 2nd round of lemmatization."
   ]
  },
  {
   "cell_type": "code",
   "execution_count": 255,
   "metadata": {},
   "outputs": [],
   "source": [
    "new_lemmed_coefs_df = pd.DataFrame({'columns': X_test_vect_df.columns, 'new_lem_coefs': [lr.coef_[0][i] for i in list(range(len(lr.coef_[0])))]})"
   ]
  },
  {
   "cell_type": "code",
   "execution_count": 271,
   "metadata": {
    "scrolled": true
   },
   "outputs": [
    {
     "data": {
      "text/html": [
       "<div>\n",
       "<style scoped>\n",
       "    .dataframe tbody tr th:only-of-type {\n",
       "        vertical-align: middle;\n",
       "    }\n",
       "\n",
       "    .dataframe tbody tr th {\n",
       "        vertical-align: top;\n",
       "    }\n",
       "\n",
       "    .dataframe thead th {\n",
       "        text-align: right;\n",
       "    }\n",
       "</style>\n",
       "<table border=\"1\" class=\"dataframe\">\n",
       "  <thead>\n",
       "    <tr style=\"text-align: right;\">\n",
       "      <th></th>\n",
       "      <th>columns</th>\n",
       "      <th>new_lem_coefs</th>\n",
       "    </tr>\n",
       "  </thead>\n",
       "  <tbody>\n",
       "    <tr>\n",
       "      <th>1354</th>\n",
       "      <td>main</td>\n",
       "      <td>1.077615</td>\n",
       "    </tr>\n",
       "    <tr>\n",
       "      <th>243</th>\n",
       "      <td>blood</td>\n",
       "      <td>0.809214</td>\n",
       "    </tr>\n",
       "    <tr>\n",
       "      <th>2312</th>\n",
       "      <td>theory</td>\n",
       "      <td>0.652341</td>\n",
       "    </tr>\n",
       "    <tr>\n",
       "      <th>1801</th>\n",
       "      <td>published</td>\n",
       "      <td>0.648342</td>\n",
       "    </tr>\n",
       "    <tr>\n",
       "      <th>1204</th>\n",
       "      <td>jon</td>\n",
       "      <td>0.594635</td>\n",
       "    </tr>\n",
       "  </tbody>\n",
       "</table>\n",
       "</div>"
      ],
      "text/plain": [
       "        columns  new_lem_coefs\n",
       "1354       main       1.077615\n",
       "243       blood       0.809214\n",
       "2312     theory       0.652341\n",
       "1801  published       0.648342\n",
       "1204        jon       0.594635"
      ]
     },
     "execution_count": 271,
     "metadata": {},
     "output_type": "execute_result"
    }
   ],
   "source": [
    "new_lemmed_coefs_df.sort_values('new_lem_coefs', ascending=False).head()"
   ]
  },
  {
   "cell_type": "code",
   "execution_count": 258,
   "metadata": {},
   "outputs": [
    {
     "data": {
      "text/html": [
       "<div>\n",
       "<style scoped>\n",
       "    .dataframe tbody tr th:only-of-type {\n",
       "        vertical-align: middle;\n",
       "    }\n",
       "\n",
       "    .dataframe tbody tr th {\n",
       "        vertical-align: top;\n",
       "    }\n",
       "\n",
       "    .dataframe thead th {\n",
       "        text-align: right;\n",
       "    }\n",
       "</style>\n",
       "<table border=\"1\" class=\"dataframe\">\n",
       "  <thead>\n",
       "    <tr style=\"text-align: right;\">\n",
       "      <th></th>\n",
       "      <th>columns</th>\n",
       "      <th>new_lem_coefs</th>\n",
       "    </tr>\n",
       "  </thead>\n",
       "  <tbody>\n",
       "    <tr>\n",
       "      <th>1488</th>\n",
       "      <td>movie</td>\n",
       "      <td>-0.514807</td>\n",
       "    </tr>\n",
       "    <tr>\n",
       "      <th>1985</th>\n",
       "      <td>sauron</td>\n",
       "      <td>-0.456676</td>\n",
       "    </tr>\n",
       "    <tr>\n",
       "      <th>1053</th>\n",
       "      <td>hobbit</td>\n",
       "      <td>-0.363597</td>\n",
       "    </tr>\n",
       "    <tr>\n",
       "      <th>2518</th>\n",
       "      <td>wallpaper</td>\n",
       "      <td>-0.347685</td>\n",
       "    </tr>\n",
       "    <tr>\n",
       "      <th>382</th>\n",
       "      <td>christmas</td>\n",
       "      <td>-0.343257</td>\n",
       "    </tr>\n",
       "  </tbody>\n",
       "</table>\n",
       "</div>"
      ],
      "text/plain": [
       "        columns  new_lem_coefs\n",
       "1488      movie      -0.514807\n",
       "1985     sauron      -0.456676\n",
       "1053     hobbit      -0.363597\n",
       "2518  wallpaper      -0.347685\n",
       "382   christmas      -0.343257"
      ]
     },
     "execution_count": 258,
     "metadata": {},
     "output_type": "execute_result"
    }
   ],
   "source": [
    "new_lemmed_coefs_df.sort_values('new_lem_coefs').head()"
   ]
  },
  {
   "cell_type": "markdown",
   "metadata": {},
   "source": [
    "*** Look at which words had the highest coefficients ***"
   ]
  },
  {
   "cell_type": "code",
   "execution_count": 366,
   "metadata": {},
   "outputs": [],
   "source": [
    "asoiaf_coefs_columns = new_lemmed_coefs_df.sort_values('new_lem_coefs', ascending=False)['columns'][:19]"
   ]
  },
  {
   "cell_type": "code",
   "execution_count": 367,
   "metadata": {},
   "outputs": [],
   "source": [
    "all_coefs_columns = asoiaf_coefs_columns.append(new_lemmed_coefs_df.sort_values('new_lem_coefs', ascending=False)['columns'][-20:])"
   ]
  },
  {
   "cell_type": "code",
   "execution_count": 368,
   "metadata": {},
   "outputs": [],
   "source": [
    "asoiaf_coefs_values = new_lemmed_coefs_df.sort_values('new_lem_coefs', ascending=False)['new_lem_coefs'][:19]"
   ]
  },
  {
   "cell_type": "code",
   "execution_count": 369,
   "metadata": {},
   "outputs": [],
   "source": [
    "all_coefs_values = asoiaf_coefs_values.append(new_lemmed_coefs_df.sort_values('new_lem_coefs', ascending=False)['new_lem_coefs'][-20:])"
   ]
  },
  {
   "cell_type": "code",
   "execution_count": 370,
   "metadata": {},
   "outputs": [
    {
     "data": {
      "text/plain": [
       "array([ 1.07761495,  0.80921351,  0.6523411 ,  0.64834212,  0.59463513,\n",
       "        0.54951562,  0.52190234,  0.50969947,  0.48068934,  0.44968192,\n",
       "        0.42779907,  0.41526916,  0.40456103,  0.38873565,  0.37776638,\n",
       "        0.37705811,  0.37549762,  0.35991106,  0.35422695, -0.24999719,\n",
       "       -0.25173438, -0.2535004 , -0.25374615, -0.25564701, -0.26554132,\n",
       "       -0.27638106, -0.27807744, -0.28987268, -0.29401081, -0.29721701,\n",
       "       -0.30648744, -0.30944472, -0.32191938, -0.32215123, -0.34325727,\n",
       "       -0.3476847 , -0.36359694, -0.45667567, -0.51480722])"
      ]
     },
     "execution_count": 370,
     "metadata": {},
     "output_type": "execute_result"
    }
   ],
   "source": [
    "all_coefs_values.values"
   ]
  },
  {
   "cell_type": "code",
   "execution_count": 392,
   "metadata": {},
   "outputs": [
    {
     "name": "stderr",
     "output_type": "stream",
     "text": [
      "/Users/edithiyerhernandez/anaconda3/lib/python3.6/site-packages/matplotlib/cbook/__init__.py:424: MatplotlibDeprecationWarning: \n",
      "Passing one of 'on', 'true', 'off', 'false' as a boolean is deprecated; use an actual boolean (True/False) instead.\n",
      "  warn_deprecated(\"2.2\", \"Passing one of 'on', 'true', 'off', 'false' as a \"\n"
     ]
    },
    {
     "data": {
      "image/png": "[encoded data removed]",
      "text/plain": [
       "<Figure size 2160x1440 with 1 Axes>"
      ]
     },
     "metadata": {
      "needs_background": "light"
     },
     "output_type": "display_data"
    }
   ],
   "source": [
    "plt.style.use('seaborn-deep')\n",
    "plt.figure(figsize = (30, 20))\n",
    "plt.ylabel('Words Used in Model', fontdict={'fontsize': 26,'weight': 'bold'})\n",
    "plt.xlabel('Coefficients', fontdict={'fontsize': 26, 'weight': 'bold'})\n",
    "plt.title('Highest and Lowest Coefficients and \\n Associated Features from Logistic Regression Model', fontdict={'fontsize':28, 'weight': 'bold'})\n",
    "# We change the fontsize of minor ticks label \n",
    "plt.tick_params(axis='both', which='major', labelsize=20)\n",
    "plt.tick_params(axis='both', which='minor', labelsize=20)\n",
    "#ax.grid=False\n",
    "#plt.axis('off')\n",
    "plt.grid('off')\n",
    "plt.barh(\n",
    "    all_coefs_columns.values, \n",
    "    all_coefs_values.values, color='lightblue')\n",
    "plt.savefig('./Coeffiecients.png');"
   ]
  },
  {
   "cell_type": "markdown",
   "metadata": {},
   "source": [
    "### Tune Decision Tree and Random Forest Classifiers"
   ]
  },
  {
   "cell_type": "code",
   "execution_count": 310,
   "metadata": {},
   "outputs": [],
   "source": [
    "random_forest_gs_results = []"
   ]
  },
  {
   "cell_type": "code",
   "execution_count": 311,
   "metadata": {},
   "outputs": [],
   "source": [
    "#set cv to a k-fold object\n",
    "from sklearn.model_selection import KFold\n",
    "cv = KFold(n_splits = 5, random_state=203)"
   ]
  },
  {
   "cell_type": "code",
   "execution_count": 312,
   "metadata": {},
   "outputs": [],
   "source": [
    "#Create a function to grid search:\n",
    "#Create an empty list to store results\n",
    "random_forest_gs_results = []\n",
    "def gridsearch(X_train, y_train, mod, params, results_list):\n",
    "    #create an empty dictionary to store the results in \n",
    "    details = {}\n",
    "    #instantiate model from the mod input variable\n",
    "    model = mod()\n",
    "    \n",
    "    #Call the model\n",
    "    gs = GridSearchCV(model, param_grid = params, cv=cv) \n",
    "    #cv was defined earlier as cv = KFold(n_splits = 5, random_state = 203) to ensure random state)\n",
    "    \n",
    "    #fit model on the training data\n",
    "    gs.fit(X_train, y_train)\n",
    "\n",
    "    #add the information to a dictionary\n",
    "    details['best score, ' + str(mod)] = {gs.best_score_ : gs.best_params_}\n",
    "    \n",
    "    #append the dictionary to the list to store\n",
    "    results_list.append(details)\n",
    "    \n",
    "    \n",
    "    return results_list"
   ]
  },
  {
   "cell_type": "code",
   "execution_count": 323,
   "metadata": {},
   "outputs": [
    {
     "data": {
      "text/plain": [
       "[{\"best score, <class 'sklearn.ensemble.forest.RandomForestClassifier'>\": {0.8735314443676572: {'criterion': 'entropy',\n",
       "    'max_depth': None,\n",
       "    'min_samples_split': 2,\n",
       "    'n_estimators': 30}}},\n",
       " {\"best score, <class 'sklearn.ensemble.forest.RandomForestClassifier'>\": {0.8776779543883898: {'criterion': 'entropy',\n",
       "    'max_depth': None,\n",
       "    'min_samples_split': 5,\n",
       "    'n_estimators': 100}}},\n",
       " {\"best score, <class 'sklearn.ensemble.forest.RandomForestClassifier'>\": {0.8756046993780235: {'criterion': 'entropy',\n",
       "    'max_depth': None,\n",
       "    'min_samples_split': 2,\n",
       "    'n_estimators': 80}}},\n",
       " {\"best score, <class 'sklearn.ensemble.forest.RandomForestClassifier'>\": {0.8776779543883898: {'criterion': 'entropy',\n",
       "    'max_depth': None,\n",
       "    'min_samples_split': 5,\n",
       "    'n_estimators': 80}}}]"
      ]
     },
     "execution_count": 323,
     "metadata": {},
     "output_type": "execute_result"
    }
   ],
   "source": [
    "#Final Gridsearch for Random Forest\n",
    "params = {\n",
    "        'n_estimators': [80, 100, 120],\n",
    "        'max_depth': [None],\n",
    "        'min_samples_split': [2, 5, 10],\n",
    "        'criterion': ['gini', 'entropy'] \n",
    "}\n",
    "\n",
    "gridsearch(X_train_vect_df, y_train, RandomForestClassifier, params, random_forest_gs_results)"
   ]
  },
  {
   "cell_type": "markdown",
   "metadata": {},
   "source": [
    "-  The best `n_estimators` is at the high end of the possibilities, `max_depth` was ideal at `None` and `min_samples_split` was ideal at 2. We will alter the parameters around the idea of increasing `n_estimators` and `min_samples_split`.\n",
    "<br>\n",
    "<br>\n",
    "-  The second trial of the Random Forest GridSearchCV shows a slightly higher score - which is also higher than the initial score for RFC. We see that the `min_samples` went up to 5 but the `n_estimators` increased to 100.\n",
    "<br>\n",
    "<br>\n",
    "-  The third test found a slightly lower accuracy score a `max_depth` of None, a `min_samples_split` of 2 and the `n_estimators` equal to 80.\n",
    "<br>\n",
    "<br>\n",
    "-  The fourth test found an accuracy equal to the previous highest one, with a `min_samples_split` of 5 and `n_estimators` equal to 80."
   ]
  },
  {
   "cell_type": "code",
   "execution_count": 317,
   "metadata": {},
   "outputs": [],
   "source": [
    "tree_gs_results = []"
   ]
  },
  {
   "cell_type": "code",
   "execution_count": 324,
   "metadata": {
    "scrolled": true
   },
   "outputs": [
    {
     "data": {
      "text/plain": [
       "[{\"best score, <class 'sklearn.tree.tree.DecisionTreeClassifier'>\": {0.8147892190739461: {'criterion': 'gini',\n",
       "    'max_depth': None,\n",
       "    'max_features': 5,\n",
       "    'min_samples_split': 2}}},\n",
       " {\"best score, <class 'sklearn.tree.tree.DecisionTreeClassifier'>\": {0.8500345542501728: {'criterion': 'gini',\n",
       "    'max_depth': None,\n",
       "    'max_features': 20,\n",
       "    'min_samples_split': 5}}},\n",
       " {\"best score, <class 'sklearn.tree.tree.DecisionTreeClassifier'>\": {0.8375950241879752: {'criterion': 'gini',\n",
       "    'max_depth': None,\n",
       "    'max_features': 12,\n",
       "    'min_samples_split': 15}}},\n",
       " {\"best score, <class 'sklearn.tree.tree.DecisionTreeClassifier'>\": {0.8472702142363511: {'criterion': 'entropy',\n",
       "    'max_depth': None,\n",
       "    'max_features': 12,\n",
       "    'min_samples_split': 11}}},\n",
       " {\"best score, <class 'sklearn.tree.tree.DecisionTreeClassifier'>\": {0.8610919143054596: {'criterion': 'entropy',\n",
       "    'max_depth': None,\n",
       "    'max_features': None,\n",
       "    'min_samples_split': 2}}}]"
      ]
     },
     "execution_count": 324,
     "metadata": {},
     "output_type": "execute_result"
    }
   ],
   "source": [
    "#Decision Tree - 5th Run\n",
    "\n",
    "\n",
    "params = {\n",
    "        'max_depth': [None],\n",
    "        'max_features': [None, 15],\n",
    "        'criterion': ['gini', 'entropy'],\n",
    "        'min_samples_split': [2, 8]\n",
    "       \n",
    "}\n",
    "\n",
    "gridsearch(X_train_vect_df, y_train, DecisionTreeClassifier, params, tree_gs_results)"
   ]
  },
  {
   "cell_type": "markdown",
   "metadata": {},
   "source": [
    "The decision tree classifier model's best features were:\n",
    "<br>\n",
    "\n",
    "|Accuracy |0.861|\n",
    "|---        |---           |\n",
    "|Criterion   |Entropy|\n",
    "|Maximum Depth|None|\n",
    "|Maximum Features|None|\n",
    "|Minimum Samples Split|2|\n",
    "\n",
    "<br> \n",
    "While this model is lower than the results for the Random Forest Classifier and the Logistic Regression, it is not too much lower than those scores of 0.878."
   ]
  },
  {
   "cell_type": "markdown",
   "metadata": {},
   "source": [
    "#### ADA Boost Classifier Tuning"
   ]
  },
  {
   "cell_type": "code",
   "execution_count": 327,
   "metadata": {},
   "outputs": [],
   "source": [
    "ada_gs_results = []"
   ]
  },
  {
   "cell_type": "code",
   "execution_count": 328,
   "metadata": {},
   "outputs": [
    {
     "data": {
      "text/plain": [
       "[{\"best score, <class 'sklearn.ensemble.weight_boosting.AdaBoostClassifier'>\": {0.8403593642017968: {'learning_rate': 1,\n",
       "    'n_estimators': 150}}}]"
      ]
     },
     "execution_count": 328,
     "metadata": {},
     "output_type": "execute_result"
    }
   ],
   "source": [
    "params = {\n",
    "      'n_estimators': [50, 100, 150],\n",
    "      'learning_rate': [1, 3, 5]\n",
    "       \n",
    "}\n",
    "\n",
    "gridsearch(X_train_vect_df, y_train, AdaBoostClassifier, params, ada_gs_results)"
   ]
  },
  {
   "cell_type": "markdown",
   "metadata": {},
   "source": [
    "The ADA Boost Classifier showed consistently lower test accuracy scores than the other models, including decision tree and Random Forest. The train test split, however, showed less evidence of overfitting with a train score of 0.84 and a test score of 0.81. "
   ]
  },
  {
   "cell_type": "markdown",
   "metadata": {},
   "source": [
    "<a id=\"Evaluation\"></a>\n",
    "# Evaluation"
   ]
  },
  {
   "cell_type": "markdown",
   "metadata": {},
   "source": [
    "The two top models for consideration are Logistic Regression and Random Forest Classifier. Both of which were able to reach an accuracy score of 0.878. Logistic Regression required no tuning, whereas Random Forest Classification did require tuning. We may be able to explore continued tuning of hyper parameters for the Random Forest Classifier to improve results in the future."
   ]
  },
  {
   "cell_type": "markdown",
   "metadata": {},
   "source": [
    "<a id=\"Conclusion\"></a>\n",
    "## Conclusion and Recommendations\n",
    "The recommended model in this case is the Logistic Regression Model. The removal of the words \"Spoilers\" and \"Extended\" led to decreases in Accuracy for all models, but left Logisitic Regression as the top candidate. These words were unique to the Game of Thrones (asoiaf) subreddit - probably because the last installment of the saga will be released in April and the subreddit community is inclusive to all interested parties and therefore has \"spoiler warnings\" on specific posts. While Random Forest Classifier was able to be tuned to reach the same accuracy score as logistic regression, in this case, the simpler model is more logical to use. However, a more complicated problem might lend itself better to the RFC. \n",
    "<br>\n",
    "\n",
    "***Additional research might include:*** \n",
    " - Incorporating Numeric Features\n",
    "     - Number of comments\n",
    "     - Length of title\n",
    "     - Average length of title\n",
    "     - Score\n",
    " - Utilizing different vectorizers\n",
    "     - TF-IDF\n",
    "     - Hashing\n",
    " - Incorporating text of post content\n",
    "     - This is challenging because most posts from the Lord of the Rings subreddit did not have actual text posts. This would require dealing with empty posts as blank strings instead of null values. \n",
    " \n",
    " <br> \n",
    " \n",
    "It is also interesting to think about the background of the two series: LOTR was completed in 1955 whereas Game of Thrones has yet to be completed. This means that the fandoms are at different stages and from different generations. In the future, the two subreddit's may require a totally different classification model to distinguish between the two. "
   ]
  },
  {
   "cell_type": "markdown",
   "metadata": {},
   "source": []
  }
 ],
 "metadata": {
  "kernelspec": {
   "display_name": "Python 3",
   "language": "python",
   "name": "python3"
  },
  "language_info": {
   "codemirror_mode": {
    "name": "ipython",
    "version": 3
   },
   "file_extension": ".py",
   "mimetype": "text/x-python",
   "name": "python",
   "nbconvert_exporter": "python",
   "pygments_lexer": "ipython3",
   "version": "3.6.6"
  }
 },
 "nbformat": 4,
 "nbformat_minor": 2
}
